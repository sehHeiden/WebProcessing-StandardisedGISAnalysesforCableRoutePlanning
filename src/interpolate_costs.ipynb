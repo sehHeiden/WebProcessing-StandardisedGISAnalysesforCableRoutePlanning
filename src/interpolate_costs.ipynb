{
 "cells": [
  {
   "cell_type": "code",
   "execution_count": 1,
   "metadata": {
    "collapsed": true
   },
   "outputs": [],
   "source": [
    "from rioxarray import open_rasterio\n",
    "from rasterio.enums import Resampling\n",
    "from src.rules2weights import write_compressed\n",
    "from pathlib import Path"
   ]
  },
  {
   "cell_type": "markdown",
   "source": [
    "# Use a classical subsampling from higher resolution 5m to 10 m, with bilinear resampling"
   ],
   "metadata": {
    "collapsed": false
   }
  },
  {
   "cell_type": "code",
   "execution_count": 6,
   "outputs": [],
   "source": [
    "original_path = \".\\\\..\\\\results\\\\weights\\\\result_res_5_all_touched_False.tif\"\n",
    "final_resolution_path = \".\\\\..\\\\results\\\\weights\\\\result_res_100_all_touched_False.tif\"\n",
    "save_path = \".\\\\..\\\\results\\\\weights\\\\result_res_5_all_touched_False_downsampled_100.tif\""
   ],
   "metadata": {
    "collapsed": false
   }
  },
  {
   "cell_type": "code",
   "execution_count": 7,
   "outputs": [],
   "source": [
    "original_raster = open_rasterio(original_path)\n",
    "final_resolution_raster = open_rasterio(final_resolution_path)\n",
    "\n",
    "resampled_raster = original_raster.rio.reproject_match(final_resolution_raster, resampling=Resampling.bilinear)\n",
    "write_compressed(resampled_raster, save_path)"
   ],
   "metadata": {
    "collapsed": false
   }
  },
  {
   "cell_type": "markdown",
   "source": [
    "# Interpolate all_touched false and true with different odd values"
   ],
   "metadata": {
    "collapsed": false
   }
  },
  {
   "cell_type": "code",
   "execution_count": 8,
   "outputs": [],
   "source": [
    "all_touched_false_path = \".\\\\..\\\\results\\\\weights\\\\result_res_10_all_touched_False.tif\"\n",
    "all_touched_true_path = \".\\\\..\\\\results\\\\weights\\\\result_res_10_all_touched_True.tif\"\n",
    "\n",
    "all_touched_false_raster = open_rasterio(all_touched_false_path)\n",
    "all_touched_true_raster = open_rasterio(all_touched_true_path)"
   ],
   "metadata": {
    "collapsed": false
   }
  },
  {
   "cell_type": "code",
   "execution_count": 9,
   "outputs": [
    {
     "name": "stdout",
     "output_type": "stream",
     "text": [
      "false factor: 1, true factor: 1\n",
      "false factor: 2, true factor: 1\n",
      "false factor: 4, true factor: 1\n",
      "false factor: 8, true factor: 1\n",
      "false factor: 16, true factor: 1\n",
      "false factor: 32, true factor: 1\n",
      "false factor: 64, true factor: 1\n",
      "false factor: 128, true factor: 1\n"
     ]
    }
   ],
   "source": [
    "factors = ((1, 1),\n",
    "           (2, 1),\n",
    "           (4, 1),\n",
    "           (8, 1),\n",
    "           (16, 1),\n",
    "           (32, 1),\n",
    "           (64, 1),\n",
    "           (128, 1),\n",
    "           )\n",
    "\n",
    "for al_touched_false_factor, al_touched_true_factor in factors:\n",
    "\n",
    "    print(f\"false factor: {al_touched_false_factor}, true factor: {al_touched_true_factor}\")\n",
    "\n",
    "    all_touched_mixed_raster = all_touched_false_raster.copy()\n",
    "    all_touched_mixed_raster.data = (all_touched_false_raster.data * al_touched_false_factor + all_touched_true_raster.data * al_touched_true_factor)/ (al_touched_false_factor + al_touched_true_factor)\n",
    "    write_compressed(all_touched_mixed_raster, Path(f\".\\\\..\\\\results\\\\weights\\\\mixed_10_m\\\\result_res_10_all_touched_mixed_{al_touched_false_factor}_false_{al_touched_true_factor}_true.tif\"))"
   ],
   "metadata": {
    "collapsed": false
   }
  },
  {
   "cell_type": "code",
   "execution_count": null,
   "outputs": [],
   "source": [],
   "metadata": {
    "collapsed": false
   }
  }
 ],
 "metadata": {
  "kernelspec": {
   "display_name": "Python 3",
   "language": "python",
   "name": "python3"
  },
  "language_info": {
   "codemirror_mode": {
    "name": "ipython",
    "version": 2
   },
   "file_extension": ".py",
   "mimetype": "text/x-python",
   "name": "python",
   "nbconvert_exporter": "python",
   "pygments_lexer": "ipython2",
   "version": "2.7.6"
  }
 },
 "nbformat": 4,
 "nbformat_minor": 0
}
