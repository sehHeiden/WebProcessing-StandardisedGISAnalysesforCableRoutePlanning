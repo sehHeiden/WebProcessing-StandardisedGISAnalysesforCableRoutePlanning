{
 "cells": [
  {
   "cell_type": "markdown",
   "source": [
    "# measure the average minimum distance between two lines, or the zonal stats around each line's buffer"
   ],
   "metadata": {
    "collapsed": false
   }
  },
  {
   "cell_type": "code",
   "execution_count": 1,
   "outputs": [],
   "source": [
    "from geopandas import read_file, GeoSeries, GeoDataFrame\n",
    "from shapely.geometry import Point\n",
    "\n",
    "import numpy as np\n",
    "from rioxarray import open_rasterio\n",
    "from rasterstats import zonal_stats\n",
    "\n",
    "from pathlib import Path\n",
    "from xarray import DataArray\n",
    "from pandas import DataFrame\n",
    "from shapely.geometry import LineString, Polygon\n",
    "from shapely.validation import make_valid\n",
    "\n",
    "from src.rules2weights import write_compressed"
   ],
   "metadata": {
    "collapsed": false
   }
  },
  {
   "cell_type": "markdown",
   "source": [
    "# distances\n",
    "Distance between two paths\n",
    "## Distance between all touched True and All Touched False"
   ],
   "metadata": {
    "collapsed": false
   }
  },
  {
   "cell_type": "code",
   "execution_count": 2,
   "outputs": [],
   "source": [
    "def compute_line_distances(line1: LineString, line2: LineString) -> list:\n",
    "    return [Point(p).distance(line2) for p in line1.coords]"
   ],
   "metadata": {
    "collapsed": false
   }
  },
  {
   "cell_type": "code",
   "execution_count": 3,
   "outputs": [
    {
     "data": {
      "text/plain": "     Path lengths all touched false  Path lengths all touched true  \\\n5                      76136.340836                   78002.006658   \n10                     75430.100870                   77936.568748   \n25                     75422.854133                   78422.854133   \n50                     76135.021342                   70619.945583   \n100                    76283.807115                   74120.732103   \n\n     mean distances  max distances  \n5        146.446922    1333.014707  \n10       313.612446    1847.836573  \n25       337.306328    1909.188309  \n50       793.807567    3748.332963  \n100     1827.133061    6574.191966  ",
      "text/html": "<div>\n<style scoped>\n    .dataframe tbody tr th:only-of-type {\n        vertical-align: middle;\n    }\n\n    .dataframe tbody tr th {\n        vertical-align: top;\n    }\n\n    .dataframe thead th {\n        text-align: right;\n    }\n</style>\n<table border=\"1\" class=\"dataframe\">\n  <thead>\n    <tr style=\"text-align: right;\">\n      <th></th>\n      <th>Path lengths all touched false</th>\n      <th>Path lengths all touched true</th>\n      <th>mean distances</th>\n      <th>max distances</th>\n    </tr>\n  </thead>\n  <tbody>\n    <tr>\n      <th>5</th>\n      <td>76136.340836</td>\n      <td>78002.006658</td>\n      <td>146.446922</td>\n      <td>1333.014707</td>\n    </tr>\n    <tr>\n      <th>10</th>\n      <td>75430.100870</td>\n      <td>77936.568748</td>\n      <td>313.612446</td>\n      <td>1847.836573</td>\n    </tr>\n    <tr>\n      <th>25</th>\n      <td>75422.854133</td>\n      <td>78422.854133</td>\n      <td>337.306328</td>\n      <td>1909.188309</td>\n    </tr>\n    <tr>\n      <th>50</th>\n      <td>76135.021342</td>\n      <td>70619.945583</td>\n      <td>793.807567</td>\n      <td>3748.332963</td>\n    </tr>\n    <tr>\n      <th>100</th>\n      <td>76283.807115</td>\n      <td>74120.732103</td>\n      <td>1827.133061</td>\n      <td>6574.191966</td>\n    </tr>\n  </tbody>\n</table>\n</div>"
     },
     "execution_count": 3,
     "metadata": {},
     "output_type": "execute_result"
    }
   ],
   "source": [
    "resolutions = [5, 10, 25, 50, 100]\n",
    "\n",
    "least_cost_path_5_false = read_file(\"./../results/least_cost_paths/least_cost_path_test_points_res_5_al_false.json\")\n",
    "least_cost_path_5_false = least_cost_path_5_false.to_crs(25832)\n",
    "\n",
    "paths_false = [least_cost_path_5_false,\n",
    "               read_file(\"../results/least_cost_paths/least_cost_path_test_points_res_10_al_false.gpkg\"),\n",
    "               read_file(\"../results/least_cost_paths/least_cost_path_test_points_res_25_al_false.gpkg\"),\n",
    "               read_file(\"../results/least_cost_paths/least_cost_path_test_points_res_50_al_false.gpkg\"),\n",
    "               read_file(\"../results/least_cost_paths/least_cost_path_test_points_res_100_al_false.gpkg\")]\n",
    "paths_true = [read_file(\"./../results/least_cost_paths/least_cost_path_test_points_res_5_al_true.gpkg\"),\n",
    "              read_file(\"../results/least_cost_paths/least_cost_path_test_points_res_10_al_true.gpkg\"),\n",
    "              read_file(\"../results/least_cost_paths/least_cost_path_test_points_res_25_al_true.gpkg\"),\n",
    "              read_file(\"../results/least_cost_paths/least_cost_path_test_points_res_50_al_true.gpkg\"),\n",
    "              read_file(\"../results/least_cost_paths/least_cost_path_test_points_res_100_al_true.gpkg\")]\n",
    "\n",
    "path_lengths_false = [x.geometry.values[0].length for x in paths_false]\n",
    "path_lengths_true = [x.geometry.values[0].length for x in paths_true]\n",
    "\n",
    "distances = [compute_line_distances(t.geometry.values[0], f.geometry.values[0]) for f, t in\n",
    "             zip(paths_false, paths_true)]\n",
    "mean_distances = [np.mean(x) for x in distances]\n",
    "max_distances = [np.max(x) for x in distances]\n",
    "\n",
    "DataFrame({'Path lengths all touched false': path_lengths_false,\n",
    "           'Path lengths all touched true': path_lengths_true,\n",
    "           'mean distances': mean_distances,\n",
    "           'max distances': max_distances},\n",
    "          index=resolutions)"
   ],
   "metadata": {
    "collapsed": false
   }
  },
  {
   "cell_type": "markdown",
   "source": [],
   "metadata": {
    "collapsed": false
   }
  },
  {
   "cell_type": "markdown",
   "source": [
    "## distance - between path of 5m path, and paths from 5m down sampled\n",
    "and compared the path for the down sampled variant to the original one of the resolution"
   ],
   "metadata": {
    "collapsed": false
   }
  },
  {
   "cell_type": "code",
   "execution_count": 4,
   "outputs": [
    {
     "data": {
      "text/plain": "     Path lengths down sampled  mean distances to 5 m path  relative costs  \\\n10                75980.619569                   59.342459        94136.15   \n25                70205.265747                  385.787115        91844.35   \n50                69217.864055                  730.819050        92091.25   \n100               66667.869159                 1681.305176        91701.50   \n\n     mean distances to original resolution, false  \\\n10                                     219.349393   \n25                                     558.124307   \n50                                     693.422086   \n100                                   1605.632877   \n\n     mean distances to original resolution, true  \n10                                    143.633075  \n25                                    432.774864  \n50                                    255.695791  \n100                                   400.546818  ",
      "text/html": "<div>\n<style scoped>\n    .dataframe tbody tr th:only-of-type {\n        vertical-align: middle;\n    }\n\n    .dataframe tbody tr th {\n        vertical-align: top;\n    }\n\n    .dataframe thead th {\n        text-align: right;\n    }\n</style>\n<table border=\"1\" class=\"dataframe\">\n  <thead>\n    <tr style=\"text-align: right;\">\n      <th></th>\n      <th>Path lengths down sampled</th>\n      <th>mean distances to 5 m path</th>\n      <th>relative costs</th>\n      <th>mean distances to original resolution, false</th>\n      <th>mean distances to original resolution, true</th>\n    </tr>\n  </thead>\n  <tbody>\n    <tr>\n      <th>10</th>\n      <td>75980.619569</td>\n      <td>59.342459</td>\n      <td>94136.15</td>\n      <td>219.349393</td>\n      <td>143.633075</td>\n    </tr>\n    <tr>\n      <th>25</th>\n      <td>70205.265747</td>\n      <td>385.787115</td>\n      <td>91844.35</td>\n      <td>558.124307</td>\n      <td>432.774864</td>\n    </tr>\n    <tr>\n      <th>50</th>\n      <td>69217.864055</td>\n      <td>730.819050</td>\n      <td>92091.25</td>\n      <td>693.422086</td>\n      <td>255.695791</td>\n    </tr>\n    <tr>\n      <th>100</th>\n      <td>66667.869159</td>\n      <td>1681.305176</td>\n      <td>91701.50</td>\n      <td>1605.632877</td>\n      <td>400.546818</td>\n    </tr>\n  </tbody>\n</table>\n</div>"
     },
     "execution_count": 4,
     "metadata": {},
     "output_type": "execute_result"
    }
   ],
   "source": [
    "# original path 5 m resolution\n",
    "least_cost_path_5_false = read_file(\"./../results/least_cost_paths/least_cost_path_test_points_res_5_al_false.json\")\n",
    "least_cost_path_5_false = least_cost_path_5_false.to_crs(25832)\n",
    "\n",
    "down_sampled_resolutions = [10, 25, 50, 100]\n",
    "\n",
    "# paths from bi-linear down sampled  raster\n",
    "down_sampled = [read_file(\"..\\\\results\\\\least_cost_paths\\\\Downsampled\\\\least_cost_path_test_points_res_5_al_false_downsampled.gpkg\"),\n",
    "               read_file(\"..\\\\results\\\\least_cost_paths\\\\Downsampled\\\\least_cost_path_test_points_res_5_al_false_downsampled_25.gpkg\"),\n",
    "               read_file(\"..\\\\results\\\\least_cost_paths\\\\Downsampled\\\\least_cost_path_test_points_res_5_al_false_downsampled_50.gpkg\"),\n",
    "               read_file(\"..\\\\results\\\\least_cost_paths\\\\Downsampled\\\\least_cost_path_test_points_res_5_al_false_downsampled_100.gpkg\"),\n",
    "               ]\n",
    "path_lengths_downsampled = [x.geometry.values[0].length for x in down_sampled]\n",
    "\n",
    "# original paths, from lower resolution raster, all touched false\n",
    "original_false = [read_file(\"../results/least_cost_paths/least_cost_path_test_points_res_10_al_false.gpkg\"),\n",
    "                  read_file(\"../results/least_cost_paths/least_cost_path_test_points_res_25_al_false.gpkg\"),\n",
    "                  read_file(\"../results/least_cost_paths/least_cost_path_test_points_res_50_al_false.gpkg\"),\n",
    "                  read_file(\"../results/least_cost_paths/least_cost_path_test_points_res_100_al_false.gpkg\"),\n",
    "                 ]\n",
    "\n",
    "# original paths, from lower resolution raster, all touched false\n",
    "original_true = [read_file(\"../results/least_cost_paths/least_cost_path_test_points_res_10_al_true.gpkg\"),\n",
    "                  read_file(\"../results/least_cost_paths/least_cost_path_test_points_res_25_al_true.gpkg\"),\n",
    "                  read_file(\"../results/least_cost_paths/least_cost_path_test_points_res_50_al_true.gpkg\"),\n",
    "                  read_file(\"../results/least_cost_paths/least_cost_path_test_points_res_100_al_true.gpkg\"),\n",
    "                 ]\n",
    "\n",
    "distances_compared_to_5m = [compute_line_distances(d.geometry.values[0], least_cost_path_5_false.geometry.values[0]) for d in down_sampled]\n",
    "mean_distances_5m = [np.mean(x) for x in distances_compared_to_5m]\n",
    "\n",
    "distances_compared_to_original_false = [compute_line_distances(d.geometry.values[0], o.geometry.values[0]) for d, o in zip(down_sampled, original_false)]\n",
    "mean_distances_original_false = [np.mean(x) for x in distances_compared_to_original_false]\n",
    "\n",
    "distances_compared_to_original_true = [compute_line_distances(d.geometry.values[0], o.geometry.values[0]) for d, o in zip(down_sampled, original_true)]\n",
    "mean_distances_original_true = [np.mean(x) for x in distances_compared_to_original_true]\n",
    "\n",
    "\n",
    "DataFrame({'Path lengths down sampled': path_lengths_downsampled,\n",
    "           'mean distances to 5 m path': mean_distances_5m,\n",
    "           'relative costs': [x['total cost'][0]* res for x, res in zip(down_sampled, down_sampled_resolutions)],\n",
    "           'mean distances to original resolution, false': mean_distances_original_false,\n",
    "           'mean distances to original resolution, true': mean_distances_original_true},\n",
    "          index=down_sampled_resolutions)"
   ],
   "metadata": {
    "collapsed": false
   }
  },
  {
   "cell_type": "markdown",
   "source": [
    "## distance of paths from mixed all touched"
   ],
   "metadata": {
    "collapsed": false
   }
  },
  {
   "cell_type": "code",
   "execution_count": 8,
   "outputs": [
    {
     "data": {
      "text/plain": "     Path lengths down mixed  mean distances to 5 m path  relative costs  \\\n1               75948.436418                  119.601576        96871.42   \n2               76265.389877                   97.117364        94768.30   \n4               75960.953369                   40.130071        92935.42   \n8               76062.374725                   41.728524        91638.05   \n16              75979.532013                   56.690747        90836.73   \n32              76332.080353                   56.693706        90379.62   \n64              75448.892761                  163.479456        90111.35   \n128             75448.892761                  163.820110        89968.41   \n\n     mean distances to original resolution, false  \\\n1                                      285.501047   \n2                                      263.508125   \n4                                      206.375485   \n8                                      169.026848   \n16                                     153.313887   \n32                                     145.559320   \n64                                      10.612876   \n128                                     10.294056   \n\n     mean distances to original resolution, true  \n1                                      47.214291  \n2                                      74.191672  \n4                                     100.160364  \n8                                     137.341002  \n16                                    152.711868  \n32                                    162.089892  \n64                                    272.363191  \n128                                   272.706149  ",
      "text/html": "<div>\n<style scoped>\n    .dataframe tbody tr th:only-of-type {\n        vertical-align: middle;\n    }\n\n    .dataframe tbody tr th {\n        vertical-align: top;\n    }\n\n    .dataframe thead th {\n        text-align: right;\n    }\n</style>\n<table border=\"1\" class=\"dataframe\">\n  <thead>\n    <tr style=\"text-align: right;\">\n      <th></th>\n      <th>Path lengths down mixed</th>\n      <th>mean distances to 5 m path</th>\n      <th>relative costs</th>\n      <th>mean distances to original resolution, false</th>\n      <th>mean distances to original resolution, true</th>\n    </tr>\n  </thead>\n  <tbody>\n    <tr>\n      <th>1</th>\n      <td>75948.436418</td>\n      <td>119.601576</td>\n      <td>96871.42</td>\n      <td>285.501047</td>\n      <td>47.214291</td>\n    </tr>\n    <tr>\n      <th>2</th>\n      <td>76265.389877</td>\n      <td>97.117364</td>\n      <td>94768.30</td>\n      <td>263.508125</td>\n      <td>74.191672</td>\n    </tr>\n    <tr>\n      <th>4</th>\n      <td>75960.953369</td>\n      <td>40.130071</td>\n      <td>92935.42</td>\n      <td>206.375485</td>\n      <td>100.160364</td>\n    </tr>\n    <tr>\n      <th>8</th>\n      <td>76062.374725</td>\n      <td>41.728524</td>\n      <td>91638.05</td>\n      <td>169.026848</td>\n      <td>137.341002</td>\n    </tr>\n    <tr>\n      <th>16</th>\n      <td>75979.532013</td>\n      <td>56.690747</td>\n      <td>90836.73</td>\n      <td>153.313887</td>\n      <td>152.711868</td>\n    </tr>\n    <tr>\n      <th>32</th>\n      <td>76332.080353</td>\n      <td>56.693706</td>\n      <td>90379.62</td>\n      <td>145.559320</td>\n      <td>162.089892</td>\n    </tr>\n    <tr>\n      <th>64</th>\n      <td>75448.892761</td>\n      <td>163.479456</td>\n      <td>90111.35</td>\n      <td>10.612876</td>\n      <td>272.363191</td>\n    </tr>\n    <tr>\n      <th>128</th>\n      <td>75448.892761</td>\n      <td>163.820110</td>\n      <td>89968.41</td>\n      <td>10.294056</td>\n      <td>272.706149</td>\n    </tr>\n  </tbody>\n</table>\n</div>"
     },
     "execution_count": 8,
     "metadata": {},
     "output_type": "execute_result"
    }
   ],
   "source": [
    "# original path 5 m resolution\n",
    "least_cost_path_5_false = read_file(\"./../results/least_cost_paths/least_cost_path_test_points_res_5_al_false.json\")\n",
    "least_cost_path_5_false = least_cost_path_5_false.to_crs(25832)\n",
    "\n",
    "# original path, from lower resolution raster, all touched false\n",
    "least_cost_path_10_false = read_file(\"../results/least_cost_paths/least_cost_path_test_points_res_10_al_false.gpkg\")\n",
    "\n",
    "# original path, from lower resolution raster, all touched false\n",
    "least_cost_path_10_true = read_file(\"../results/least_cost_paths/least_cost_path_test_points_res_10_al_true.gpkg\")\n",
    "\n",
    "r_false = [1, 2, 4, 8, 16, 32, 64, 128]\n",
    "\n",
    "# paths from mixed all touched\n",
    "mixed = [read_file(\"..\\\\results\\\\least_cost_paths\\\\Mixed_10_m\\\\least_cost_path_test_points_res_10_al_mixed_1_1.gpkg\"),\n",
    "         read_file(\"..\\\\results\\\\least_cost_paths\\\\Mixed_10_m\\\\least_cost_path_test_points_res_10_al_mixed_2_1.gpkg\"),\n",
    "         read_file(\"..\\\\results\\\\least_cost_paths\\\\Mixed_10_m\\\\least_cost_path_test_points_res_10_al_mixed_4_1.gpkg\"),\n",
    "         read_file(\"..\\\\results\\\\least_cost_paths\\\\Mixed_10_m\\\\least_cost_path_test_points_res_10_al_mixed_8_1.gpkg\"),\n",
    "         read_file(\"..\\\\results\\\\least_cost_paths\\\\Mixed_10_m\\\\least_cost_path_test_points_res_10_al_mixed_16_1.gpkg\"),\n",
    "         read_file(\"..\\\\results\\\\least_cost_paths\\\\Mixed_10_m\\\\least_cost_path_test_points_res_10_al_mixed_32_1.gpkg\"),\n",
    "         read_file(\"..\\\\results\\\\least_cost_paths\\\\Mixed_10_m\\\\least_cost_path_test_points_res_10_al_mixed_64_1.gpkg\"),\n",
    "         read_file(\"..\\\\results\\\\least_cost_paths\\\\Mixed_10_m\\\\least_cost_path_test_points_res_10_al_mixed_128_1.gpkg\"),\n",
    "        ]\n",
    "path_lengths_mixed = [x.geometry.values[0].length for x in mixed]\n",
    "\n",
    "distances_compared_to_5m = [compute_line_distances(m.geometry.values[0], least_cost_path_5_false.geometry.values[0]) for m in mixed]\n",
    "mean_distances_5m = [np.mean(x) for x in distances_compared_to_5m]\n",
    "\n",
    "distances_compared_to_10m_false = [compute_line_distances(m.geometry.values[0], least_cost_path_10_false.geometry.values[0]) for m in mixed]\n",
    "mean_distances_10m_false = [np.mean(x) for x in distances_compared_to_10m_false]\n",
    "\n",
    "distances_compared_to_10m_true = [compute_line_distances(m.geometry.values[0], least_cost_path_10_true.geometry.values[0]) for m in mixed]\n",
    "mean_distances_10m_true = [np.mean(x) for x in distances_compared_to_10m_true]\n",
    "\n",
    "\n",
    "DataFrame({'Path lengths down mixed': path_lengths_mixed,\n",
    "           'mean distances to 5 m path': mean_distances_5m,\n",
    "           'relative costs': [x['total cost'][0]* 10 for x in mixed],\n",
    "           'mean distances to original resolution, false': mean_distances_10m_false,\n",
    "           'mean distances to original resolution, true': mean_distances_10m_true},\n",
    "          index=r_false)"
   ],
   "metadata": {
    "collapsed": false
   }
  },
  {
   "cell_type": "markdown",
   "source": [
    "# costs"
   ],
   "metadata": {
    "collapsed": false
   }
  },
  {
   "cell_type": "code",
   "execution_count": 5,
   "outputs": [
    {
     "data": {
      "text/plain": "     total costs false  total costs true  scaled total costs false  \\\n5            18665.923         19516.754                 93329.615   \n10            8931.245          9731.175                 89312.450   \n25            3354.869          3872.656                 83871.725   \n50            1409.023          2300.073                 70451.150   \n100            640.516          1572.268                 64051.600   \n\n     scaled total costs true  \n5                   97583.77  \n10                  97311.75  \n25                  96816.40  \n50                 115003.65  \n100                157226.80  ",
      "text/html": "<div>\n<style scoped>\n    .dataframe tbody tr th:only-of-type {\n        vertical-align: middle;\n    }\n\n    .dataframe tbody tr th {\n        vertical-align: top;\n    }\n\n    .dataframe thead th {\n        text-align: right;\n    }\n</style>\n<table border=\"1\" class=\"dataframe\">\n  <thead>\n    <tr style=\"text-align: right;\">\n      <th></th>\n      <th>total costs false</th>\n      <th>total costs true</th>\n      <th>scaled total costs false</th>\n      <th>scaled total costs true</th>\n    </tr>\n  </thead>\n  <tbody>\n    <tr>\n      <th>5</th>\n      <td>18665.923</td>\n      <td>19516.754</td>\n      <td>93329.615</td>\n      <td>97583.77</td>\n    </tr>\n    <tr>\n      <th>10</th>\n      <td>8931.245</td>\n      <td>9731.175</td>\n      <td>89312.450</td>\n      <td>97311.75</td>\n    </tr>\n    <tr>\n      <th>25</th>\n      <td>3354.869</td>\n      <td>3872.656</td>\n      <td>83871.725</td>\n      <td>96816.40</td>\n    </tr>\n    <tr>\n      <th>50</th>\n      <td>1409.023</td>\n      <td>2300.073</td>\n      <td>70451.150</td>\n      <td>115003.65</td>\n    </tr>\n    <tr>\n      <th>100</th>\n      <td>640.516</td>\n      <td>1572.268</td>\n      <td>64051.600</td>\n      <td>157226.80</td>\n    </tr>\n  </tbody>\n</table>\n</div>"
     },
     "execution_count": 5,
     "metadata": {},
     "output_type": "execute_result"
    }
   ],
   "source": [
    "least_cost_path_5_false = read_file(\"./../results/least_cost_paths/least_cost_path_test_points_res_5_al_false.json\")\n",
    "least_cost_path_5_false = least_cost_path_5_false.to_crs(25832)\n",
    "\n",
    "lcp_false = [least_cost_path_5_false,\n",
    "               read_file(\"../results/least_cost_paths/least_cost_path_test_points_res_10_al_false.gpkg\"),\n",
    "               read_file(\"../results/least_cost_paths/least_cost_path_test_points_res_25_al_false.gpkg\"),\n",
    "               read_file(\"../results/least_cost_paths/least_cost_path_test_points_res_50_al_false.gpkg\"),\n",
    "               read_file(\"../results/least_cost_paths/least_cost_path_test_points_res_100_al_false.gpkg\")]\n",
    "lcp_true = [read_file(\"./../results/least_cost_paths/least_cost_path_test_points_res_5_al_true.gpkg\"),\n",
    "              read_file(\"../results/least_cost_paths/least_cost_path_test_points_res_10_al_true.gpkg\"),\n",
    "              read_file(\"../results/least_cost_paths/least_cost_path_test_points_res_25_al_true.gpkg\"),\n",
    "              read_file(\"../results/least_cost_paths/least_cost_path_test_points_res_50_al_true.gpkg\"),\n",
    "              read_file(\"../results/least_cost_paths/least_cost_path_test_points_res_100_al_true.gpkg\")]\n",
    "\n",
    "resolutions = [5, 10, 25, 50, 100]\n",
    "total_costs_false = np.array([x['total cost'][0] for x in lcp_false])\n",
    "total_costs_true = np.array([x['total cost'][0] for x in lcp_true])\n",
    "delta_total_costs = total_costs_false - total_costs_true\n",
    "\n",
    "scaled_total_costs_false = np.array([x * y for x, y in zip(total_costs_false, resolutions)])\n",
    "scaled_total_costs_true = np.array([x * y for x, y in zip(total_costs_true, resolutions)])\n",
    "delta_scaled_costs = scaled_total_costs_false - scaled_total_costs_true\n",
    "\n",
    "lengths_false = np.array([x.geometry.length[0] for x in lcp_false])\n",
    "lengths_true = np.array([x.geometry.length[0] for x in lcp_true])\n",
    "delta_scaled_costs_per_length = delta_scaled_costs / np.array(\n",
    "    [x / 2 + y / 2 for x, y in zip(lengths_false, lengths_true)])\n",
    "\n",
    "DataFrame({\"total costs false\": total_costs_false,\n",
    "           \"total costs true\": total_costs_true,\n",
    "           \"scaled total costs false\": scaled_total_costs_false,\n",
    "           \"scaled total costs true\": scaled_total_costs_true,\n",
    "           },\n",
    "          index=resolutions)"
   ],
   "metadata": {
    "collapsed": false
   }
  },
  {
   "cell_type": "markdown",
   "source": [
    "# zonal stats\n",
    "## 5 m"
   ],
   "metadata": {
    "collapsed": false
   }
  },
  {
   "cell_type": "code",
   "execution_count": 6,
   "outputs": [],
   "source": [
    "def compute_zonal_stat_path(base_raster: DataArray, path: GeoSeries, buffer: float, _cmap):\n",
    "    stats = zonal_stats(path.buffer(buffer), base_raster.data[0],\n",
    "                        affine=base_raster.rio.transform(), nodata=base_raster.rio.nodata,\n",
    "                        categorical=True, category_map=_cmap)[0]\n",
    "\n",
    "    stat_sum = np.sum(list(stats.values()))\n",
    "    rel_stats = {k: (v / stat_sum * 100.0) for k, v in stats.items()}\n",
    "    return rel_stats"
   ],
   "metadata": {
    "collapsed": false
   }
  },
  {
   "cell_type": "code",
   "execution_count": 7,
   "outputs": [],
   "source": [
    "def show_zonal_data(f_100, f_5, t_100, t_5) -> DataFrame:\n",
    "    return DataFrame({'rel. statistic false buffer 100 m': f_100.values(),\n",
    "           'rel. statistic false buffer 5 m': f_5.values(),\n",
    "           'rel. statistic true buffer 100 m': t_100.values(),\n",
    "           'rel. statistic true buffer 5 m': t_5.values(),\n",
    "           },\n",
    "          index=f_100.keys())"
   ],
   "metadata": {
    "collapsed": false
   }
  },
  {
   "cell_type": "code",
   "execution_count": 8,
   "outputs": [
    {
     "data": {
      "text/plain": "                     rel. statistic false buffer 100 m  \\\nPreferential                                 19.036771   \nNo Restriction                               67.797856   \nRestricted                                    0.908588   \nStrongly Restricted                           0.733488   \nProhibited                                   11.523298   \n\n                     rel. statistic false buffer 5 m  \\\nPreferential                               30.062925   \nNo Restriction                             65.320406   \nRestricted                                  1.088352   \nStrongly Restricted                         0.667780   \nProhibited                                  2.860537   \n\n                     rel. statistic true buffer 100 m  \\\nPreferential                                18.896877   \nNo Restriction                              67.309240   \nRestricted                                   1.291177   \nStrongly Restricted                          0.986639   \nProhibited                                  11.516067   \n\n                     rel. statistic true buffer 5 m  \nPreferential                              28.469761  \nNo Restriction                            66.440784  \nRestricted                                 1.618986  \nStrongly Restricted                        0.496186  \nProhibited                                 2.974283  ",
      "text/html": "<div>\n<style scoped>\n    .dataframe tbody tr th:only-of-type {\n        vertical-align: middle;\n    }\n\n    .dataframe tbody tr th {\n        vertical-align: top;\n    }\n\n    .dataframe thead th {\n        text-align: right;\n    }\n</style>\n<table border=\"1\" class=\"dataframe\">\n  <thead>\n    <tr style=\"text-align: right;\">\n      <th></th>\n      <th>rel. statistic false buffer 100 m</th>\n      <th>rel. statistic false buffer 5 m</th>\n      <th>rel. statistic true buffer 100 m</th>\n      <th>rel. statistic true buffer 5 m</th>\n    </tr>\n  </thead>\n  <tbody>\n    <tr>\n      <th>Preferential</th>\n      <td>19.036771</td>\n      <td>30.062925</td>\n      <td>18.896877</td>\n      <td>28.469761</td>\n    </tr>\n    <tr>\n      <th>No Restriction</th>\n      <td>67.797856</td>\n      <td>65.320406</td>\n      <td>67.309240</td>\n      <td>66.440784</td>\n    </tr>\n    <tr>\n      <th>Restricted</th>\n      <td>0.908588</td>\n      <td>1.088352</td>\n      <td>1.291177</td>\n      <td>1.618986</td>\n    </tr>\n    <tr>\n      <th>Strongly Restricted</th>\n      <td>0.733488</td>\n      <td>0.667780</td>\n      <td>0.986639</td>\n      <td>0.496186</td>\n    </tr>\n    <tr>\n      <th>Prohibited</th>\n      <td>11.523298</td>\n      <td>2.860537</td>\n      <td>11.516067</td>\n      <td>2.974283</td>\n    </tr>\n  </tbody>\n</table>\n</div>"
     },
     "execution_count": 8,
     "metadata": {},
     "output_type": "execute_result"
    }
   ],
   "source": [
    "buffer_dist_100 = 100\n",
    "buffer_dist_5 = 5\n",
    "\n",
    "cmap = {0.1: 'Preferential', 0.5: 'No Restriction', 5.0: 'Restricted', 10.0: 'Strongly Restricted', 500: 'Prohibited'}\n",
    "\n",
    "least_cost_path_5_false = read_file(\"./../results/least_cost_paths/least_cost_path_test_points_res_5_al_false.gpkg\")\n",
    "least_cost_path_5_false = least_cost_path_5_false.to_crs(25832)\n",
    "least_cost_path_5_true = read_file(\"./../results/least_cost_paths/least_cost_path_test_points_res_5_al_true.gpkg\")\n",
    "\n",
    "\n",
    "raster_5f = open_rasterio(Path(r'./../results/weights/result_res_5_all_touched_False.tif'))\n",
    "raster_5t = open_rasterio(Path(r'./../results/weights/result_res_5_all_touched_True.tif'))\n",
    "\n",
    "rel_stats_5f_100 = compute_zonal_stat_path(raster_5f, least_cost_path_5_false, buffer_dist_100, cmap)\n",
    "rel_stats_5f_5 = compute_zonal_stat_path(raster_5f, least_cost_path_5_false, buffer_dist_5, cmap)\n",
    "\n",
    "rel_stats_5t_100 = compute_zonal_stat_path(raster_5t, least_cost_path_5_true, buffer_dist_100, cmap)\n",
    "rel_stats_5t_5 = compute_zonal_stat_path(raster_5t, least_cost_path_5_true, buffer_dist_5, cmap)\n",
    "\n",
    "show_zonal_data(rel_stats_5f_100, rel_stats_5f_5, rel_stats_5t_100, rel_stats_5t_5)"
   ],
   "metadata": {
    "collapsed": false
   }
  },
  {
   "cell_type": "markdown",
   "source": [
    "## 10 m"
   ],
   "metadata": {
    "collapsed": false
   }
  },
  {
   "cell_type": "code",
   "execution_count": 9,
   "outputs": [
    {
     "data": {
      "text/plain": "                     rel. statistic false buffer 100 m  \\\nPreferential                                 19.595563   \nNo Restriction                               68.533269   \nRestricted                                    0.977264   \nStrongly Restricted                           0.799352   \nProhibited                                   10.094552   \n\n                     rel. statistic false buffer 5 m  \\\nPreferential                               33.541397   \nNo Restriction                             64.479301   \nRestricted                                  0.730918   \nStrongly Restricted                         0.316947   \nProhibited                                  0.931436   \n\n                     rel. statistic true buffer 100 m  \\\nPreferential                                18.921619   \nNo Restriction                              66.608802   \nRestricted                                   1.627109   \nStrongly Restricted                          1.374331   \nProhibited                                  11.468139   \n\n                     rel. statistic true buffer 5 m  \nPreferential                              33.666907  \nNo Restriction                            63.399944  \nRestricted                                 1.377168  \nStrongly Restricted                        0.580356  \nProhibited                                 0.975625  ",
      "text/html": "<div>\n<style scoped>\n    .dataframe tbody tr th:only-of-type {\n        vertical-align: middle;\n    }\n\n    .dataframe tbody tr th {\n        vertical-align: top;\n    }\n\n    .dataframe thead th {\n        text-align: right;\n    }\n</style>\n<table border=\"1\" class=\"dataframe\">\n  <thead>\n    <tr style=\"text-align: right;\">\n      <th></th>\n      <th>rel. statistic false buffer 100 m</th>\n      <th>rel. statistic false buffer 5 m</th>\n      <th>rel. statistic true buffer 100 m</th>\n      <th>rel. statistic true buffer 5 m</th>\n    </tr>\n  </thead>\n  <tbody>\n    <tr>\n      <th>Preferential</th>\n      <td>19.595563</td>\n      <td>33.541397</td>\n      <td>18.921619</td>\n      <td>33.666907</td>\n    </tr>\n    <tr>\n      <th>No Restriction</th>\n      <td>68.533269</td>\n      <td>64.479301</td>\n      <td>66.608802</td>\n      <td>63.399944</td>\n    </tr>\n    <tr>\n      <th>Restricted</th>\n      <td>0.977264</td>\n      <td>0.730918</td>\n      <td>1.627109</td>\n      <td>1.377168</td>\n    </tr>\n    <tr>\n      <th>Strongly Restricted</th>\n      <td>0.799352</td>\n      <td>0.316947</td>\n      <td>1.374331</td>\n      <td>0.580356</td>\n    </tr>\n    <tr>\n      <th>Prohibited</th>\n      <td>10.094552</td>\n      <td>0.931436</td>\n      <td>11.468139</td>\n      <td>0.975625</td>\n    </tr>\n  </tbody>\n</table>\n</div>"
     },
     "execution_count": 9,
     "metadata": {},
     "output_type": "execute_result"
    }
   ],
   "source": [
    "raster_10_f = open_rasterio(Path(r'./../results/weights/result_res_10_all_touched_False.tif')).rio.reproject_match(\n",
    "    raster_5f)\n",
    "raster_10_t = open_rasterio(Path(r'./../results/weights/result_res_10_all_touched_True.tif')).rio.reproject_match(\n",
    "    raster_5t)\n",
    "\n",
    "least_cost_path_10_false = read_file(\"./../results/least_cost_paths/least_cost_path_test_points_res_10_al_false.gpkg\")\n",
    "least_cost_path_10_true = read_file(\"./../results/least_cost_paths/least_cost_path_test_points_res_10_al_true.gpkg\")\n",
    "\n",
    "\n",
    "rel_stats_10f_100 = compute_zonal_stat_path(raster_10_f, least_cost_path_10_false, buffer_dist_100, cmap)\n",
    "rel_stats_10f_5 = compute_zonal_stat_path(raster_10_f, least_cost_path_10_false, buffer_dist_5, cmap)\n",
    "rel_stats_10t_100 = compute_zonal_stat_path(raster_10_t, least_cost_path_10_true, buffer_dist_100, cmap)\n",
    "rel_stats_10t_5 = compute_zonal_stat_path(raster_10_t, least_cost_path_10_true, buffer_dist_5, cmap)\n",
    "\n",
    "show_zonal_data(rel_stats_10f_100, rel_stats_10f_5, rel_stats_10t_100, rel_stats_10t_5)"
   ],
   "metadata": {
    "collapsed": false
   }
  },
  {
   "cell_type": "markdown",
   "source": [
    "## 25 m"
   ],
   "metadata": {
    "collapsed": false
   }
  },
  {
   "cell_type": "code",
   "execution_count": 10,
   "outputs": [
    {
     "data": {
      "text/plain": "                     rel. statistic false buffer 100 m  \\\nPreferential                                 19.826572   \nNo Restriction                               68.874543   \nRestricted                                    0.956427   \nStrongly Restricted                           0.666827   \nProhibited                                    9.675631   \n\n                     rel. statistic false buffer 5 m  \\\nPreferential                               34.227496   \nNo Restriction                             64.912694   \nRestricted                                  0.214952   \nStrongly Restricted                         0.091281   \nProhibited                                  0.553576   \n\n                     rel. statistic true buffer 100 m  \\\nPreferential                                18.677156   \nNo Restriction                              65.459597   \nRestricted                                   1.955096   \nStrongly Restricted                          2.541035   \nProhibited                                  11.367116   \n\n                     rel. statistic true buffer 5 m  \nPreferential                              31.925549  \nNo Restriction                            65.514843  \nRestricted                                 1.282586  \nStrongly Restricted                        0.703892  \nProhibited                                 0.573130  ",
      "text/html": "<div>\n<style scoped>\n    .dataframe tbody tr th:only-of-type {\n        vertical-align: middle;\n    }\n\n    .dataframe tbody tr th {\n        vertical-align: top;\n    }\n\n    .dataframe thead th {\n        text-align: right;\n    }\n</style>\n<table border=\"1\" class=\"dataframe\">\n  <thead>\n    <tr style=\"text-align: right;\">\n      <th></th>\n      <th>rel. statistic false buffer 100 m</th>\n      <th>rel. statistic false buffer 5 m</th>\n      <th>rel. statistic true buffer 100 m</th>\n      <th>rel. statistic true buffer 5 m</th>\n    </tr>\n  </thead>\n  <tbody>\n    <tr>\n      <th>Preferential</th>\n      <td>19.826572</td>\n      <td>34.227496</td>\n      <td>18.677156</td>\n      <td>31.925549</td>\n    </tr>\n    <tr>\n      <th>No Restriction</th>\n      <td>68.874543</td>\n      <td>64.912694</td>\n      <td>65.459597</td>\n      <td>65.514843</td>\n    </tr>\n    <tr>\n      <th>Restricted</th>\n      <td>0.956427</td>\n      <td>0.214952</td>\n      <td>1.955096</td>\n      <td>1.282586</td>\n    </tr>\n    <tr>\n      <th>Strongly Restricted</th>\n      <td>0.666827</td>\n      <td>0.091281</td>\n      <td>2.541035</td>\n      <td>0.703892</td>\n    </tr>\n    <tr>\n      <th>Prohibited</th>\n      <td>9.675631</td>\n      <td>0.553576</td>\n      <td>11.367116</td>\n      <td>0.573130</td>\n    </tr>\n  </tbody>\n</table>\n</div>"
     },
     "execution_count": 10,
     "metadata": {},
     "output_type": "execute_result"
    }
   ],
   "source": [
    "raster_25f = open_rasterio(Path(r'./../results/weights/result_res_25_all_touched_False.tif')).rio.reproject_match(\n",
    "    raster_5f)\n",
    "raster_25t = open_rasterio(Path(r'./../results/weights/result_res_25_all_touched_True.tif')).rio.reproject_match(\n",
    "    raster_5t)\n",
    "\n",
    "least_cost_path_25_false = read_file(\"./../results/least_cost_paths/least_cost_path_test_points_res_25_al_false.gpkg\")\n",
    "least_cost_path_25_true = read_file(\"./../results/least_cost_paths/least_cost_path_test_points_res_25_al_true.gpkg\")\n",
    "\n",
    "rel_stats_25f_100 = compute_zonal_stat_path(raster_25f, least_cost_path_25_false, buffer_dist_100, cmap)\n",
    "rel_stats_25f_5 = compute_zonal_stat_path(raster_25f, least_cost_path_25_false, buffer_dist_5, cmap)\n",
    "rel_stats_25t_100 = compute_zonal_stat_path(raster_25t, least_cost_path_25_true, buffer_dist_100, cmap)\n",
    "rel_stats_25t_5 = compute_zonal_stat_path(raster_25t, least_cost_path_25_true, buffer_dist_5, cmap)\n",
    "\n",
    "show_zonal_data(rel_stats_25f_100, rel_stats_25f_5, rel_stats_25t_100, rel_stats_25t_5)"
   ],
   "metadata": {
    "collapsed": false
   }
  },
  {
   "cell_type": "markdown",
   "source": [
    "## 50 m"
   ],
   "metadata": {
    "collapsed": false
   }
  },
  {
   "cell_type": "code",
   "execution_count": 11,
   "outputs": [
    {
     "data": {
      "text/plain": "                     rel. statistic false buffer 100 m  \\\nPreferential                                 20.424132   \nNo Restriction                               67.975541   \nRestricted                                    0.869934   \nStrongly Restricted                           0.670495   \nProhibited                                   10.059897   \n\n                     rel. statistic false buffer 5 m  \\\nPreferential                               33.180815   \nNo Restriction                             66.198445   \nRestricted                                  0.076793   \nStrongly Restricted                         0.041596   \nProhibited                                  0.502352   \n\n                     rel. statistic true buffer 100 m  \\\nPreferential                                 9.144355   \nNo Restriction                              75.682387   \nRestricted                                   3.898266   \nStrongly Restricted                          4.172340   \nProhibited                                   7.102651   \n\n                     rel. statistic true buffer 5 m  \nPreferential                              13.028230  \nNo Restriction                            82.986624  \nRestricted                                 1.956469  \nStrongly Restricted                        1.591995  \nProhibited                                 0.436681  ",
      "text/html": "<div>\n<style scoped>\n    .dataframe tbody tr th:only-of-type {\n        vertical-align: middle;\n    }\n\n    .dataframe tbody tr th {\n        vertical-align: top;\n    }\n\n    .dataframe thead th {\n        text-align: right;\n    }\n</style>\n<table border=\"1\" class=\"dataframe\">\n  <thead>\n    <tr style=\"text-align: right;\">\n      <th></th>\n      <th>rel. statistic false buffer 100 m</th>\n      <th>rel. statistic false buffer 5 m</th>\n      <th>rel. statistic true buffer 100 m</th>\n      <th>rel. statistic true buffer 5 m</th>\n    </tr>\n  </thead>\n  <tbody>\n    <tr>\n      <th>Preferential</th>\n      <td>20.424132</td>\n      <td>33.180815</td>\n      <td>9.144355</td>\n      <td>13.028230</td>\n    </tr>\n    <tr>\n      <th>No Restriction</th>\n      <td>67.975541</td>\n      <td>66.198445</td>\n      <td>75.682387</td>\n      <td>82.986624</td>\n    </tr>\n    <tr>\n      <th>Restricted</th>\n      <td>0.869934</td>\n      <td>0.076793</td>\n      <td>3.898266</td>\n      <td>1.956469</td>\n    </tr>\n    <tr>\n      <th>Strongly Restricted</th>\n      <td>0.670495</td>\n      <td>0.041596</td>\n      <td>4.172340</td>\n      <td>1.591995</td>\n    </tr>\n    <tr>\n      <th>Prohibited</th>\n      <td>10.059897</td>\n      <td>0.502352</td>\n      <td>7.102651</td>\n      <td>0.436681</td>\n    </tr>\n  </tbody>\n</table>\n</div>"
     },
     "execution_count": 11,
     "metadata": {},
     "output_type": "execute_result"
    }
   ],
   "source": [
    "raster_50f = open_rasterio(Path(r'./../results/weights/result_res_50_all_touched_False.tif')).rio.reproject_match(\n",
    "    raster_5f)\n",
    "raster_50t = open_rasterio(Path(r'./../results/weights/result_res_50_all_touched_True.tif')).rio.reproject_match(\n",
    "    raster_5t)\n",
    "\n",
    "least_cost_path_50_false = read_file(\"./../results/least_cost_paths/least_cost_path_test_points_res_50_al_false.gpkg\")\n",
    "least_cost_path_50_true = read_file(\"./../results/least_cost_paths/least_cost_path_test_points_res_50_al_true.gpkg\")\n",
    "\n",
    "rel_stats_50f_100 = compute_zonal_stat_path(raster_50f, least_cost_path_50_false, buffer_dist_100, cmap)\n",
    "rel_stats_50f_5 = compute_zonal_stat_path(raster_50f, least_cost_path_50_false, buffer_dist_5, cmap)\n",
    "rel_stats_50t_100 = compute_zonal_stat_path(raster_50t, least_cost_path_50_true, buffer_dist_100, cmap)\n",
    "rel_stats_50t_5 = compute_zonal_stat_path(raster_50t, least_cost_path_50_true, buffer_dist_5, cmap)\n",
    "\n",
    "show_zonal_data(rel_stats_50f_100, rel_stats_50f_5, rel_stats_50t_100, rel_stats_50t_5)"
   ],
   "metadata": {
    "collapsed": false
   }
  },
  {
   "cell_type": "markdown",
   "source": [
    "## 100 m"
   ],
   "metadata": {
    "collapsed": false
   }
  },
  {
   "cell_type": "code",
   "execution_count": 12,
   "outputs": [
    {
     "data": {
      "text/plain": "                     rel. statistic false buffer 100 m  \\\nPreferential                                 21.116438   \nNo Restriction                               69.125830   \nRestricted                                    1.105329   \nStrongly Restricted                           0.720938   \nProhibited                                    7.931465   \n\n                     rel. statistic false buffer 5 m  \\\nPreferential                               30.733593   \nNo Restriction                             68.812704   \nRestricted                                  0.038341   \nStrongly Restricted                         0.019171   \nProhibited                                  0.396191   \n\n                     rel. statistic true buffer 100 m  \\\nPreferential                                 6.972863   \nNo Restriction                              73.807723   \nRestricted                                   5.540127   \nStrongly Restricted                          8.512545   \nProhibited                                   5.166743   \n\n                     rel. statistic true buffer 5 m  \nPreferential                              10.132879  \nNo Restriction                            81.943444  \nRestricted                                 3.911108  \nStrongly Restricted                        3.610002  \nProhibited                                 0.402566  ",
      "text/html": "<div>\n<style scoped>\n    .dataframe tbody tr th:only-of-type {\n        vertical-align: middle;\n    }\n\n    .dataframe tbody tr th {\n        vertical-align: top;\n    }\n\n    .dataframe thead th {\n        text-align: right;\n    }\n</style>\n<table border=\"1\" class=\"dataframe\">\n  <thead>\n    <tr style=\"text-align: right;\">\n      <th></th>\n      <th>rel. statistic false buffer 100 m</th>\n      <th>rel. statistic false buffer 5 m</th>\n      <th>rel. statistic true buffer 100 m</th>\n      <th>rel. statistic true buffer 5 m</th>\n    </tr>\n  </thead>\n  <tbody>\n    <tr>\n      <th>Preferential</th>\n      <td>21.116438</td>\n      <td>30.733593</td>\n      <td>6.972863</td>\n      <td>10.132879</td>\n    </tr>\n    <tr>\n      <th>No Restriction</th>\n      <td>69.125830</td>\n      <td>68.812704</td>\n      <td>73.807723</td>\n      <td>81.943444</td>\n    </tr>\n    <tr>\n      <th>Restricted</th>\n      <td>1.105329</td>\n      <td>0.038341</td>\n      <td>5.540127</td>\n      <td>3.911108</td>\n    </tr>\n    <tr>\n      <th>Strongly Restricted</th>\n      <td>0.720938</td>\n      <td>0.019171</td>\n      <td>8.512545</td>\n      <td>3.610002</td>\n    </tr>\n    <tr>\n      <th>Prohibited</th>\n      <td>7.931465</td>\n      <td>0.396191</td>\n      <td>5.166743</td>\n      <td>0.402566</td>\n    </tr>\n  </tbody>\n</table>\n</div>"
     },
     "execution_count": 12,
     "metadata": {},
     "output_type": "execute_result"
    }
   ],
   "source": [
    "raster_100f = open_rasterio('./../results/weights/result_res_100_all_touched_False.tif').rio.reproject_match(raster_5f)\n",
    "raster_100t = open_rasterio(r'./../results/weights/result_res_100_all_touched_True.tif').rio.reproject_match(raster_5t)\n",
    "\n",
    "least_cost_path_100_false = read_file(\"./../results/least_cost_paths/least_cost_path_test_points_res_100_al_false.gpkg\")\n",
    "least_cost_path_100_true = read_file(\"./../results/least_cost_paths/least_cost_path_test_points_res_100_al_true.gpkg\")\n",
    "\n",
    "rel_stats_100f_100 = compute_zonal_stat_path(raster_100f, least_cost_path_100_false, buffer_dist_100, cmap)\n",
    "rel_stats_100f_5 = compute_zonal_stat_path(raster_100f, least_cost_path_100_false, buffer_dist_5, cmap)\n",
    "rel_stats_100t_100 = compute_zonal_stat_path(raster_100t, least_cost_path_100_true, buffer_dist_100, cmap)\n",
    "rel_stats_100t_5 = compute_zonal_stat_path(raster_100t, least_cost_path_100_true, buffer_dist_5, cmap)\n",
    "\n",
    "show_zonal_data(rel_stats_100f_100, rel_stats_100f_5, rel_stats_100t_100, rel_stats_100t_5)"
   ],
   "metadata": {
    "collapsed": false
   }
  },
  {
   "cell_type": "markdown",
   "source": [
    "# lines -> buffered Polygons"
   ],
   "metadata": {
    "collapsed": false
   }
  },
  {
   "cell_type": "code",
   "execution_count": 13,
   "outputs": [],
   "source": [
    "def create_buffer_polygon(line1: LineString, line2: LineString, crs, buffer) -> GeoDataFrame:\n",
    "    x = list(line1.xy[0])\n",
    "    y = list(line1.xy[1])\n",
    "\n",
    "    x.extend(list(reversed(line2.xy[0])))\n",
    "    y.extend(list(reversed(line2.xy[1])))\n",
    "\n",
    "    poly = make_valid(Polygon(zip(x, y))).buffer(buffer)\n",
    "\n",
    "    return GeoDataFrame({'buffer': [buffer, ], 'geometry': [poly, ]}, crs=crs)"
   ],
   "metadata": {
    "collapsed": false
   }
  },
  {
   "cell_type": "code",
   "execution_count": 18,
   "outputs": [
    {
     "data": {
      "text/plain": "[None, None, None, None, None]"
     },
     "execution_count": 18,
     "metadata": {},
     "output_type": "execute_result"
    }
   ],
   "source": [
    "[create_buffer_polygon(f.geometry.values[0], t.geometry.values[0], 25832, 2 * max_dist).to_file(s) for f, t, max_dist, s in\n",
    " zip(paths_false, paths_true, max_distances,\n",
    "     [f\"./../results/Buffer_Polygons/least_cost_path_res_{x}_buffer.gpkg\" for x in resolutions])]"
   ],
   "metadata": {
    "collapsed": false
   }
  },
  {
   "cell_type": "markdown",
   "source": [
    "# Mask the 2.5 m and 5 m resolution Raster by the Buffer (from the 50 m resolution Paths)\n",
    "Masking the original 50 m resolution cost raster by the polygon, created from the buffered 50 m resolution the least cost path.\n",
    "The buffer is two times the maximum minimum distance between the paths.\n",
    "## masking the 5 m resolution raster"
   ],
   "metadata": {
    "collapsed": false
   }
  },
  {
   "cell_type": "code",
   "execution_count": 19,
   "outputs": [],
   "source": [
    "def create_statistic(raster: list, names: list) -> DataFrame:\n",
    "    raster_y = np.array([x.shape[1] for x in raster])\n",
    "    raster_x = np.array([x.shape[2] for x in raster])\n",
    "    counts = raster_y * raster_x\n",
    "    nodata_counts = np.array([np.sum(x.data == x.rio.nodata) for x in raster])\n",
    "\n",
    "    return DataFrame(data={'height': raster_y,\n",
    "                           'width': raster_x,\n",
    "                           'pixel_count': counts,\n",
    "                           'pixel_percentage': counts / np.max(counts) * 100.0,\n",
    "                           'nodata_count': nodata_counts,\n",
    "                           'nodata_percentage': nodata_counts / counts * 100.0,\n",
    "                           'kept_percentage': (counts - nodata_counts) / np.max(counts) * 100.0},\n",
    "\n",
    "                     index=names)"
   ],
   "metadata": {
    "collapsed": false
   }
  },
  {
   "cell_type": "code",
   "execution_count": 20,
   "outputs": [
    {
     "data": {
      "text/plain": "                           height  width  pixel_count  pixel_percentage  \\\nraster_5f                   17481  11270    197010870        100.000000   \nraster_5f_clipped           17481  11270    197010870        100.000000   \nraster_5f_clipped_dropped   11871   8984    106649064         54.133594   \nraster_5t                   17481  11270    197010870        100.000000   \nraster_5t_clipped           17481  11270    197010870        100.000000   \nraster_5t_clipped_dropped   11871   8984    106649064         54.133594   \n\n                           nodata_count  nodata_percentage  kept_percentage  \nraster_5f                      75314390          38.228545        61.771455  \nraster_5f_clipped             160168500          81.299321        18.700679  \nraster_5f_clipped_dropped      69806694          65.454577        18.700679  \nraster_5t                      75274817          38.208459        61.791541  \nraster_5t_clipped             160158784          81.294389        18.705611  \nraster_5t_clipped_dropped      69796978          65.445467        18.705611  ",
      "text/html": "<div>\n<style scoped>\n    .dataframe tbody tr th:only-of-type {\n        vertical-align: middle;\n    }\n\n    .dataframe tbody tr th {\n        vertical-align: top;\n    }\n\n    .dataframe thead th {\n        text-align: right;\n    }\n</style>\n<table border=\"1\" class=\"dataframe\">\n  <thead>\n    <tr style=\"text-align: right;\">\n      <th></th>\n      <th>height</th>\n      <th>width</th>\n      <th>pixel_count</th>\n      <th>pixel_percentage</th>\n      <th>nodata_count</th>\n      <th>nodata_percentage</th>\n      <th>kept_percentage</th>\n    </tr>\n  </thead>\n  <tbody>\n    <tr>\n      <th>raster_5f</th>\n      <td>17481</td>\n      <td>11270</td>\n      <td>197010870</td>\n      <td>100.000000</td>\n      <td>75314390</td>\n      <td>38.228545</td>\n      <td>61.771455</td>\n    </tr>\n    <tr>\n      <th>raster_5f_clipped</th>\n      <td>17481</td>\n      <td>11270</td>\n      <td>197010870</td>\n      <td>100.000000</td>\n      <td>160168500</td>\n      <td>81.299321</td>\n      <td>18.700679</td>\n    </tr>\n    <tr>\n      <th>raster_5f_clipped_dropped</th>\n      <td>11871</td>\n      <td>8984</td>\n      <td>106649064</td>\n      <td>54.133594</td>\n      <td>69806694</td>\n      <td>65.454577</td>\n      <td>18.700679</td>\n    </tr>\n    <tr>\n      <th>raster_5t</th>\n      <td>17481</td>\n      <td>11270</td>\n      <td>197010870</td>\n      <td>100.000000</td>\n      <td>75274817</td>\n      <td>38.208459</td>\n      <td>61.791541</td>\n    </tr>\n    <tr>\n      <th>raster_5t_clipped</th>\n      <td>17481</td>\n      <td>11270</td>\n      <td>197010870</td>\n      <td>100.000000</td>\n      <td>160158784</td>\n      <td>81.294389</td>\n      <td>18.705611</td>\n    </tr>\n    <tr>\n      <th>raster_5t_clipped_dropped</th>\n      <td>11871</td>\n      <td>8984</td>\n      <td>106649064</td>\n      <td>54.133594</td>\n      <td>69796978</td>\n      <td>65.445467</td>\n      <td>18.705611</td>\n    </tr>\n  </tbody>\n</table>\n</div>"
     },
     "execution_count": 20,
     "metadata": {},
     "output_type": "execute_result"
    }
   ],
   "source": [
    "mask_50 = read_file(\"./../results/Buffer_Polygons/least_cost_path_res_50_buffer.gpkg\")\n",
    "\n",
    "raster_5f = open_rasterio(Path(r'./../results/weights/result_res_5_all_touched_False.tif'))\n",
    "raster_5t = open_rasterio(Path(r'./../results/weights/result_res_5_all_touched_True.tif'))\n",
    "\n",
    "raster_5f_clipped = raster_5f.rio.clip(mask_50.geometry.values, mask_50.crs, drop=False)\n",
    "write_compressed(raster_5f_clipped, Path(r'./../results/weights/Clipped/result_res_5_all_touched_False_clipped.tif'))\n",
    "raster_5f_clipped_dropped = raster_5f.rio.clip(mask_50.geometry.values, mask_50.crs, drop=True)\n",
    "write_compressed(raster_5f_clipped_dropped,\n",
    "                 Path(r'./../results/weights/Clipped/result_res_5_all_touched_False_clipped_drop.tif'))\n",
    "\n",
    "raster_5t_clipped = raster_5t.rio.clip(mask_50.geometry.values, mask_50.crs, drop=False)\n",
    "write_compressed(raster_5t_clipped, Path(r'./../results/weights/Clipped/result_res_5_all_touched_True_clipped.tif'))\n",
    "raster_5t_clipped_dropped = raster_5t.rio.clip(mask_50.geometry.values, mask_50.crs, drop=True)\n",
    "write_compressed(raster_5t_clipped_dropped,\n",
    "                 Path(r'./../results/weights/Clipped/result_res_5_all_touched_True_clipped_drop.tif'))\n",
    "\n",
    "raster_5 = [raster_5f, raster_5f_clipped, raster_5f_clipped_dropped, raster_5t, raster_5t_clipped,\n",
    "            raster_5t_clipped_dropped]\n",
    "raster_5_names = [\"raster_5f\", \"raster_5f_clipped\", \"raster_5f_clipped_dropped\", \"raster_5t\", \"raster_5t_clipped\",\n",
    "                  \"raster_5t_clipped_dropped\"]\n",
    "create_statistic(raster_5, raster_5_names)"
   ],
   "metadata": {
    "collapsed": false
   }
  },
  {
   "cell_type": "markdown",
   "source": [
    "## masking the 2.5 m resolution raster"
   ],
   "metadata": {
    "collapsed": false
   }
  },
  {
   "cell_type": "code",
   "execution_count": 21,
   "outputs": [
    {
     "data": {
      "text/plain": "                             height  width  pixel_count  pixel_percentage  \\\nraster_2p5f                   34962  22540    788043480        100.000000   \nraster_2p5f_clipped           34962  22540    788043480        100.000000   \nraster_2p5f_clipped_dropped   23741  17969    426602029         54.134326   \nraster_2p5t                   34962  22540    788043480        100.000000   \nraster_2p5t_clipped           34962  22540    788043480        100.000000   \nraster_2p5t_clipped_dropped   23741  17969    426602029         54.134326   \n\n                             nodata_count  nodata_percentage  kept_percentage  \nraster_2p5f                     301257639          38.228555        61.771445  \nraster_2p5f_clipped             640673252          81.299226        18.700774  \nraster_2p5f_clipped_dropped     279231801          65.454869        18.700774  \nraster_2p5t                     301178497          38.218513        61.781487  \nraster_2p5t_clipped             640653579          81.296730        18.703270  \nraster_2p5t_clipped_dropped     279212128          65.450258        18.703270  ",
      "text/html": "<div>\n<style scoped>\n    .dataframe tbody tr th:only-of-type {\n        vertical-align: middle;\n    }\n\n    .dataframe tbody tr th {\n        vertical-align: top;\n    }\n\n    .dataframe thead th {\n        text-align: right;\n    }\n</style>\n<table border=\"1\" class=\"dataframe\">\n  <thead>\n    <tr style=\"text-align: right;\">\n      <th></th>\n      <th>height</th>\n      <th>width</th>\n      <th>pixel_count</th>\n      <th>pixel_percentage</th>\n      <th>nodata_count</th>\n      <th>nodata_percentage</th>\n      <th>kept_percentage</th>\n    </tr>\n  </thead>\n  <tbody>\n    <tr>\n      <th>raster_2p5f</th>\n      <td>34962</td>\n      <td>22540</td>\n      <td>788043480</td>\n      <td>100.000000</td>\n      <td>301257639</td>\n      <td>38.228555</td>\n      <td>61.771445</td>\n    </tr>\n    <tr>\n      <th>raster_2p5f_clipped</th>\n      <td>34962</td>\n      <td>22540</td>\n      <td>788043480</td>\n      <td>100.000000</td>\n      <td>640673252</td>\n      <td>81.299226</td>\n      <td>18.700774</td>\n    </tr>\n    <tr>\n      <th>raster_2p5f_clipped_dropped</th>\n      <td>23741</td>\n      <td>17969</td>\n      <td>426602029</td>\n      <td>54.134326</td>\n      <td>279231801</td>\n      <td>65.454869</td>\n      <td>18.700774</td>\n    </tr>\n    <tr>\n      <th>raster_2p5t</th>\n      <td>34962</td>\n      <td>22540</td>\n      <td>788043480</td>\n      <td>100.000000</td>\n      <td>301178497</td>\n      <td>38.218513</td>\n      <td>61.781487</td>\n    </tr>\n    <tr>\n      <th>raster_2p5t_clipped</th>\n      <td>34962</td>\n      <td>22540</td>\n      <td>788043480</td>\n      <td>100.000000</td>\n      <td>640653579</td>\n      <td>81.296730</td>\n      <td>18.703270</td>\n    </tr>\n    <tr>\n      <th>raster_2p5t_clipped_dropped</th>\n      <td>23741</td>\n      <td>17969</td>\n      <td>426602029</td>\n      <td>54.134326</td>\n      <td>279212128</td>\n      <td>65.450258</td>\n      <td>18.703270</td>\n    </tr>\n  </tbody>\n</table>\n</div>"
     },
     "execution_count": 21,
     "metadata": {},
     "output_type": "execute_result"
    }
   ],
   "source": [
    "mask_50 = read_file(\"./../results/Buffer_Polygons/least_cost_path_res_50_buffer.gpkg\")\n",
    "\n",
    "raster_2p5f = open_rasterio(Path(r'./../results/weights/result_res_2.5_all_touched_False.tif'))\n",
    "raster_2p5t = open_rasterio(Path(r'./../results/weights/result_res_2.5_all_touched_True.tif'))\n",
    "\n",
    "raster_2p5f_clipped = raster_2p5f.rio.clip(mask_50.geometry.values, mask_50.crs, drop=False)\n",
    "write_compressed(raster_2p5f_clipped,\n",
    "                 Path(r'./../results/weights/Clipped/result_res_2p5_all_touched_False_clipped.tif'))\n",
    "raster_2p5f_clipped_dropped = raster_2p5f.rio.clip(mask_50.geometry.values, mask_50.crs, drop=True)\n",
    "write_compressed(raster_2p5f_clipped_dropped,\n",
    "                 Path(r'./../results/weights/Clipped/result_res_2p5_all_touched_False_clipped_drop.tif'))\n",
    "\n",
    "raster_2p5t_clipped = raster_2p5t.rio.clip(mask_50.geometry.values, mask_50.crs, drop=False)\n",
    "write_compressed(raster_2p5t_clipped, Path(r'./../results/weights/Clipped/result_res_2p5_all_touched_True_clipped.tif'))\n",
    "raster_2p5t_clipped_dropped = raster_2p5t.rio.clip(mask_50.geometry.values, mask_50.crs, drop=True)\n",
    "write_compressed(raster_2p5t_clipped_dropped,\n",
    "                 Path(r'./../results/weights/Clipped/result_res_2p5_all_touched_True_clipped_drop.tif'))\n",
    "\n",
    "raster_2p5 = [raster_2p5f, raster_2p5f_clipped, raster_2p5f_clipped_dropped, raster_2p5t, raster_2p5t_clipped,\n",
    "              raster_2p5t_clipped_dropped]\n",
    "raster_2p5_names = ['raster_2p5f', 'raster_2p5f_clipped', 'raster_2p5f_clipped_dropped', 'raster_2p5t',\n",
    "                    'raster_2p5t_clipped', 'raster_2p5t_clipped_dropped']\n",
    "create_statistic(raster_2p5, raster_2p5_names)"
   ],
   "metadata": {
    "collapsed": false
   }
  },
  {
   "cell_type": "markdown",
   "source": [
    "# Mask the 2.5 and 5 m resolution raster by the non-reachable pixels"
   ],
   "metadata": {
    "collapsed": false
   }
  },
  {
   "cell_type": "code",
   "execution_count": 22,
   "outputs": [],
   "source": [
    "def mask_by_aggregated_nodata(original: DataArray, aggregate: DataArray):\n",
    "    aggregate_resized = aggregate.copy().rio.reproject_match(raster_5f)\n",
    "\n",
    "    original_masked = original.copy()\n",
    "    original_masked.data[aggregate_resized == aggregate_resized.rio.nodata] = original.rio.nodata\n",
    "    return original_masked"
   ],
   "metadata": {
    "collapsed": false
   }
  },
  {
   "cell_type": "code",
   "execution_count": 23,
   "outputs": [
    {
     "data": {
      "text/plain": "                  height  width  pixel_count  pixel_percentage  nodata_count  \\\nraster_5f          17481  11270    197010870             100.0      75314390   \nraster_5f_masked   17481  11270    197010870             100.0      93820901   \nraster_5t          17481  11270    197010870             100.0      75274817   \nraster_5t_masked   17481  11270    197010870             100.0      93813930   \n\n                  nodata_percentage  kept_percentage  \nraster_5f                 38.228545        61.771455  \nraster_5f_masked          47.622195        52.377805  \nraster_5t                 38.208459        61.791541  \nraster_5t_masked          47.618657        52.381343  ",
      "text/html": "<div>\n<style scoped>\n    .dataframe tbody tr th:only-of-type {\n        vertical-align: middle;\n    }\n\n    .dataframe tbody tr th {\n        vertical-align: top;\n    }\n\n    .dataframe thead th {\n        text-align: right;\n    }\n</style>\n<table border=\"1\" class=\"dataframe\">\n  <thead>\n    <tr style=\"text-align: right;\">\n      <th></th>\n      <th>height</th>\n      <th>width</th>\n      <th>pixel_count</th>\n      <th>pixel_percentage</th>\n      <th>nodata_count</th>\n      <th>nodata_percentage</th>\n      <th>kept_percentage</th>\n    </tr>\n  </thead>\n  <tbody>\n    <tr>\n      <th>raster_5f</th>\n      <td>17481</td>\n      <td>11270</td>\n      <td>197010870</td>\n      <td>100.0</td>\n      <td>75314390</td>\n      <td>38.228545</td>\n      <td>61.771455</td>\n    </tr>\n    <tr>\n      <th>raster_5f_masked</th>\n      <td>17481</td>\n      <td>11270</td>\n      <td>197010870</td>\n      <td>100.0</td>\n      <td>93820901</td>\n      <td>47.622195</td>\n      <td>52.377805</td>\n    </tr>\n    <tr>\n      <th>raster_5t</th>\n      <td>17481</td>\n      <td>11270</td>\n      <td>197010870</td>\n      <td>100.0</td>\n      <td>75274817</td>\n      <td>38.208459</td>\n      <td>61.791541</td>\n    </tr>\n    <tr>\n      <th>raster_5t_masked</th>\n      <td>17481</td>\n      <td>11270</td>\n      <td>197010870</td>\n      <td>100.0</td>\n      <td>93813930</td>\n      <td>47.618657</td>\n      <td>52.381343</td>\n    </tr>\n  </tbody>\n</table>\n</div>"
     },
     "execution_count": 23,
     "metadata": {},
     "output_type": "execute_result"
    }
   ],
   "source": [
    "agg_cost_50_raster = open_rasterio(\"./../results/weights/aggregated/result_res_50_all_touched_False_agg.tif\")\n",
    "limit = 2149\n",
    "agg_cost_50_raster.data[agg_cost_50_raster > limit] = agg_cost_50_raster.rio.nodata\n",
    "\n",
    "raster_5f = open_rasterio(Path(r'./../results/weights/result_res_5_all_touched_False.tif'))\n",
    "raster_5t = open_rasterio(Path(r'./../results/weights/result_res_5_all_touched_True.tif'))\n",
    "\n",
    "\n",
    "# mask cost raster by nodata values in aggregated cost raster\n",
    "raster_5f_masked = mask_by_aggregated_nodata(raster_5f, agg_cost_50_raster)\n",
    "write_compressed(raster_5f_masked,\n",
    "                 Path(\"./../results/weights/Clipped/result_res_5_all_touched_False_mask_by_aggregated_costs.tif\"))\n",
    "\n",
    "raster_5t_masked = mask_by_aggregated_nodata(raster_5t, agg_cost_50_raster)\n",
    "write_compressed(raster_5t_masked,\n",
    "                 Path(\"./../results/weights/Clipped/result_res_5_all_touched_True_mask_by_aggregated_costs.tif\"))\n",
    "\n",
    "raster_agg = [raster_5f, raster_5f_masked, raster_5t, raster_5t_masked]\n",
    "raster_agg_names = ['raster_5f', 'raster_5f_masked', 'raster_5t', 'raster_5t_masked']\n",
    "create_statistic(raster_agg, raster_agg_names)"
   ],
   "metadata": {
    "collapsed": false
   }
  },
  {
   "cell_type": "markdown",
   "source": [
    "# Distances all touched False"
   ],
   "metadata": {
    "collapsed": false
   }
  },
  {
   "cell_type": "code",
   "execution_count": 24,
   "outputs": [
    {
     "data": {
      "text/plain": "257.9733343117007"
     },
     "execution_count": 24,
     "metadata": {},
     "output_type": "execute_result"
    }
   ],
   "source": [
    "distances_false = np.array([Point(p).distance(least_cost_path_100_false.geometry.values[0]) for p in\n",
    "                            least_cost_path_5_false.geometry.values[0].coords])\n",
    "mean_min_distances_false = np.mean(distances_false)\n",
    "mean_min_distances_false"
   ],
   "metadata": {
    "collapsed": false
   }
  },
  {
   "cell_type": "markdown",
   "source": [
    "# Distances all touched True\n"
   ],
   "metadata": {
    "collapsed": false
   }
  },
  {
   "cell_type": "code",
   "execution_count": 25,
   "outputs": [
    {
     "data": {
      "text/plain": "2109.436322189748"
     },
     "execution_count": 25,
     "metadata": {},
     "output_type": "execute_result"
    }
   ],
   "source": [
    "distances_true = np.array([Point(p).distance(least_cost_path_100_true.geometry.values[0]) for p in\n",
    "                           least_cost_path_5_true.geometry.values[0].coords])\n",
    "mean_min_distances_true = np.mean(distances_true)\n",
    "mean_min_distances_true"
   ],
   "metadata": {
    "collapsed": false
   }
  },
  {
   "cell_type": "code",
   "execution_count": null,
   "outputs": [],
   "source": [],
   "metadata": {
    "collapsed": false
   }
  }
 ],
 "metadata": {
  "kernelspec": {
   "display_name": "Python 3",
   "language": "python",
   "name": "python3"
  },
  "language_info": {
   "codemirror_mode": {
    "name": "ipython",
    "version": 2
   },
   "file_extension": ".py",
   "mimetype": "text/x-python",
   "name": "python",
   "nbconvert_exporter": "python",
   "pygments_lexer": "ipython2",
   "version": "2.7.6"
  }
 },
 "nbformat": 4,
 "nbformat_minor": 0
}
