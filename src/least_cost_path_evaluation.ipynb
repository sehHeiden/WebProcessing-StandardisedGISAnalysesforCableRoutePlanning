{
 "cells": [
  {
   "cell_type": "markdown",
   "source": [
    "# measure the average minimum distance between two lines, or the zonal stats around each line's buffer"
   ],
   "metadata": {
    "collapsed": false
   }
  },
  {
   "cell_type": "code",
   "execution_count": 1,
   "outputs": [],
   "source": [
    "from geopandas import read_file, GeoSeries, GeoDataFrame\n",
    "from shapely.geometry import Point\n",
    "\n",
    "import numpy as np\n",
    "from rioxarray import open_rasterio\n",
    "from rasterstats import zonal_stats\n",
    "\n",
    "from pathlib import Path\n",
    "from xarray import DataArray\n",
    "from pandas import DataFrame\n",
    "from shapely.geometry import LineString, Polygon\n",
    "from shapely.validation import make_valid\n",
    "\n",
    "from src.rules2weights import write_compressed"
   ],
   "metadata": {
    "collapsed": false
   }
  },
  {
   "cell_type": "markdown",
   "source": [
    "# distances\n",
    "Distance between two paths\n",
    "## Distance between all touched True and All Touched False"
   ],
   "metadata": {
    "collapsed": false
   }
  },
  {
   "cell_type": "code",
   "execution_count": 2,
   "outputs": [],
   "source": [
    "def compute_line_distances(line1: LineString, line2: LineString) -> list:\n",
    "    return [Point(p).distance(line2) for p in line1.coords]"
   ],
   "metadata": {
    "collapsed": false
   }
  },
  {
   "cell_type": "code",
   "execution_count": 3,
   "outputs": [
    {
     "data": {
      "text/plain": "     Path lengths all touched false  Path lengths all touched true  \\\n5                      76136.340836                   78002.006658   \n10                     75430.100870                   77936.568748   \n25                     75422.854133                   78422.854133   \n50                     76135.021342                   70619.945583   \n100                    76283.807115                   74120.732103   \n\n     mean distances  max distances  \n5        146.446922    1333.014707  \n10       313.612446    1847.836573  \n25       337.306328    1909.188309  \n50       793.807567    3748.332963  \n100     1827.133061    6574.191966  ",
      "text/html": "<div>\n<style scoped>\n    .dataframe tbody tr th:only-of-type {\n        vertical-align: middle;\n    }\n\n    .dataframe tbody tr th {\n        vertical-align: top;\n    }\n\n    .dataframe thead th {\n        text-align: right;\n    }\n</style>\n<table border=\"1\" class=\"dataframe\">\n  <thead>\n    <tr style=\"text-align: right;\">\n      <th></th>\n      <th>Path lengths all touched false</th>\n      <th>Path lengths all touched true</th>\n      <th>mean distances</th>\n      <th>max distances</th>\n    </tr>\n  </thead>\n  <tbody>\n    <tr>\n      <th>5</th>\n      <td>76136.340836</td>\n      <td>78002.006658</td>\n      <td>146.446922</td>\n      <td>1333.014707</td>\n    </tr>\n    <tr>\n      <th>10</th>\n      <td>75430.100870</td>\n      <td>77936.568748</td>\n      <td>313.612446</td>\n      <td>1847.836573</td>\n    </tr>\n    <tr>\n      <th>25</th>\n      <td>75422.854133</td>\n      <td>78422.854133</td>\n      <td>337.306328</td>\n      <td>1909.188309</td>\n    </tr>\n    <tr>\n      <th>50</th>\n      <td>76135.021342</td>\n      <td>70619.945583</td>\n      <td>793.807567</td>\n      <td>3748.332963</td>\n    </tr>\n    <tr>\n      <th>100</th>\n      <td>76283.807115</td>\n      <td>74120.732103</td>\n      <td>1827.133061</td>\n      <td>6574.191966</td>\n    </tr>\n  </tbody>\n</table>\n</div>"
     },
     "execution_count": 3,
     "metadata": {},
     "output_type": "execute_result"
    }
   ],
   "source": [
    "resolutions = [5, 10, 25, 50, 100]\n",
    "\n",
    "least_cost_path_5_false = read_file(\"./../results/least_cost_paths/least_cost_path_test_points_res_5_al_false.json\")\n",
    "least_cost_path_5_false = least_cost_path_5_false.to_crs(25832)\n",
    "\n",
    "paths_false = [least_cost_path_5_false,\n",
    "               read_file(\"../results/least_cost_paths/least_cost_path_test_points_res_10_al_false.gpkg\"),\n",
    "               read_file(\"../results/least_cost_paths/least_cost_path_test_points_res_25_al_false.gpkg\"),\n",
    "               read_file(\"../results/least_cost_paths/least_cost_path_test_points_res_50_al_false.gpkg\"),\n",
    "               read_file(\"../results/least_cost_paths/least_cost_path_test_points_res_100_al_false.gpkg\")]\n",
    "paths_true = [read_file(\"./../results/least_cost_paths/least_cost_path_test_points_res_5_al_true.gpkg\"),\n",
    "              read_file(\"../results/least_cost_paths/least_cost_path_test_points_res_10_al_true.gpkg\"),\n",
    "              read_file(\"../results/least_cost_paths/least_cost_path_test_points_res_25_al_true.gpkg\"),\n",
    "              read_file(\"../results/least_cost_paths/least_cost_path_test_points_res_50_al_true.gpkg\"),\n",
    "              read_file(\"../results/least_cost_paths/least_cost_path_test_points_res_100_al_true.gpkg\")]\n",
    "\n",
    "path_lengths_false = [x.geometry.values[0].length for x in paths_false]\n",
    "path_lengths_true = [x.geometry.values[0].length for x in paths_true]\n",
    "\n",
    "distances = [compute_line_distances(t.geometry.values[0], f.geometry.values[0]) for f, t in\n",
    "             zip(paths_false, paths_true)]\n",
    "mean_distances = [np.mean(x) for x in distances]\n",
    "max_distances = [np.max(x) for x in distances]\n",
    "\n",
    "DataFrame({'Path lengths all touched false': path_lengths_false,\n",
    "           'Path lengths all touched true': path_lengths_true,\n",
    "           'mean distances': mean_distances,\n",
    "           'max distances': max_distances},\n",
    "          index=resolutions)"
   ],
   "metadata": {
    "collapsed": false
   }
  },
  {
   "cell_type": "markdown",
   "source": [],
   "metadata": {
    "collapsed": false
   }
  },
  {
   "cell_type": "markdown",
   "source": [
    "## distance - between path of 5m path, and paths from 5m down sampled\n",
    "and compared the path for the down sampled variant to the original one of the resolution"
   ],
   "metadata": {
    "collapsed": false
   }
  },
  {
   "cell_type": "code",
   "execution_count": 4,
   "outputs": [
    {
     "data": {
      "text/plain": "     Path lengths down sampled  mean distances to 5 m path  relative costs  \\\n10                75980.619569                   59.342459        94136.15   \n25                70205.265747                  385.787115        91844.35   \n50                69217.864055                  730.819050        92091.25   \n100               66667.869159                 1681.305176        91701.50   \n\n     mean distances to original resolution, false  \\\n10                                     219.349393   \n25                                     558.124307   \n50                                     693.422086   \n100                                   1605.632877   \n\n     mean distances to original resolution, true  \n10                                    143.633075  \n25                                    432.774864  \n50                                    255.695791  \n100                                   400.546818  ",
      "text/html": "<div>\n<style scoped>\n    .dataframe tbody tr th:only-of-type {\n        vertical-align: middle;\n    }\n\n    .dataframe tbody tr th {\n        vertical-align: top;\n    }\n\n    .dataframe thead th {\n        text-align: right;\n    }\n</style>\n<table border=\"1\" class=\"dataframe\">\n  <thead>\n    <tr style=\"text-align: right;\">\n      <th></th>\n      <th>Path lengths down sampled</th>\n      <th>mean distances to 5 m path</th>\n      <th>relative costs</th>\n      <th>mean distances to original resolution, false</th>\n      <th>mean distances to original resolution, true</th>\n    </tr>\n  </thead>\n  <tbody>\n    <tr>\n      <th>10</th>\n      <td>75980.619569</td>\n      <td>59.342459</td>\n      <td>94136.15</td>\n      <td>219.349393</td>\n      <td>143.633075</td>\n    </tr>\n    <tr>\n      <th>25</th>\n      <td>70205.265747</td>\n      <td>385.787115</td>\n      <td>91844.35</td>\n      <td>558.124307</td>\n      <td>432.774864</td>\n    </tr>\n    <tr>\n      <th>50</th>\n      <td>69217.864055</td>\n      <td>730.819050</td>\n      <td>92091.25</td>\n      <td>693.422086</td>\n      <td>255.695791</td>\n    </tr>\n    <tr>\n      <th>100</th>\n      <td>66667.869159</td>\n      <td>1681.305176</td>\n      <td>91701.50</td>\n      <td>1605.632877</td>\n      <td>400.546818</td>\n    </tr>\n  </tbody>\n</table>\n</div>"
     },
     "execution_count": 4,
     "metadata": {},
     "output_type": "execute_result"
    }
   ],
   "source": [
    "# original path 5 m resolution\n",
    "least_cost_path_5_false = read_file(\"./../results/least_cost_paths/least_cost_path_test_points_res_5_al_false.json\")\n",
    "least_cost_path_5_false = least_cost_path_5_false.to_crs(25832)\n",
    "\n",
    "down_sampled_resolutions = [10, 25, 50, 100]\n",
    "\n",
    "# paths from bi-linear down sampled  raster\n",
    "down_sampled = [read_file(\"..\\\\results\\\\least_cost_paths\\\\Downsampled\\\\least_cost_path_test_points_res_5_al_false_downsampled.gpkg\"),\n",
    "               read_file(\"..\\\\results\\\\least_cost_paths\\\\Downsampled\\\\least_cost_path_test_points_res_5_al_false_downsampled_25.gpkg\"),\n",
    "               read_file(\"..\\\\results\\\\least_cost_paths\\\\Downsampled\\\\least_cost_path_test_points_res_5_al_false_downsampled_50.gpkg\"),\n",
    "               read_file(\"..\\\\results\\\\least_cost_paths\\\\Downsampled\\\\least_cost_path_test_points_res_5_al_false_downsampled_100.gpkg\"),\n",
    "               ]\n",
    "path_lengths_downsampled = [x.geometry.values[0].length for x in down_sampled]\n",
    "\n",
    "# original paths, from lower resolution raster, all touched false\n",
    "original_false = [read_file(\"../results/least_cost_paths/least_cost_path_test_points_res_10_al_false.gpkg\"),\n",
    "                  read_file(\"../results/least_cost_paths/least_cost_path_test_points_res_25_al_false.gpkg\"),\n",
    "                  read_file(\"../results/least_cost_paths/least_cost_path_test_points_res_50_al_false.gpkg\"),\n",
    "                  read_file(\"../results/least_cost_paths/least_cost_path_test_points_res_100_al_false.gpkg\"),\n",
    "                 ]\n",
    "\n",
    "# original paths, from lower resolution raster, all touched false\n",
    "original_true = [read_file(\"../results/least_cost_paths/least_cost_path_test_points_res_10_al_true.gpkg\"),\n",
    "                  read_file(\"../results/least_cost_paths/least_cost_path_test_points_res_25_al_true.gpkg\"),\n",
    "                  read_file(\"../results/least_cost_paths/least_cost_path_test_points_res_50_al_true.gpkg\"),\n",
    "                  read_file(\"../results/least_cost_paths/least_cost_path_test_points_res_100_al_true.gpkg\"),\n",
    "                 ]\n",
    "\n",
    "distances_compared_to_5m = [compute_line_distances(d.geometry.values[0], least_cost_path_5_false.geometry.values[0]) for d in down_sampled]\n",
    "mean_distances_5m = [np.mean(x) for x in distances_compared_to_5m]\n",
    "\n",
    "distances_compared_to_original_false = [compute_line_distances(d.geometry.values[0], o.geometry.values[0]) for d, o in zip(down_sampled, original_false)]\n",
    "mean_distances_original_false = [np.mean(x) for x in distances_compared_to_original_false]\n",
    "\n",
    "distances_compared_to_original_true = [compute_line_distances(d.geometry.values[0], o.geometry.values[0]) for d, o in zip(down_sampled, original_true)]\n",
    "mean_distances_original_true = [np.mean(x) for x in distances_compared_to_original_true]\n",
    "\n",
    "\n",
    "DataFrame({'Path lengths down sampled': path_lengths_downsampled,\n",
    "           'mean distances to 5 m path': mean_distances_5m,\n",
    "           'relative costs': [x['total cost'][0]* res for x, res in zip(down_sampled, down_sampled_resolutions)],\n",
    "           'mean distances to original resolution, false': mean_distances_original_false,\n",
    "           'mean distances to original resolution, true': mean_distances_original_true},\n",
    "          index=down_sampled_resolutions)"
   ],
   "metadata": {
    "collapsed": false
   }
  },
  {
   "cell_type": "markdown",
   "source": [
    "## distance of paths from mixed all touched"
   ],
   "metadata": {
    "collapsed": false
   }
  },
  {
   "cell_type": "code",
   "execution_count": 5,
   "outputs": [
    {
     "data": {
      "text/plain": "     Path lengths down mixed  mean distances to 5 m path  relative costs  \\\n1               75948.436418                  119.601576        96871.42   \n2               76265.389877                   97.117364        94768.30   \n4               75960.953369                   40.130071        92935.42   \n8               76062.374725                   41.728524        91638.05   \n16              75979.532013                   56.690747        90836.73   \n32              76332.080353                   56.693706        90379.62   \n64              75448.892761                  163.479456        90111.35   \n128             75448.892761                  163.820110        89968.41   \n\n     mean distances to original resolution, false  \\\n1                                      285.501047   \n2                                      263.508125   \n4                                      206.375485   \n8                                      169.026848   \n16                                     153.313887   \n32                                     145.559320   \n64                                      10.612876   \n128                                     10.294056   \n\n     mean distances to original resolution, true  \n1                                      47.214291  \n2                                      74.191672  \n4                                     100.160364  \n8                                     137.341002  \n16                                    152.711868  \n32                                    162.089892  \n64                                    272.363191  \n128                                   272.706149  ",
      "text/html": "<div>\n<style scoped>\n    .dataframe tbody tr th:only-of-type {\n        vertical-align: middle;\n    }\n\n    .dataframe tbody tr th {\n        vertical-align: top;\n    }\n\n    .dataframe thead th {\n        text-align: right;\n    }\n</style>\n<table border=\"1\" class=\"dataframe\">\n  <thead>\n    <tr style=\"text-align: right;\">\n      <th></th>\n      <th>Path lengths down mixed</th>\n      <th>mean distances to 5 m path</th>\n      <th>relative costs</th>\n      <th>mean distances to original resolution, false</th>\n      <th>mean distances to original resolution, true</th>\n    </tr>\n  </thead>\n  <tbody>\n    <tr>\n      <th>1</th>\n      <td>75948.436418</td>\n      <td>119.601576</td>\n      <td>96871.42</td>\n      <td>285.501047</td>\n      <td>47.214291</td>\n    </tr>\n    <tr>\n      <th>2</th>\n      <td>76265.389877</td>\n      <td>97.117364</td>\n      <td>94768.30</td>\n      <td>263.508125</td>\n      <td>74.191672</td>\n    </tr>\n    <tr>\n      <th>4</th>\n      <td>75960.953369</td>\n      <td>40.130071</td>\n      <td>92935.42</td>\n      <td>206.375485</td>\n      <td>100.160364</td>\n    </tr>\n    <tr>\n      <th>8</th>\n      <td>76062.374725</td>\n      <td>41.728524</td>\n      <td>91638.05</td>\n      <td>169.026848</td>\n      <td>137.341002</td>\n    </tr>\n    <tr>\n      <th>16</th>\n      <td>75979.532013</td>\n      <td>56.690747</td>\n      <td>90836.73</td>\n      <td>153.313887</td>\n      <td>152.711868</td>\n    </tr>\n    <tr>\n      <th>32</th>\n      <td>76332.080353</td>\n      <td>56.693706</td>\n      <td>90379.62</td>\n      <td>145.559320</td>\n      <td>162.089892</td>\n    </tr>\n    <tr>\n      <th>64</th>\n      <td>75448.892761</td>\n      <td>163.479456</td>\n      <td>90111.35</td>\n      <td>10.612876</td>\n      <td>272.363191</td>\n    </tr>\n    <tr>\n      <th>128</th>\n      <td>75448.892761</td>\n      <td>163.820110</td>\n      <td>89968.41</td>\n      <td>10.294056</td>\n      <td>272.706149</td>\n    </tr>\n  </tbody>\n</table>\n</div>"
     },
     "execution_count": 5,
     "metadata": {},
     "output_type": "execute_result"
    }
   ],
   "source": [
    "# original path 5 m resolution\n",
    "least_cost_path_5_false = read_file(\"./../results/least_cost_paths/least_cost_path_test_points_res_5_al_false.json\")\n",
    "least_cost_path_5_false = least_cost_path_5_false.to_crs(25832)\n",
    "\n",
    "# original path, from lower resolution raster, all touched false\n",
    "least_cost_path_10_false = read_file(\"../results/least_cost_paths/least_cost_path_test_points_res_10_al_false.gpkg\")\n",
    "\n",
    "# original path, from lower resolution raster, all touched false\n",
    "least_cost_path_10_true = read_file(\"../results/least_cost_paths/least_cost_path_test_points_res_10_al_true.gpkg\")\n",
    "\n",
    "r_false = [1, 2, 4, 8, 16, 32, 64, 128]\n",
    "\n",
    "# paths from mixed all touched\n",
    "mixed = [read_file(\"..\\\\results\\\\least_cost_paths\\\\Mixed_10_m\\\\least_cost_path_test_points_res_10_al_mixed_1_1.gpkg\"),\n",
    "         read_file(\"..\\\\results\\\\least_cost_paths\\\\Mixed_10_m\\\\least_cost_path_test_points_res_10_al_mixed_2_1.gpkg\"),\n",
    "         read_file(\"..\\\\results\\\\least_cost_paths\\\\Mixed_10_m\\\\least_cost_path_test_points_res_10_al_mixed_4_1.gpkg\"),\n",
    "         read_file(\"..\\\\results\\\\least_cost_paths\\\\Mixed_10_m\\\\least_cost_path_test_points_res_10_al_mixed_8_1.gpkg\"),\n",
    "         read_file(\"..\\\\results\\\\least_cost_paths\\\\Mixed_10_m\\\\least_cost_path_test_points_res_10_al_mixed_16_1.gpkg\"),\n",
    "         read_file(\"..\\\\results\\\\least_cost_paths\\\\Mixed_10_m\\\\least_cost_path_test_points_res_10_al_mixed_32_1.gpkg\"),\n",
    "         read_file(\"..\\\\results\\\\least_cost_paths\\\\Mixed_10_m\\\\least_cost_path_test_points_res_10_al_mixed_64_1.gpkg\"),\n",
    "         read_file(\"..\\\\results\\\\least_cost_paths\\\\Mixed_10_m\\\\least_cost_path_test_points_res_10_al_mixed_128_1.gpkg\"),\n",
    "        ]\n",
    "path_lengths_mixed = [x.geometry.values[0].length for x in mixed]\n",
    "\n",
    "distances_compared_to_5m = [compute_line_distances(m.geometry.values[0], least_cost_path_5_false.geometry.values[0]) for m in mixed]\n",
    "mean_distances_5m = [np.mean(x) for x in distances_compared_to_5m]\n",
    "\n",
    "distances_compared_to_10m_false = [compute_line_distances(m.geometry.values[0], least_cost_path_10_false.geometry.values[0]) for m in mixed]\n",
    "mean_distances_10m_false = [np.mean(x) for x in distances_compared_to_10m_false]\n",
    "\n",
    "distances_compared_to_10m_true = [compute_line_distances(m.geometry.values[0], least_cost_path_10_true.geometry.values[0]) for m in mixed]\n",
    "mean_distances_10m_true = [np.mean(x) for x in distances_compared_to_10m_true]\n",
    "\n",
    "\n",
    "DataFrame({'Path lengths down mixed': path_lengths_mixed,\n",
    "           'mean distances to 5 m path': mean_distances_5m,\n",
    "           'relative costs': [x['total cost'][0]* 10 for x in mixed],\n",
    "           'mean distances to original resolution, false': mean_distances_10m_false,\n",
    "           'mean distances to original resolution, true': mean_distances_10m_true},\n",
    "          index=r_false)"
   ],
   "metadata": {
    "collapsed": false
   }
  },
  {
   "cell_type": "markdown",
   "source": [
    "# costs"
   ],
   "metadata": {
    "collapsed": false
   }
  },
  {
   "cell_type": "code",
   "execution_count": 6,
   "outputs": [
    {
     "data": {
      "text/plain": "     total costs false  total costs true  scaled total costs false  \\\n5            18665.923         19516.754                 93329.615   \n10            8931.245          9731.175                 89312.450   \n25            3354.869          3872.656                 83871.725   \n50            1409.023          2300.073                 70451.150   \n100            640.516          1572.268                 64051.600   \n\n     scaled total costs true  \n5                   97583.77  \n10                  97311.75  \n25                  96816.40  \n50                 115003.65  \n100                157226.80  ",
      "text/html": "<div>\n<style scoped>\n    .dataframe tbody tr th:only-of-type {\n        vertical-align: middle;\n    }\n\n    .dataframe tbody tr th {\n        vertical-align: top;\n    }\n\n    .dataframe thead th {\n        text-align: right;\n    }\n</style>\n<table border=\"1\" class=\"dataframe\">\n  <thead>\n    <tr style=\"text-align: right;\">\n      <th></th>\n      <th>total costs false</th>\n      <th>total costs true</th>\n      <th>scaled total costs false</th>\n      <th>scaled total costs true</th>\n    </tr>\n  </thead>\n  <tbody>\n    <tr>\n      <th>5</th>\n      <td>18665.923</td>\n      <td>19516.754</td>\n      <td>93329.615</td>\n      <td>97583.77</td>\n    </tr>\n    <tr>\n      <th>10</th>\n      <td>8931.245</td>\n      <td>9731.175</td>\n      <td>89312.450</td>\n      <td>97311.75</td>\n    </tr>\n    <tr>\n      <th>25</th>\n      <td>3354.869</td>\n      <td>3872.656</td>\n      <td>83871.725</td>\n      <td>96816.40</td>\n    </tr>\n    <tr>\n      <th>50</th>\n      <td>1409.023</td>\n      <td>2300.073</td>\n      <td>70451.150</td>\n      <td>115003.65</td>\n    </tr>\n    <tr>\n      <th>100</th>\n      <td>640.516</td>\n      <td>1572.268</td>\n      <td>64051.600</td>\n      <td>157226.80</td>\n    </tr>\n  </tbody>\n</table>\n</div>"
     },
     "execution_count": 6,
     "metadata": {},
     "output_type": "execute_result"
    }
   ],
   "source": [
    "least_cost_path_5_false = read_file(\"./../results/least_cost_paths/least_cost_path_test_points_res_5_al_false.json\")\n",
    "least_cost_path_5_false = least_cost_path_5_false.to_crs(25832)\n",
    "\n",
    "lcp_false = [least_cost_path_5_false,\n",
    "               read_file(\"../results/least_cost_paths/least_cost_path_test_points_res_10_al_false.gpkg\"),\n",
    "               read_file(\"../results/least_cost_paths/least_cost_path_test_points_res_25_al_false.gpkg\"),\n",
    "               read_file(\"../results/least_cost_paths/least_cost_path_test_points_res_50_al_false.gpkg\"),\n",
    "               read_file(\"../results/least_cost_paths/least_cost_path_test_points_res_100_al_false.gpkg\")]\n",
    "lcp_true = [read_file(\"./../results/least_cost_paths/least_cost_path_test_points_res_5_al_true.gpkg\"),\n",
    "              read_file(\"../results/least_cost_paths/least_cost_path_test_points_res_10_al_true.gpkg\"),\n",
    "              read_file(\"../results/least_cost_paths/least_cost_path_test_points_res_25_al_true.gpkg\"),\n",
    "              read_file(\"../results/least_cost_paths/least_cost_path_test_points_res_50_al_true.gpkg\"),\n",
    "              read_file(\"../results/least_cost_paths/least_cost_path_test_points_res_100_al_true.gpkg\")]\n",
    "\n",
    "resolutions = [5, 10, 25, 50, 100]\n",
    "total_costs_false = np.array([x['total cost'][0] for x in lcp_false])\n",
    "total_costs_true = np.array([x['total cost'][0] for x in lcp_true])\n",
    "delta_total_costs = total_costs_false - total_costs_true\n",
    "\n",
    "scaled_total_costs_false = np.array([x * y for x, y in zip(total_costs_false, resolutions)])\n",
    "scaled_total_costs_true = np.array([x * y for x, y in zip(total_costs_true, resolutions)])\n",
    "delta_scaled_costs = scaled_total_costs_false - scaled_total_costs_true\n",
    "\n",
    "lengths_false = np.array([x.geometry.length[0] for x in lcp_false])\n",
    "lengths_true = np.array([x.geometry.length[0] for x in lcp_true])\n",
    "delta_scaled_costs_per_length = delta_scaled_costs / np.array(\n",
    "    [x / 2 + y / 2 for x, y in zip(lengths_false, lengths_true)])\n",
    "\n",
    "DataFrame({\"total costs false\": total_costs_false,\n",
    "           \"total costs true\": total_costs_true,\n",
    "           \"scaled total costs false\": scaled_total_costs_false,\n",
    "           \"scaled total costs true\": scaled_total_costs_true,\n",
    "           },\n",
    "          index=resolutions)"
   ],
   "metadata": {
    "collapsed": false
   }
  },
  {
   "cell_type": "markdown",
   "source": [
    "# zonal stats\n",
    "## 5 m"
   ],
   "metadata": {
    "collapsed": false
   }
  },
  {
   "cell_type": "code",
   "execution_count": 7,
   "outputs": [],
   "source": [
    "def compute_zonal_stat_path(base_raster: DataArray, path: GeoSeries, buffer: float, _cmap):\n",
    "    stats = zonal_stats(path.buffer(buffer), base_raster.data[0],\n",
    "                        affine=base_raster.rio.transform(), nodata=base_raster.rio.nodata,\n",
    "                        categorical=True, category_map=_cmap)[0]\n",
    "\n",
    "    stat_sum = np.sum(list(stats.values()))\n",
    "    rel_stats = {k: (v / stat_sum * 100.0) for k, v in stats.items()}\n",
    "    return rel_stats"
   ],
   "metadata": {
    "collapsed": false
   }
  },
  {
   "cell_type": "code",
   "execution_count": 8,
   "outputs": [],
   "source": [
    "def show_zonal_data(f_100, f_5, t_100, t_5) -> DataFrame:\n",
    "    return DataFrame({'rel. statistic false buffer 100 m': f_100.values(),\n",
    "           'rel. statistic false buffer 5 m': f_5.values(),\n",
    "           'rel. statistic true buffer 100 m': t_100.values(),\n",
    "           'rel. statistic true buffer 5 m': t_5.values(),\n",
    "           },\n",
    "          index=f_100.keys())"
   ],
   "metadata": {
    "collapsed": false
   }
  },
  {
   "cell_type": "code",
   "execution_count": 9,
   "outputs": [
    {
     "data": {
      "text/plain": "                     rel. statistic false buffer 100 m  \\\nPreferential                                  4.700294   \nNo Restriction                               58.703593   \nRestricted                                    8.782101   \nStrongly Restricted                           0.734480   \nProhibited                                   27.079533   \n\n                     rel. statistic false buffer 5 m  \\\nPreferential                                5.394347   \nNo Restriction                             58.857668   \nRestricted                                  8.358732   \nStrongly Restricted                         0.684731   \nProhibited                                 26.704522   \n\n                     rel. statistic true buffer 100 m  \\\nPreferential                                18.896877   \nNo Restriction                              67.309240   \nRestricted                                   1.291177   \nStrongly Restricted                          0.986639   \nProhibited                                  11.516067   \n\n                     rel. statistic true buffer 5 m  \nPreferential                              28.469761  \nNo Restriction                            66.440784  \nRestricted                                 1.618986  \nStrongly Restricted                        0.496186  \nProhibited                                 2.974283  ",
      "text/html": "<div>\n<style scoped>\n    .dataframe tbody tr th:only-of-type {\n        vertical-align: middle;\n    }\n\n    .dataframe tbody tr th {\n        vertical-align: top;\n    }\n\n    .dataframe thead th {\n        text-align: right;\n    }\n</style>\n<table border=\"1\" class=\"dataframe\">\n  <thead>\n    <tr style=\"text-align: right;\">\n      <th></th>\n      <th>rel. statistic false buffer 100 m</th>\n      <th>rel. statistic false buffer 5 m</th>\n      <th>rel. statistic true buffer 100 m</th>\n      <th>rel. statistic true buffer 5 m</th>\n    </tr>\n  </thead>\n  <tbody>\n    <tr>\n      <th>Preferential</th>\n      <td>4.700294</td>\n      <td>5.394347</td>\n      <td>18.896877</td>\n      <td>28.469761</td>\n    </tr>\n    <tr>\n      <th>No Restriction</th>\n      <td>58.703593</td>\n      <td>58.857668</td>\n      <td>67.309240</td>\n      <td>66.440784</td>\n    </tr>\n    <tr>\n      <th>Restricted</th>\n      <td>8.782101</td>\n      <td>8.358732</td>\n      <td>1.291177</td>\n      <td>1.618986</td>\n    </tr>\n    <tr>\n      <th>Strongly Restricted</th>\n      <td>0.734480</td>\n      <td>0.684731</td>\n      <td>0.986639</td>\n      <td>0.496186</td>\n    </tr>\n    <tr>\n      <th>Prohibited</th>\n      <td>27.079533</td>\n      <td>26.704522</td>\n      <td>11.516067</td>\n      <td>2.974283</td>\n    </tr>\n  </tbody>\n</table>\n</div>"
     },
     "execution_count": 9,
     "metadata": {},
     "output_type": "execute_result"
    }
   ],
   "source": [
    "buffer_dist_100 = 100\n",
    "buffer_dist_5 = 5\n",
    "\n",
    "cmap = {0.1: 'Preferential', 0.5: 'No Restriction', 5.0: 'Restricted', 10.0: 'Strongly Restricted', 500: 'Prohibited'}\n",
    "\n",
    "least_cost_path_5_false = read_file(\"./../results/least_cost_paths/least_cost_path_test_points_res_5_al_false.gpkg\")\n",
    "least_cost_path_5_false = least_cost_path_5_false.to_crs(25832)\n",
    "least_cost_path_5_true = read_file(\"./../results/least_cost_paths/least_cost_path_test_points_res_5_al_true.gpkg\")\n",
    "\n",
    "\n",
    "raster_5f = open_rasterio(Path(r'./../results/weights/result_res_5_all_touched_False.tif'))\n",
    "raster_5t = open_rasterio(Path(r'./../results/weights/result_res_5_all_touched_True.tif'))\n",
    "\n",
    "rel_stats_5f_100 = compute_zonal_stat_path(raster_5f, least_cost_path_5_false, buffer_dist_100, cmap)\n",
    "rel_stats_5f_5 = compute_zonal_stat_path(raster_5f, least_cost_path_5_false, buffer_dist_5, cmap)\n",
    "\n",
    "rel_stats_5t_100 = compute_zonal_stat_path(raster_5t, least_cost_path_5_true, buffer_dist_100, cmap)\n",
    "rel_stats_5t_5 = compute_zonal_stat_path(raster_5t, least_cost_path_5_true, buffer_dist_5, cmap)\n",
    "\n",
    "show_zonal_data(rel_stats_5f_100, rel_stats_5f_5, rel_stats_5t_100, rel_stats_5t_5)"
   ],
   "metadata": {
    "collapsed": false
   }
  },
  {
   "cell_type": "markdown",
   "source": [
    "## 10 m"
   ],
   "metadata": {
    "collapsed": false
   }
  },
  {
   "cell_type": "code",
   "execution_count": 10,
   "outputs": [
    {
     "data": {
      "text/plain": "                     rel. statistic false buffer 100 m  \\\nPreferential                                 19.595563   \nNo Restriction                               68.533269   \nRestricted                                    0.977264   \nStrongly Restricted                           0.799352   \nProhibited                                   10.094552   \n\n                     rel. statistic false buffer 5 m  \\\nPreferential                               33.541397   \nNo Restriction                             64.479301   \nRestricted                                  0.730918   \nStrongly Restricted                         0.316947   \nProhibited                                  0.931436   \n\n                     rel. statistic true buffer 100 m  \\\nPreferential                                18.921619   \nNo Restriction                              66.608802   \nRestricted                                   1.627109   \nStrongly Restricted                          1.374331   \nProhibited                                  11.468139   \n\n                     rel. statistic true buffer 5 m  \nPreferential                              33.666907  \nNo Restriction                            63.399944  \nRestricted                                 1.377168  \nStrongly Restricted                        0.580356  \nProhibited                                 0.975625  ",
      "text/html": "<div>\n<style scoped>\n    .dataframe tbody tr th:only-of-type {\n        vertical-align: middle;\n    }\n\n    .dataframe tbody tr th {\n        vertical-align: top;\n    }\n\n    .dataframe thead th {\n        text-align: right;\n    }\n</style>\n<table border=\"1\" class=\"dataframe\">\n  <thead>\n    <tr style=\"text-align: right;\">\n      <th></th>\n      <th>rel. statistic false buffer 100 m</th>\n      <th>rel. statistic false buffer 5 m</th>\n      <th>rel. statistic true buffer 100 m</th>\n      <th>rel. statistic true buffer 5 m</th>\n    </tr>\n  </thead>\n  <tbody>\n    <tr>\n      <th>Preferential</th>\n      <td>19.595563</td>\n      <td>33.541397</td>\n      <td>18.921619</td>\n      <td>33.666907</td>\n    </tr>\n    <tr>\n      <th>No Restriction</th>\n      <td>68.533269</td>\n      <td>64.479301</td>\n      <td>66.608802</td>\n      <td>63.399944</td>\n    </tr>\n    <tr>\n      <th>Restricted</th>\n      <td>0.977264</td>\n      <td>0.730918</td>\n      <td>1.627109</td>\n      <td>1.377168</td>\n    </tr>\n    <tr>\n      <th>Strongly Restricted</th>\n      <td>0.799352</td>\n      <td>0.316947</td>\n      <td>1.374331</td>\n      <td>0.580356</td>\n    </tr>\n    <tr>\n      <th>Prohibited</th>\n      <td>10.094552</td>\n      <td>0.931436</td>\n      <td>11.468139</td>\n      <td>0.975625</td>\n    </tr>\n  </tbody>\n</table>\n</div>"
     },
     "execution_count": 10,
     "metadata": {},
     "output_type": "execute_result"
    }
   ],
   "source": [
    "raster_10_f = open_rasterio(Path(r'./../results/weights/result_res_10_all_touched_False.tif')).rio.reproject_match(\n",
    "    raster_5f)\n",
    "raster_10_t = open_rasterio(Path(r'./../results/weights/result_res_10_all_touched_True.tif')).rio.reproject_match(\n",
    "    raster_5t)\n",
    "\n",
    "least_cost_path_10_false = read_file(\"./../results/least_cost_paths/least_cost_path_test_points_res_10_al_false.gpkg\")\n",
    "least_cost_path_10_true = read_file(\"./../results/least_cost_paths/least_cost_path_test_points_res_10_al_true.gpkg\")\n",
    "\n",
    "\n",
    "rel_stats_10f_100 = compute_zonal_stat_path(raster_10_f, least_cost_path_10_false, buffer_dist_100, cmap)\n",
    "rel_stats_10f_5 = compute_zonal_stat_path(raster_10_f, least_cost_path_10_false, buffer_dist_5, cmap)\n",
    "rel_stats_10t_100 = compute_zonal_stat_path(raster_10_t, least_cost_path_10_true, buffer_dist_100, cmap)\n",
    "rel_stats_10t_5 = compute_zonal_stat_path(raster_10_t, least_cost_path_10_true, buffer_dist_5, cmap)\n",
    "\n",
    "show_zonal_data(rel_stats_10f_100, rel_stats_10f_5, rel_stats_10t_100, rel_stats_10t_5)"
   ],
   "metadata": {
    "collapsed": false
   }
  },
  {
   "cell_type": "markdown",
   "source": [
    "## 25 m"
   ],
   "metadata": {
    "collapsed": false
   }
  },
  {
   "cell_type": "code",
   "execution_count": 11,
   "outputs": [
    {
     "data": {
      "text/plain": "                     rel. statistic false buffer 100 m  \\\nPreferential                                 19.826572   \nNo Restriction                               68.874543   \nRestricted                                    0.956427   \nStrongly Restricted                           0.666827   \nProhibited                                    9.675631   \n\n                     rel. statistic false buffer 5 m  \\\nPreferential                               34.227496   \nNo Restriction                             64.912694   \nRestricted                                  0.214952   \nStrongly Restricted                         0.091281   \nProhibited                                  0.553576   \n\n                     rel. statistic true buffer 100 m  \\\nPreferential                                18.677156   \nNo Restriction                              65.459597   \nRestricted                                   1.955096   \nStrongly Restricted                          2.541035   \nProhibited                                  11.367116   \n\n                     rel. statistic true buffer 5 m  \nPreferential                              31.925549  \nNo Restriction                            65.514843  \nRestricted                                 1.282586  \nStrongly Restricted                        0.703892  \nProhibited                                 0.573130  ",
      "text/html": "<div>\n<style scoped>\n    .dataframe tbody tr th:only-of-type {\n        vertical-align: middle;\n    }\n\n    .dataframe tbody tr th {\n        vertical-align: top;\n    }\n\n    .dataframe thead th {\n        text-align: right;\n    }\n</style>\n<table border=\"1\" class=\"dataframe\">\n  <thead>\n    <tr style=\"text-align: right;\">\n      <th></th>\n      <th>rel. statistic false buffer 100 m</th>\n      <th>rel. statistic false buffer 5 m</th>\n      <th>rel. statistic true buffer 100 m</th>\n      <th>rel. statistic true buffer 5 m</th>\n    </tr>\n  </thead>\n  <tbody>\n    <tr>\n      <th>Preferential</th>\n      <td>19.826572</td>\n      <td>34.227496</td>\n      <td>18.677156</td>\n      <td>31.925549</td>\n    </tr>\n    <tr>\n      <th>No Restriction</th>\n      <td>68.874543</td>\n      <td>64.912694</td>\n      <td>65.459597</td>\n      <td>65.514843</td>\n    </tr>\n    <tr>\n      <th>Restricted</th>\n      <td>0.956427</td>\n      <td>0.214952</td>\n      <td>1.955096</td>\n      <td>1.282586</td>\n    </tr>\n    <tr>\n      <th>Strongly Restricted</th>\n      <td>0.666827</td>\n      <td>0.091281</td>\n      <td>2.541035</td>\n      <td>0.703892</td>\n    </tr>\n    <tr>\n      <th>Prohibited</th>\n      <td>9.675631</td>\n      <td>0.553576</td>\n      <td>11.367116</td>\n      <td>0.573130</td>\n    </tr>\n  </tbody>\n</table>\n</div>"
     },
     "execution_count": 11,
     "metadata": {},
     "output_type": "execute_result"
    }
   ],
   "source": [
    "raster_25f = open_rasterio(Path(r'./../results/weights/result_res_25_all_touched_False.tif')).rio.reproject_match(\n",
    "    raster_5f)\n",
    "raster_25t = open_rasterio(Path(r'./../results/weights/result_res_25_all_touched_True.tif')).rio.reproject_match(\n",
    "    raster_5t)\n",
    "\n",
    "least_cost_path_25_false = read_file(\"./../results/least_cost_paths/least_cost_path_test_points_res_25_al_false.gpkg\")\n",
    "least_cost_path_25_true = read_file(\"./../results/least_cost_paths/least_cost_path_test_points_res_25_al_true.gpkg\")\n",
    "\n",
    "rel_stats_25f_100 = compute_zonal_stat_path(raster_25f, least_cost_path_25_false, buffer_dist_100, cmap)\n",
    "rel_stats_25f_5 = compute_zonal_stat_path(raster_25f, least_cost_path_25_false, buffer_dist_5, cmap)\n",
    "rel_stats_25t_100 = compute_zonal_stat_path(raster_25t, least_cost_path_25_true, buffer_dist_100, cmap)\n",
    "rel_stats_25t_5 = compute_zonal_stat_path(raster_25t, least_cost_path_25_true, buffer_dist_5, cmap)\n",
    "\n",
    "show_zonal_data(rel_stats_25f_100, rel_stats_25f_5, rel_stats_25t_100, rel_stats_25t_5)"
   ],
   "metadata": {
    "collapsed": false
   }
  },
  {
   "cell_type": "markdown",
   "source": [
    "## 50 m"
   ],
   "metadata": {
    "collapsed": false
   }
  },
  {
   "cell_type": "code",
   "execution_count": 12,
   "outputs": [
    {
     "data": {
      "text/plain": "                     rel. statistic false buffer 100 m  \\\nPreferential                                 20.424132   \nNo Restriction                               67.975541   \nRestricted                                    0.869934   \nStrongly Restricted                           0.670495   \nProhibited                                   10.059897   \n\n                     rel. statistic false buffer 5 m  \\\nPreferential                               33.180815   \nNo Restriction                             66.198445   \nRestricted                                  0.076793   \nStrongly Restricted                         0.041596   \nProhibited                                  0.502352   \n\n                     rel. statistic true buffer 100 m  \\\nPreferential                                 9.144355   \nNo Restriction                              75.682387   \nRestricted                                   3.898266   \nStrongly Restricted                          4.172340   \nProhibited                                   7.102651   \n\n                     rel. statistic true buffer 5 m  \nPreferential                              13.028230  \nNo Restriction                            82.986624  \nRestricted                                 1.956469  \nStrongly Restricted                        1.591995  \nProhibited                                 0.436681  ",
      "text/html": "<div>\n<style scoped>\n    .dataframe tbody tr th:only-of-type {\n        vertical-align: middle;\n    }\n\n    .dataframe tbody tr th {\n        vertical-align: top;\n    }\n\n    .dataframe thead th {\n        text-align: right;\n    }\n</style>\n<table border=\"1\" class=\"dataframe\">\n  <thead>\n    <tr style=\"text-align: right;\">\n      <th></th>\n      <th>rel. statistic false buffer 100 m</th>\n      <th>rel. statistic false buffer 5 m</th>\n      <th>rel. statistic true buffer 100 m</th>\n      <th>rel. statistic true buffer 5 m</th>\n    </tr>\n  </thead>\n  <tbody>\n    <tr>\n      <th>Preferential</th>\n      <td>20.424132</td>\n      <td>33.180815</td>\n      <td>9.144355</td>\n      <td>13.028230</td>\n    </tr>\n    <tr>\n      <th>No Restriction</th>\n      <td>67.975541</td>\n      <td>66.198445</td>\n      <td>75.682387</td>\n      <td>82.986624</td>\n    </tr>\n    <tr>\n      <th>Restricted</th>\n      <td>0.869934</td>\n      <td>0.076793</td>\n      <td>3.898266</td>\n      <td>1.956469</td>\n    </tr>\n    <tr>\n      <th>Strongly Restricted</th>\n      <td>0.670495</td>\n      <td>0.041596</td>\n      <td>4.172340</td>\n      <td>1.591995</td>\n    </tr>\n    <tr>\n      <th>Prohibited</th>\n      <td>10.059897</td>\n      <td>0.502352</td>\n      <td>7.102651</td>\n      <td>0.436681</td>\n    </tr>\n  </tbody>\n</table>\n</div>"
     },
     "execution_count": 12,
     "metadata": {},
     "output_type": "execute_result"
    }
   ],
   "source": [
    "raster_50f = open_rasterio(Path(r'./../results/weights/result_res_50_all_touched_False.tif')).rio.reproject_match(\n",
    "    raster_5f)\n",
    "raster_50t = open_rasterio(Path(r'./../results/weights/result_res_50_all_touched_True.tif')).rio.reproject_match(\n",
    "    raster_5t)\n",
    "\n",
    "least_cost_path_50_false = read_file(\"./../results/least_cost_paths/least_cost_path_test_points_res_50_al_false.gpkg\")\n",
    "least_cost_path_50_true = read_file(\"./../results/least_cost_paths/least_cost_path_test_points_res_50_al_true.gpkg\")\n",
    "\n",
    "rel_stats_50f_100 = compute_zonal_stat_path(raster_50f, least_cost_path_50_false, buffer_dist_100, cmap)\n",
    "rel_stats_50f_5 = compute_zonal_stat_path(raster_50f, least_cost_path_50_false, buffer_dist_5, cmap)\n",
    "rel_stats_50t_100 = compute_zonal_stat_path(raster_50t, least_cost_path_50_true, buffer_dist_100, cmap)\n",
    "rel_stats_50t_5 = compute_zonal_stat_path(raster_50t, least_cost_path_50_true, buffer_dist_5, cmap)\n",
    "\n",
    "show_zonal_data(rel_stats_50f_100, rel_stats_50f_5, rel_stats_50t_100, rel_stats_50t_5)"
   ],
   "metadata": {
    "collapsed": false
   }
  },
  {
   "cell_type": "markdown",
   "source": [
    "## 100 m"
   ],
   "metadata": {
    "collapsed": false
   }
  },
  {
   "cell_type": "code",
   "execution_count": 13,
   "outputs": [
    {
     "data": {
      "text/plain": "                     rel. statistic false buffer 100 m  \\\nPreferential                                 21.116438   \nNo Restriction                               69.125830   \nRestricted                                    1.105329   \nStrongly Restricted                           0.720938   \nProhibited                                    7.931465   \n\n                     rel. statistic false buffer 5 m  \\\nPreferential                               30.733593   \nNo Restriction                             68.812704   \nRestricted                                  0.038341   \nStrongly Restricted                         0.019171   \nProhibited                                  0.396191   \n\n                     rel. statistic true buffer 100 m  \\\nPreferential                                 6.972863   \nNo Restriction                              73.807723   \nRestricted                                   5.540127   \nStrongly Restricted                          8.512545   \nProhibited                                   5.166743   \n\n                     rel. statistic true buffer 5 m  \nPreferential                              10.132879  \nNo Restriction                            81.943444  \nRestricted                                 3.911108  \nStrongly Restricted                        3.610002  \nProhibited                                 0.402566  ",
      "text/html": "<div>\n<style scoped>\n    .dataframe tbody tr th:only-of-type {\n        vertical-align: middle;\n    }\n\n    .dataframe tbody tr th {\n        vertical-align: top;\n    }\n\n    .dataframe thead th {\n        text-align: right;\n    }\n</style>\n<table border=\"1\" class=\"dataframe\">\n  <thead>\n    <tr style=\"text-align: right;\">\n      <th></th>\n      <th>rel. statistic false buffer 100 m</th>\n      <th>rel. statistic false buffer 5 m</th>\n      <th>rel. statistic true buffer 100 m</th>\n      <th>rel. statistic true buffer 5 m</th>\n    </tr>\n  </thead>\n  <tbody>\n    <tr>\n      <th>Preferential</th>\n      <td>21.116438</td>\n      <td>30.733593</td>\n      <td>6.972863</td>\n      <td>10.132879</td>\n    </tr>\n    <tr>\n      <th>No Restriction</th>\n      <td>69.125830</td>\n      <td>68.812704</td>\n      <td>73.807723</td>\n      <td>81.943444</td>\n    </tr>\n    <tr>\n      <th>Restricted</th>\n      <td>1.105329</td>\n      <td>0.038341</td>\n      <td>5.540127</td>\n      <td>3.911108</td>\n    </tr>\n    <tr>\n      <th>Strongly Restricted</th>\n      <td>0.720938</td>\n      <td>0.019171</td>\n      <td>8.512545</td>\n      <td>3.610002</td>\n    </tr>\n    <tr>\n      <th>Prohibited</th>\n      <td>7.931465</td>\n      <td>0.396191</td>\n      <td>5.166743</td>\n      <td>0.402566</td>\n    </tr>\n  </tbody>\n</table>\n</div>"
     },
     "execution_count": 13,
     "metadata": {},
     "output_type": "execute_result"
    }
   ],
   "source": [
    "raster_100f = open_rasterio('./../results/weights/result_res_100_all_touched_False.tif').rio.reproject_match(raster_5f)\n",
    "raster_100t = open_rasterio(r'./../results/weights/result_res_100_all_touched_True.tif').rio.reproject_match(raster_5t)\n",
    "\n",
    "least_cost_path_100_false = read_file(\"./../results/least_cost_paths/least_cost_path_test_points_res_100_al_false.gpkg\")\n",
    "least_cost_path_100_true = read_file(\"./../results/least_cost_paths/least_cost_path_test_points_res_100_al_true.gpkg\")\n",
    "\n",
    "rel_stats_100f_100 = compute_zonal_stat_path(raster_100f, least_cost_path_100_false, buffer_dist_100, cmap)\n",
    "rel_stats_100f_5 = compute_zonal_stat_path(raster_100f, least_cost_path_100_false, buffer_dist_5, cmap)\n",
    "rel_stats_100t_100 = compute_zonal_stat_path(raster_100t, least_cost_path_100_true, buffer_dist_100, cmap)\n",
    "rel_stats_100t_5 = compute_zonal_stat_path(raster_100t, least_cost_path_100_true, buffer_dist_5, cmap)\n",
    "\n",
    "show_zonal_data(rel_stats_100f_100, rel_stats_100f_5, rel_stats_100t_100, rel_stats_100t_5)"
   ],
   "metadata": {
    "collapsed": false
   }
  },
  {
   "cell_type": "markdown",
   "source": [
    "# lines -> buffered Polygons"
   ],
   "metadata": {
    "collapsed": false
   }
  },
  {
   "cell_type": "code",
   "execution_count": 14,
   "outputs": [],
   "source": [
    "def create_buffer_polygon(line1: LineString, line2: LineString, crs, buffer) -> GeoDataFrame:\n",
    "    x = list(line1.xy[0])\n",
    "    y = list(line1.xy[1])\n",
    "\n",
    "    x.extend(list(reversed(line2.xy[0])))\n",
    "    y.extend(list(reversed(line2.xy[1])))\n",
    "\n",
    "    poly = make_valid(Polygon(zip(x, y))).buffer(buffer)\n",
    "\n",
    "    return GeoDataFrame({'buffer': [buffer, ], 'geometry': [poly, ]}, crs=crs)"
   ],
   "metadata": {
    "collapsed": false
   }
  },
  {
   "cell_type": "code",
   "execution_count": 15,
   "outputs": [
    {
     "data": {
      "text/plain": "[None, None, None, None, None]"
     },
     "execution_count": 15,
     "metadata": {},
     "output_type": "execute_result"
    }
   ],
   "source": [
    "[create_buffer_polygon(f.geometry.values[0], t.geometry.values[0], 25832, 2 * max_dist).to_file(s) for f, t, max_dist, s in\n",
    " zip(paths_false, paths_true, max_distances,\n",
    "     [f\"./../results/Buffer_Polygons/least_cost_path_res_{x}_buffer.gpkg\" for x in resolutions])]"
   ],
   "metadata": {
    "collapsed": false
   }
  },
  {
   "cell_type": "markdown",
   "source": [
    "# Mask the 2.5 m and 5 m resolution Raster by the Buffer (from the 50 m resolution Paths)\n",
    "Masking the original 50 m resolution cost raster by the polygon, created from the buffered 50 m resolution the least cost path.\n",
    "The buffer is two times the maximum minimum distance between the paths.\n",
    "## masking the 5 m resolution raster"
   ],
   "metadata": {
    "collapsed": false
   }
  },
  {
   "cell_type": "code",
   "execution_count": 16,
   "outputs": [],
   "source": [
    "def create_statistic(raster: list, names: list) -> DataFrame:\n",
    "    raster_y = np.array([x.shape[1] for x in raster])\n",
    "    raster_x = np.array([x.shape[2] for x in raster])\n",
    "    counts = raster_y * raster_x\n",
    "    nodata_counts = np.array([np.sum(x.data == x.rio.nodata) for x in raster])\n",
    "\n",
    "    return DataFrame(data={'height': raster_y,\n",
    "                           'width': raster_x,\n",
    "                           'pixel_count': counts,\n",
    "                           'pixel_percentage': counts / np.max(counts) * 100.0,\n",
    "                           'nodata_count': nodata_counts,\n",
    "                           'nodata_percentage': nodata_counts / counts * 100.0,\n",
    "                           'kept_percentage': (counts - nodata_counts) / np.max(counts) * 100.0},\n",
    "\n",
    "                     index=names)"
   ],
   "metadata": {
    "collapsed": false
   }
  },
  {
   "cell_type": "code",
   "execution_count": 17,
   "outputs": [
    {
     "ename": "CPLE_AppDefinedError",
     "evalue": "Deleting ..\\results\\weights\\Clipped\\result_res_5_all_touched_False_clipped.tif failed: Permission denied",
     "output_type": "error",
     "traceback": [
      "\u001B[1;31m---------------------------------------------------------------------------\u001B[0m",
      "\u001B[1;31mCPLE_AppDefinedError\u001B[0m                      Traceback (most recent call last)",
      "Cell \u001B[1;32mIn[17], line 7\u001B[0m\n\u001B[0;32m      4\u001B[0m raster_5t \u001B[38;5;241m=\u001B[39m open_rasterio(Path(\u001B[38;5;124mr\u001B[39m\u001B[38;5;124m'\u001B[39m\u001B[38;5;124m./../results/weights/result_res_5_all_touched_True.tif\u001B[39m\u001B[38;5;124m'\u001B[39m))\n\u001B[0;32m      6\u001B[0m raster_5f_clipped \u001B[38;5;241m=\u001B[39m raster_5f\u001B[38;5;241m.\u001B[39mrio\u001B[38;5;241m.\u001B[39mclip(mask_50\u001B[38;5;241m.\u001B[39mgeometry\u001B[38;5;241m.\u001B[39mvalues, mask_50\u001B[38;5;241m.\u001B[39mcrs, drop\u001B[38;5;241m=\u001B[39m\u001B[38;5;28;01mFalse\u001B[39;00m)\n\u001B[1;32m----> 7\u001B[0m \u001B[43mwrite_compressed\u001B[49m\u001B[43m(\u001B[49m\u001B[43mraster_5f_clipped\u001B[49m\u001B[43m,\u001B[49m\u001B[43m \u001B[49m\u001B[43mPath\u001B[49m\u001B[43m(\u001B[49m\u001B[38;5;124;43mr\u001B[39;49m\u001B[38;5;124;43m'\u001B[39;49m\u001B[38;5;124;43m./../results/weights/Clipped/result_res_5_all_touched_False_clipped.tif\u001B[39;49m\u001B[38;5;124;43m'\u001B[39;49m\u001B[43m)\u001B[49m\u001B[43m)\u001B[49m\n\u001B[0;32m      8\u001B[0m raster_5f_clipped_dropped \u001B[38;5;241m=\u001B[39m raster_5f\u001B[38;5;241m.\u001B[39mrio\u001B[38;5;241m.\u001B[39mclip(mask_50\u001B[38;5;241m.\u001B[39mgeometry\u001B[38;5;241m.\u001B[39mvalues, mask_50\u001B[38;5;241m.\u001B[39mcrs, drop\u001B[38;5;241m=\u001B[39m\u001B[38;5;28;01mTrue\u001B[39;00m)\n\u001B[0;32m      9\u001B[0m write_compressed(raster_5f_clipped_dropped,\n\u001B[0;32m     10\u001B[0m                  Path(\u001B[38;5;124mr\u001B[39m\u001B[38;5;124m'\u001B[39m\u001B[38;5;124m./../results/weights/Clipped/result_res_5_all_touched_False_clipped_drop.tif\u001B[39m\u001B[38;5;124m'\u001B[39m))\n",
      "File \u001B[1;32mE:\\Basti\\Studium\\HSHarz\\WissenschaftlichesArbeiten\\WebProcessing-StandardisedGISAnalysesforCableRoutePlanning\\src\\rules2weights.py:30\u001B[0m, in \u001B[0;36mwrite_compressed\u001B[1;34m(r, save)\u001B[0m\n\u001B[0;32m     23\u001B[0m \u001B[38;5;124;03m\"\"\"\u001B[39;00m\n\u001B[0;32m     24\u001B[0m \u001B[38;5;124;03mSaving the raster r at save\u001B[39;00m\n\u001B[0;32m     25\u001B[0m \u001B[38;5;124;03m:param r: raster as DataArray\u001B[39;00m\n\u001B[0;32m     26\u001B[0m \u001B[38;5;124;03m:param save: save Path\u001B[39;00m\n\u001B[0;32m     27\u001B[0m \u001B[38;5;124;03m:return: None (write)\u001B[39;00m\n\u001B[0;32m     28\u001B[0m \u001B[38;5;124;03m\"\"\"\u001B[39;00m\n\u001B[0;32m     29\u001B[0m predict \u001B[38;5;241m=\u001B[39m \u001B[38;5;241m3\u001B[39m \u001B[38;5;28;01mif\u001B[39;00m np\u001B[38;5;241m.\u001B[39missubdtype(r\u001B[38;5;241m.\u001B[39mdtype, np\u001B[38;5;241m.\u001B[39mfloating) \u001B[38;5;28;01melse\u001B[39;00m \u001B[38;5;241m2\u001B[39m\n\u001B[1;32m---> 30\u001B[0m \u001B[43mr\u001B[49m\u001B[38;5;241;43m.\u001B[39;49m\u001B[43mrio\u001B[49m\u001B[38;5;241;43m.\u001B[39;49m\u001B[43mto_raster\u001B[49m\u001B[43m(\u001B[49m\u001B[43msave\u001B[49m\u001B[43m,\u001B[49m\u001B[43m \u001B[49m\u001B[43mdriver\u001B[49m\u001B[38;5;241;43m=\u001B[39;49m\u001B[38;5;124;43m'\u001B[39;49m\u001B[38;5;124;43mGTiff\u001B[39;49m\u001B[38;5;124;43m'\u001B[39;49m\u001B[43m,\u001B[49m\u001B[43m \u001B[49m\u001B[43mtiled\u001B[49m\u001B[38;5;241;43m=\u001B[39;49m\u001B[38;5;28;43;01mTrue\u001B[39;49;00m\u001B[43m,\u001B[49m\u001B[43m \u001B[49m\u001B[43mcompress\u001B[49m\u001B[38;5;241;43m=\u001B[39;49m\u001B[38;5;124;43m'\u001B[39;49m\u001B[38;5;124;43mZSTD\u001B[39;49m\u001B[38;5;124;43m'\u001B[39;49m\u001B[43m,\u001B[49m\n\u001B[0;32m     31\u001B[0m \u001B[43m                \u001B[49m\u001B[43mnum_threads\u001B[49m\u001B[38;5;241;43m=\u001B[39;49m\u001B[38;5;124;43m'\u001B[39;49m\u001B[38;5;124;43mALL_CPUS\u001B[39;49m\u001B[38;5;124;43m'\u001B[39;49m\u001B[43m,\u001B[49m\u001B[43m \u001B[49m\u001B[43mpredictor\u001B[49m\u001B[38;5;241;43m=\u001B[39;49m\u001B[43mpredict\u001B[49m\u001B[43m,\u001B[49m\u001B[43m \u001B[49m\u001B[43mzstd_level\u001B[49m\u001B[38;5;241;43m=\u001B[39;49m\u001B[38;5;241;43m1\u001B[39;49m\u001B[43m)\u001B[49m\n",
      "File \u001B[1;32m~\\anaconda3\\envs\\CableRoutePlanning\\lib\\site-packages\\rioxarray\\raster_array.py:1140\u001B[0m, in \u001B[0;36mRasterArray.to_raster\u001B[1;34m(self, raster_path, driver, dtype, tags, windowed, recalc_transform, lock, compute, **profile_kwargs)\u001B[0m\n\u001B[0;32m   1121\u001B[0m out_profile \u001B[38;5;241m=\u001B[39m {\n\u001B[0;32m   1122\u001B[0m     key: value\n\u001B[0;32m   1123\u001B[0m     \u001B[38;5;28;01mfor\u001B[39;00m key, value \u001B[38;5;129;01min\u001B[39;00m out_profile\u001B[38;5;241m.\u001B[39mitems()\n\u001B[1;32m   (...)\u001B[0m\n\u001B[0;32m   1134\u001B[0m     )\n\u001B[0;32m   1135\u001B[0m }\n\u001B[0;32m   1136\u001B[0m rio_nodata \u001B[38;5;241m=\u001B[39m (\n\u001B[0;32m   1137\u001B[0m     \u001B[38;5;28mself\u001B[39m\u001B[38;5;241m.\u001B[39mencoded_nodata \u001B[38;5;28;01mif\u001B[39;00m \u001B[38;5;28mself\u001B[39m\u001B[38;5;241m.\u001B[39mencoded_nodata \u001B[38;5;129;01mis\u001B[39;00m \u001B[38;5;129;01mnot\u001B[39;00m \u001B[38;5;28;01mNone\u001B[39;00m \u001B[38;5;28;01melse\u001B[39;00m \u001B[38;5;28mself\u001B[39m\u001B[38;5;241m.\u001B[39mnodata\n\u001B[0;32m   1138\u001B[0m )\n\u001B[1;32m-> 1140\u001B[0m \u001B[38;5;28;01mreturn\u001B[39;00m RasterioWriter(raster_path\u001B[38;5;241m=\u001B[39mraster_path)\u001B[38;5;241m.\u001B[39mto_raster(\n\u001B[0;32m   1141\u001B[0m     xarray_dataarray\u001B[38;5;241m=\u001B[39m\u001B[38;5;28mself\u001B[39m\u001B[38;5;241m.\u001B[39m_obj,\n\u001B[0;32m   1142\u001B[0m     tags\u001B[38;5;241m=\u001B[39mtags,\n\u001B[0;32m   1143\u001B[0m     driver\u001B[38;5;241m=\u001B[39mdriver,\n\u001B[0;32m   1144\u001B[0m     height\u001B[38;5;241m=\u001B[39m\u001B[38;5;28mint\u001B[39m(\u001B[38;5;28mself\u001B[39m\u001B[38;5;241m.\u001B[39mheight),\n\u001B[0;32m   1145\u001B[0m     width\u001B[38;5;241m=\u001B[39m\u001B[38;5;28mint\u001B[39m(\u001B[38;5;28mself\u001B[39m\u001B[38;5;241m.\u001B[39mwidth),\n\u001B[0;32m   1146\u001B[0m     count\u001B[38;5;241m=\u001B[39m\u001B[38;5;28mint\u001B[39m(\u001B[38;5;28mself\u001B[39m\u001B[38;5;241m.\u001B[39mcount),\n\u001B[0;32m   1147\u001B[0m     dtype\u001B[38;5;241m=\u001B[39mdtype,\n\u001B[0;32m   1148\u001B[0m     crs\u001B[38;5;241m=\u001B[39m\u001B[38;5;28mself\u001B[39m\u001B[38;5;241m.\u001B[39mcrs,\n\u001B[0;32m   1149\u001B[0m     transform\u001B[38;5;241m=\u001B[39m\u001B[38;5;28mself\u001B[39m\u001B[38;5;241m.\u001B[39mtransform(recalc\u001B[38;5;241m=\u001B[39mrecalc_transform),\n\u001B[0;32m   1150\u001B[0m     gcps\u001B[38;5;241m=\u001B[39m\u001B[38;5;28mself\u001B[39m\u001B[38;5;241m.\u001B[39mget_gcps(),\n\u001B[0;32m   1151\u001B[0m     nodata\u001B[38;5;241m=\u001B[39mrio_nodata,\n\u001B[0;32m   1152\u001B[0m     windowed\u001B[38;5;241m=\u001B[39mwindowed,\n\u001B[0;32m   1153\u001B[0m     lock\u001B[38;5;241m=\u001B[39mlock,\n\u001B[0;32m   1154\u001B[0m     compute\u001B[38;5;241m=\u001B[39mcompute,\n\u001B[0;32m   1155\u001B[0m     \u001B[38;5;241m*\u001B[39m\u001B[38;5;241m*\u001B[39mout_profile,\n\u001B[0;32m   1156\u001B[0m )\n",
      "File \u001B[1;32m~\\anaconda3\\envs\\CableRoutePlanning\\lib\\site-packages\\rioxarray\\raster_writer.py:258\u001B[0m, in \u001B[0;36mRasterioWriter.to_raster\u001B[1;34m(self, xarray_dataarray, tags, windowed, lock, compute, **kwargs)\u001B[0m\n\u001B[0;32m    252\u001B[0m \u001B[38;5;28;01mif\u001B[39;00m kwargs[\u001B[38;5;124m\"\u001B[39m\u001B[38;5;124mnodata\u001B[39m\u001B[38;5;124m\"\u001B[39m] \u001B[38;5;129;01mis\u001B[39;00m \u001B[38;5;129;01mnot\u001B[39;00m \u001B[38;5;28;01mNone\u001B[39;00m:\n\u001B[0;32m    253\u001B[0m     \u001B[38;5;66;03m# Ensure dtype of output data matches the expected dtype.\u001B[39;00m\n\u001B[0;32m    254\u001B[0m     \u001B[38;5;66;03m# This check is added here as the dtype of the data is\u001B[39;00m\n\u001B[0;32m    255\u001B[0m     \u001B[38;5;66;03m# converted right before writing.\u001B[39;00m\n\u001B[0;32m    256\u001B[0m     kwargs[\u001B[38;5;124m\"\u001B[39m\u001B[38;5;124mnodata\u001B[39m\u001B[38;5;124m\"\u001B[39m] \u001B[38;5;241m=\u001B[39m _ensure_nodata_dtype(kwargs[\u001B[38;5;124m\"\u001B[39m\u001B[38;5;124mnodata\u001B[39m\u001B[38;5;124m\"\u001B[39m], numpy_dtype)\n\u001B[1;32m--> 258\u001B[0m \u001B[38;5;28;01mwith\u001B[39;00m rasterio\u001B[38;5;241m.\u001B[39mopen(\u001B[38;5;28mself\u001B[39m\u001B[38;5;241m.\u001B[39mraster_path, \u001B[38;5;124m\"\u001B[39m\u001B[38;5;124mw\u001B[39m\u001B[38;5;124m\"\u001B[39m, \u001B[38;5;241m*\u001B[39m\u001B[38;5;241m*\u001B[39mkwargs) \u001B[38;5;28;01mas\u001B[39;00m rds:\n\u001B[0;32m    259\u001B[0m     _write_metatata_to_raster(rds, xarray_dataarray, tags)\n\u001B[0;32m    260\u001B[0m     \u001B[38;5;28;01mif\u001B[39;00m \u001B[38;5;129;01mnot\u001B[39;00m (lock \u001B[38;5;129;01mand\u001B[39;00m is_dask_collection(xarray_dataarray\u001B[38;5;241m.\u001B[39mdata)):\n\u001B[0;32m    261\u001B[0m         \u001B[38;5;66;03m# write data to raster immmediately if not dask array\u001B[39;00m\n",
      "File \u001B[1;32m~\\anaconda3\\envs\\CableRoutePlanning\\lib\\site-packages\\rasterio\\env.py:444\u001B[0m, in \u001B[0;36mensure_env_with_credentials.<locals>.wrapper\u001B[1;34m(*args, **kwds)\u001B[0m\n\u001B[0;32m    441\u001B[0m     session \u001B[38;5;241m=\u001B[39m DummySession()\n\u001B[0;32m    443\u001B[0m \u001B[38;5;28;01mwith\u001B[39;00m env_ctor(session\u001B[38;5;241m=\u001B[39msession):\n\u001B[1;32m--> 444\u001B[0m     \u001B[38;5;28;01mreturn\u001B[39;00m f(\u001B[38;5;241m*\u001B[39margs, \u001B[38;5;241m*\u001B[39m\u001B[38;5;241m*\u001B[39mkwds)\n",
      "File \u001B[1;32m~\\anaconda3\\envs\\CableRoutePlanning\\lib\\site-packages\\rasterio\\__init__.py:314\u001B[0m, in \u001B[0;36mopen\u001B[1;34m(fp, mode, driver, width, height, count, crs, transform, dtype, nodata, sharing, **kwargs)\u001B[0m\n\u001B[0;32m    312\u001B[0m writer \u001B[38;5;241m=\u001B[39m get_writer_for_driver(driver)\n\u001B[0;32m    313\u001B[0m \u001B[38;5;28;01mif\u001B[39;00m writer \u001B[38;5;129;01mis\u001B[39;00m \u001B[38;5;129;01mnot\u001B[39;00m \u001B[38;5;28;01mNone\u001B[39;00m:\n\u001B[1;32m--> 314\u001B[0m     dataset \u001B[38;5;241m=\u001B[39m writer(\n\u001B[0;32m    315\u001B[0m         path,\n\u001B[0;32m    316\u001B[0m         mode,\n\u001B[0;32m    317\u001B[0m         driver\u001B[38;5;241m=\u001B[39mdriver,\n\u001B[0;32m    318\u001B[0m         width\u001B[38;5;241m=\u001B[39mwidth,\n\u001B[0;32m    319\u001B[0m         height\u001B[38;5;241m=\u001B[39mheight,\n\u001B[0;32m    320\u001B[0m         count\u001B[38;5;241m=\u001B[39mcount,\n\u001B[0;32m    321\u001B[0m         crs\u001B[38;5;241m=\u001B[39mcrs,\n\u001B[0;32m    322\u001B[0m         transform\u001B[38;5;241m=\u001B[39mtransform,\n\u001B[0;32m    323\u001B[0m         dtype\u001B[38;5;241m=\u001B[39mdtype,\n\u001B[0;32m    324\u001B[0m         nodata\u001B[38;5;241m=\u001B[39mnodata,\n\u001B[0;32m    325\u001B[0m         sharing\u001B[38;5;241m=\u001B[39msharing,\n\u001B[0;32m    326\u001B[0m         \u001B[38;5;241m*\u001B[39m\u001B[38;5;241m*\u001B[39mkwargs\n\u001B[0;32m    327\u001B[0m     )\n\u001B[0;32m    328\u001B[0m \u001B[38;5;28;01melse\u001B[39;00m:\n\u001B[0;32m    329\u001B[0m     \u001B[38;5;28;01mraise\u001B[39;00m DriverCapabilityError(\n\u001B[0;32m    330\u001B[0m         \u001B[38;5;124m\"\u001B[39m\u001B[38;5;124mWriter does not exist for driver: \u001B[39m\u001B[38;5;132;01m%s\u001B[39;00m\u001B[38;5;124m\"\u001B[39m \u001B[38;5;241m%\u001B[39m \u001B[38;5;28mstr\u001B[39m(driver)\n\u001B[0;32m    331\u001B[0m     )\n",
      "File \u001B[1;32mrasterio\\_io.pyx:1425\u001B[0m, in \u001B[0;36mrasterio._io.DatasetWriterBase.__init__\u001B[1;34m()\u001B[0m\n",
      "File \u001B[1;32mrasterio\\_io.pyx:291\u001B[0m, in \u001B[0;36mrasterio._io._delete_dataset_if_exists\u001B[1;34m()\u001B[0m\n",
      "File \u001B[1;32mrasterio\\_err.pyx:191\u001B[0m, in \u001B[0;36mrasterio._err.exc_wrap_int\u001B[1;34m()\u001B[0m\n",
      "\u001B[1;31mCPLE_AppDefinedError\u001B[0m: Deleting ..\\results\\weights\\Clipped\\result_res_5_all_touched_False_clipped.tif failed: Permission denied"
     ]
    }
   ],
   "source": [
    "mask_50 = read_file(\"./../results/Buffer_Polygons/least_cost_path_res_50_buffer.gpkg\")\n",
    "\n",
    "raster_5f = open_rasterio(Path(r'./../results/weights/result_res_5_all_touched_False.tif'))\n",
    "raster_5t = open_rasterio(Path(r'./../results/weights/result_res_5_all_touched_True.tif'))\n",
    "\n",
    "raster_5f_clipped = raster_5f.rio.clip(mask_50.geometry.values, mask_50.crs, drop=False)\n",
    "write_compressed(raster_5f_clipped, Path(r'./../results/weights/Clipped/result_res_5_all_touched_False_clipped.tif'))\n",
    "raster_5f_clipped_dropped = raster_5f.rio.clip(mask_50.geometry.values, mask_50.crs, drop=True)\n",
    "write_compressed(raster_5f_clipped_dropped,\n",
    "                 Path(r'./../results/weights/Clipped/result_res_5_all_touched_False_clipped_drop.tif'))\n",
    "\n",
    "raster_5t_clipped = raster_5t.rio.clip(mask_50.geometry.values, mask_50.crs, drop=False)\n",
    "write_compressed(raster_5t_clipped, Path(r'./../results/weights/Clipped/result_res_5_all_touched_True_clipped.tif'))\n",
    "raster_5t_clipped_dropped = raster_5t.rio.clip(mask_50.geometry.values, mask_50.crs, drop=True)\n",
    "write_compressed(raster_5t_clipped_dropped,\n",
    "                 Path(r'./../results/weights/Clipped/result_res_5_all_touched_True_clipped_drop.tif'))\n",
    "\n",
    "raster_5 = [raster_5f, raster_5f_clipped, raster_5f_clipped_dropped, raster_5t, raster_5t_clipped,\n",
    "            raster_5t_clipped_dropped]\n",
    "raster_5_names = [\"raster_5f\", \"raster_5f_clipped\", \"raster_5f_clipped_dropped\", \"raster_5t\", \"raster_5t_clipped\",\n",
    "                  \"raster_5t_clipped_dropped\"]\n",
    "create_statistic(raster_5, raster_5_names)"
   ],
   "metadata": {
    "collapsed": false
   }
  },
  {
   "cell_type": "markdown",
   "source": [
    "## masking the 2.5 m resolution raster"
   ],
   "metadata": {
    "collapsed": false
   }
  },
  {
   "cell_type": "code",
   "execution_count": 18,
   "outputs": [
    {
     "ename": "CPLE_AppDefinedError",
     "evalue": "Deleting ..\\results\\weights\\Clipped\\result_res_2p5_all_touched_False_clipped.tif failed: Permission denied",
     "output_type": "error",
     "traceback": [
      "\u001B[1;31m---------------------------------------------------------------------------\u001B[0m",
      "\u001B[1;31mCPLE_AppDefinedError\u001B[0m                      Traceback (most recent call last)",
      "Cell \u001B[1;32mIn[18], line 7\u001B[0m\n\u001B[0;32m      4\u001B[0m raster_2p5t \u001B[38;5;241m=\u001B[39m open_rasterio(Path(\u001B[38;5;124mr\u001B[39m\u001B[38;5;124m'\u001B[39m\u001B[38;5;124m./../results/weights/result_res_2.5_all_touched_True.tif\u001B[39m\u001B[38;5;124m'\u001B[39m))\n\u001B[0;32m      6\u001B[0m raster_2p5f_clipped \u001B[38;5;241m=\u001B[39m raster_2p5f\u001B[38;5;241m.\u001B[39mrio\u001B[38;5;241m.\u001B[39mclip(mask_50\u001B[38;5;241m.\u001B[39mgeometry\u001B[38;5;241m.\u001B[39mvalues, mask_50\u001B[38;5;241m.\u001B[39mcrs, drop\u001B[38;5;241m=\u001B[39m\u001B[38;5;28;01mFalse\u001B[39;00m)\n\u001B[1;32m----> 7\u001B[0m \u001B[43mwrite_compressed\u001B[49m\u001B[43m(\u001B[49m\u001B[43mraster_2p5f_clipped\u001B[49m\u001B[43m,\u001B[49m\n\u001B[0;32m      8\u001B[0m \u001B[43m                 \u001B[49m\u001B[43mPath\u001B[49m\u001B[43m(\u001B[49m\u001B[38;5;124;43mr\u001B[39;49m\u001B[38;5;124;43m'\u001B[39;49m\u001B[38;5;124;43m./../results/weights/Clipped/result_res_2p5_all_touched_False_clipped.tif\u001B[39;49m\u001B[38;5;124;43m'\u001B[39;49m\u001B[43m)\u001B[49m\u001B[43m)\u001B[49m\n\u001B[0;32m      9\u001B[0m raster_2p5f_clipped_dropped \u001B[38;5;241m=\u001B[39m raster_2p5f\u001B[38;5;241m.\u001B[39mrio\u001B[38;5;241m.\u001B[39mclip(mask_50\u001B[38;5;241m.\u001B[39mgeometry\u001B[38;5;241m.\u001B[39mvalues, mask_50\u001B[38;5;241m.\u001B[39mcrs, drop\u001B[38;5;241m=\u001B[39m\u001B[38;5;28;01mTrue\u001B[39;00m)\n\u001B[0;32m     10\u001B[0m write_compressed(raster_2p5f_clipped_dropped,\n\u001B[0;32m     11\u001B[0m                  Path(\u001B[38;5;124mr\u001B[39m\u001B[38;5;124m'\u001B[39m\u001B[38;5;124m./../results/weights/Clipped/result_res_2p5_all_touched_False_clipped_drop.tif\u001B[39m\u001B[38;5;124m'\u001B[39m))\n",
      "File \u001B[1;32mE:\\Basti\\Studium\\HSHarz\\WissenschaftlichesArbeiten\\WebProcessing-StandardisedGISAnalysesforCableRoutePlanning\\src\\rules2weights.py:30\u001B[0m, in \u001B[0;36mwrite_compressed\u001B[1;34m(r, save)\u001B[0m\n\u001B[0;32m     23\u001B[0m \u001B[38;5;124;03m\"\"\"\u001B[39;00m\n\u001B[0;32m     24\u001B[0m \u001B[38;5;124;03mSaving the raster r at save\u001B[39;00m\n\u001B[0;32m     25\u001B[0m \u001B[38;5;124;03m:param r: raster as DataArray\u001B[39;00m\n\u001B[0;32m     26\u001B[0m \u001B[38;5;124;03m:param save: save Path\u001B[39;00m\n\u001B[0;32m     27\u001B[0m \u001B[38;5;124;03m:return: None (write)\u001B[39;00m\n\u001B[0;32m     28\u001B[0m \u001B[38;5;124;03m\"\"\"\u001B[39;00m\n\u001B[0;32m     29\u001B[0m predict \u001B[38;5;241m=\u001B[39m \u001B[38;5;241m3\u001B[39m \u001B[38;5;28;01mif\u001B[39;00m np\u001B[38;5;241m.\u001B[39missubdtype(r\u001B[38;5;241m.\u001B[39mdtype, np\u001B[38;5;241m.\u001B[39mfloating) \u001B[38;5;28;01melse\u001B[39;00m \u001B[38;5;241m2\u001B[39m\n\u001B[1;32m---> 30\u001B[0m \u001B[43mr\u001B[49m\u001B[38;5;241;43m.\u001B[39;49m\u001B[43mrio\u001B[49m\u001B[38;5;241;43m.\u001B[39;49m\u001B[43mto_raster\u001B[49m\u001B[43m(\u001B[49m\u001B[43msave\u001B[49m\u001B[43m,\u001B[49m\u001B[43m \u001B[49m\u001B[43mdriver\u001B[49m\u001B[38;5;241;43m=\u001B[39;49m\u001B[38;5;124;43m'\u001B[39;49m\u001B[38;5;124;43mGTiff\u001B[39;49m\u001B[38;5;124;43m'\u001B[39;49m\u001B[43m,\u001B[49m\u001B[43m \u001B[49m\u001B[43mtiled\u001B[49m\u001B[38;5;241;43m=\u001B[39;49m\u001B[38;5;28;43;01mTrue\u001B[39;49;00m\u001B[43m,\u001B[49m\u001B[43m \u001B[49m\u001B[43mcompress\u001B[49m\u001B[38;5;241;43m=\u001B[39;49m\u001B[38;5;124;43m'\u001B[39;49m\u001B[38;5;124;43mZSTD\u001B[39;49m\u001B[38;5;124;43m'\u001B[39;49m\u001B[43m,\u001B[49m\n\u001B[0;32m     31\u001B[0m \u001B[43m                \u001B[49m\u001B[43mnum_threads\u001B[49m\u001B[38;5;241;43m=\u001B[39;49m\u001B[38;5;124;43m'\u001B[39;49m\u001B[38;5;124;43mALL_CPUS\u001B[39;49m\u001B[38;5;124;43m'\u001B[39;49m\u001B[43m,\u001B[49m\u001B[43m \u001B[49m\u001B[43mpredictor\u001B[49m\u001B[38;5;241;43m=\u001B[39;49m\u001B[43mpredict\u001B[49m\u001B[43m,\u001B[49m\u001B[43m \u001B[49m\u001B[43mzstd_level\u001B[49m\u001B[38;5;241;43m=\u001B[39;49m\u001B[38;5;241;43m1\u001B[39;49m\u001B[43m)\u001B[49m\n",
      "File \u001B[1;32m~\\anaconda3\\envs\\CableRoutePlanning\\lib\\site-packages\\rioxarray\\raster_array.py:1140\u001B[0m, in \u001B[0;36mRasterArray.to_raster\u001B[1;34m(self, raster_path, driver, dtype, tags, windowed, recalc_transform, lock, compute, **profile_kwargs)\u001B[0m\n\u001B[0;32m   1121\u001B[0m out_profile \u001B[38;5;241m=\u001B[39m {\n\u001B[0;32m   1122\u001B[0m     key: value\n\u001B[0;32m   1123\u001B[0m     \u001B[38;5;28;01mfor\u001B[39;00m key, value \u001B[38;5;129;01min\u001B[39;00m out_profile\u001B[38;5;241m.\u001B[39mitems()\n\u001B[1;32m   (...)\u001B[0m\n\u001B[0;32m   1134\u001B[0m     )\n\u001B[0;32m   1135\u001B[0m }\n\u001B[0;32m   1136\u001B[0m rio_nodata \u001B[38;5;241m=\u001B[39m (\n\u001B[0;32m   1137\u001B[0m     \u001B[38;5;28mself\u001B[39m\u001B[38;5;241m.\u001B[39mencoded_nodata \u001B[38;5;28;01mif\u001B[39;00m \u001B[38;5;28mself\u001B[39m\u001B[38;5;241m.\u001B[39mencoded_nodata \u001B[38;5;129;01mis\u001B[39;00m \u001B[38;5;129;01mnot\u001B[39;00m \u001B[38;5;28;01mNone\u001B[39;00m \u001B[38;5;28;01melse\u001B[39;00m \u001B[38;5;28mself\u001B[39m\u001B[38;5;241m.\u001B[39mnodata\n\u001B[0;32m   1138\u001B[0m )\n\u001B[1;32m-> 1140\u001B[0m \u001B[38;5;28;01mreturn\u001B[39;00m RasterioWriter(raster_path\u001B[38;5;241m=\u001B[39mraster_path)\u001B[38;5;241m.\u001B[39mto_raster(\n\u001B[0;32m   1141\u001B[0m     xarray_dataarray\u001B[38;5;241m=\u001B[39m\u001B[38;5;28mself\u001B[39m\u001B[38;5;241m.\u001B[39m_obj,\n\u001B[0;32m   1142\u001B[0m     tags\u001B[38;5;241m=\u001B[39mtags,\n\u001B[0;32m   1143\u001B[0m     driver\u001B[38;5;241m=\u001B[39mdriver,\n\u001B[0;32m   1144\u001B[0m     height\u001B[38;5;241m=\u001B[39m\u001B[38;5;28mint\u001B[39m(\u001B[38;5;28mself\u001B[39m\u001B[38;5;241m.\u001B[39mheight),\n\u001B[0;32m   1145\u001B[0m     width\u001B[38;5;241m=\u001B[39m\u001B[38;5;28mint\u001B[39m(\u001B[38;5;28mself\u001B[39m\u001B[38;5;241m.\u001B[39mwidth),\n\u001B[0;32m   1146\u001B[0m     count\u001B[38;5;241m=\u001B[39m\u001B[38;5;28mint\u001B[39m(\u001B[38;5;28mself\u001B[39m\u001B[38;5;241m.\u001B[39mcount),\n\u001B[0;32m   1147\u001B[0m     dtype\u001B[38;5;241m=\u001B[39mdtype,\n\u001B[0;32m   1148\u001B[0m     crs\u001B[38;5;241m=\u001B[39m\u001B[38;5;28mself\u001B[39m\u001B[38;5;241m.\u001B[39mcrs,\n\u001B[0;32m   1149\u001B[0m     transform\u001B[38;5;241m=\u001B[39m\u001B[38;5;28mself\u001B[39m\u001B[38;5;241m.\u001B[39mtransform(recalc\u001B[38;5;241m=\u001B[39mrecalc_transform),\n\u001B[0;32m   1150\u001B[0m     gcps\u001B[38;5;241m=\u001B[39m\u001B[38;5;28mself\u001B[39m\u001B[38;5;241m.\u001B[39mget_gcps(),\n\u001B[0;32m   1151\u001B[0m     nodata\u001B[38;5;241m=\u001B[39mrio_nodata,\n\u001B[0;32m   1152\u001B[0m     windowed\u001B[38;5;241m=\u001B[39mwindowed,\n\u001B[0;32m   1153\u001B[0m     lock\u001B[38;5;241m=\u001B[39mlock,\n\u001B[0;32m   1154\u001B[0m     compute\u001B[38;5;241m=\u001B[39mcompute,\n\u001B[0;32m   1155\u001B[0m     \u001B[38;5;241m*\u001B[39m\u001B[38;5;241m*\u001B[39mout_profile,\n\u001B[0;32m   1156\u001B[0m )\n",
      "File \u001B[1;32m~\\anaconda3\\envs\\CableRoutePlanning\\lib\\site-packages\\rioxarray\\raster_writer.py:258\u001B[0m, in \u001B[0;36mRasterioWriter.to_raster\u001B[1;34m(self, xarray_dataarray, tags, windowed, lock, compute, **kwargs)\u001B[0m\n\u001B[0;32m    252\u001B[0m \u001B[38;5;28;01mif\u001B[39;00m kwargs[\u001B[38;5;124m\"\u001B[39m\u001B[38;5;124mnodata\u001B[39m\u001B[38;5;124m\"\u001B[39m] \u001B[38;5;129;01mis\u001B[39;00m \u001B[38;5;129;01mnot\u001B[39;00m \u001B[38;5;28;01mNone\u001B[39;00m:\n\u001B[0;32m    253\u001B[0m     \u001B[38;5;66;03m# Ensure dtype of output data matches the expected dtype.\u001B[39;00m\n\u001B[0;32m    254\u001B[0m     \u001B[38;5;66;03m# This check is added here as the dtype of the data is\u001B[39;00m\n\u001B[0;32m    255\u001B[0m     \u001B[38;5;66;03m# converted right before writing.\u001B[39;00m\n\u001B[0;32m    256\u001B[0m     kwargs[\u001B[38;5;124m\"\u001B[39m\u001B[38;5;124mnodata\u001B[39m\u001B[38;5;124m\"\u001B[39m] \u001B[38;5;241m=\u001B[39m _ensure_nodata_dtype(kwargs[\u001B[38;5;124m\"\u001B[39m\u001B[38;5;124mnodata\u001B[39m\u001B[38;5;124m\"\u001B[39m], numpy_dtype)\n\u001B[1;32m--> 258\u001B[0m \u001B[38;5;28;01mwith\u001B[39;00m rasterio\u001B[38;5;241m.\u001B[39mopen(\u001B[38;5;28mself\u001B[39m\u001B[38;5;241m.\u001B[39mraster_path, \u001B[38;5;124m\"\u001B[39m\u001B[38;5;124mw\u001B[39m\u001B[38;5;124m\"\u001B[39m, \u001B[38;5;241m*\u001B[39m\u001B[38;5;241m*\u001B[39mkwargs) \u001B[38;5;28;01mas\u001B[39;00m rds:\n\u001B[0;32m    259\u001B[0m     _write_metatata_to_raster(rds, xarray_dataarray, tags)\n\u001B[0;32m    260\u001B[0m     \u001B[38;5;28;01mif\u001B[39;00m \u001B[38;5;129;01mnot\u001B[39;00m (lock \u001B[38;5;129;01mand\u001B[39;00m is_dask_collection(xarray_dataarray\u001B[38;5;241m.\u001B[39mdata)):\n\u001B[0;32m    261\u001B[0m         \u001B[38;5;66;03m# write data to raster immmediately if not dask array\u001B[39;00m\n",
      "File \u001B[1;32m~\\anaconda3\\envs\\CableRoutePlanning\\lib\\site-packages\\rasterio\\env.py:444\u001B[0m, in \u001B[0;36mensure_env_with_credentials.<locals>.wrapper\u001B[1;34m(*args, **kwds)\u001B[0m\n\u001B[0;32m    441\u001B[0m     session \u001B[38;5;241m=\u001B[39m DummySession()\n\u001B[0;32m    443\u001B[0m \u001B[38;5;28;01mwith\u001B[39;00m env_ctor(session\u001B[38;5;241m=\u001B[39msession):\n\u001B[1;32m--> 444\u001B[0m     \u001B[38;5;28;01mreturn\u001B[39;00m f(\u001B[38;5;241m*\u001B[39margs, \u001B[38;5;241m*\u001B[39m\u001B[38;5;241m*\u001B[39mkwds)\n",
      "File \u001B[1;32m~\\anaconda3\\envs\\CableRoutePlanning\\lib\\site-packages\\rasterio\\__init__.py:314\u001B[0m, in \u001B[0;36mopen\u001B[1;34m(fp, mode, driver, width, height, count, crs, transform, dtype, nodata, sharing, **kwargs)\u001B[0m\n\u001B[0;32m    312\u001B[0m writer \u001B[38;5;241m=\u001B[39m get_writer_for_driver(driver)\n\u001B[0;32m    313\u001B[0m \u001B[38;5;28;01mif\u001B[39;00m writer \u001B[38;5;129;01mis\u001B[39;00m \u001B[38;5;129;01mnot\u001B[39;00m \u001B[38;5;28;01mNone\u001B[39;00m:\n\u001B[1;32m--> 314\u001B[0m     dataset \u001B[38;5;241m=\u001B[39m writer(\n\u001B[0;32m    315\u001B[0m         path,\n\u001B[0;32m    316\u001B[0m         mode,\n\u001B[0;32m    317\u001B[0m         driver\u001B[38;5;241m=\u001B[39mdriver,\n\u001B[0;32m    318\u001B[0m         width\u001B[38;5;241m=\u001B[39mwidth,\n\u001B[0;32m    319\u001B[0m         height\u001B[38;5;241m=\u001B[39mheight,\n\u001B[0;32m    320\u001B[0m         count\u001B[38;5;241m=\u001B[39mcount,\n\u001B[0;32m    321\u001B[0m         crs\u001B[38;5;241m=\u001B[39mcrs,\n\u001B[0;32m    322\u001B[0m         transform\u001B[38;5;241m=\u001B[39mtransform,\n\u001B[0;32m    323\u001B[0m         dtype\u001B[38;5;241m=\u001B[39mdtype,\n\u001B[0;32m    324\u001B[0m         nodata\u001B[38;5;241m=\u001B[39mnodata,\n\u001B[0;32m    325\u001B[0m         sharing\u001B[38;5;241m=\u001B[39msharing,\n\u001B[0;32m    326\u001B[0m         \u001B[38;5;241m*\u001B[39m\u001B[38;5;241m*\u001B[39mkwargs\n\u001B[0;32m    327\u001B[0m     )\n\u001B[0;32m    328\u001B[0m \u001B[38;5;28;01melse\u001B[39;00m:\n\u001B[0;32m    329\u001B[0m     \u001B[38;5;28;01mraise\u001B[39;00m DriverCapabilityError(\n\u001B[0;32m    330\u001B[0m         \u001B[38;5;124m\"\u001B[39m\u001B[38;5;124mWriter does not exist for driver: \u001B[39m\u001B[38;5;132;01m%s\u001B[39;00m\u001B[38;5;124m\"\u001B[39m \u001B[38;5;241m%\u001B[39m \u001B[38;5;28mstr\u001B[39m(driver)\n\u001B[0;32m    331\u001B[0m     )\n",
      "File \u001B[1;32mrasterio\\_io.pyx:1425\u001B[0m, in \u001B[0;36mrasterio._io.DatasetWriterBase.__init__\u001B[1;34m()\u001B[0m\n",
      "File \u001B[1;32mrasterio\\_io.pyx:291\u001B[0m, in \u001B[0;36mrasterio._io._delete_dataset_if_exists\u001B[1;34m()\u001B[0m\n",
      "File \u001B[1;32mrasterio\\_err.pyx:191\u001B[0m, in \u001B[0;36mrasterio._err.exc_wrap_int\u001B[1;34m()\u001B[0m\n",
      "\u001B[1;31mCPLE_AppDefinedError\u001B[0m: Deleting ..\\results\\weights\\Clipped\\result_res_2p5_all_touched_False_clipped.tif failed: Permission denied"
     ]
    }
   ],
   "source": [
    "mask_50 = read_file(\"./../results/Buffer_Polygons/least_cost_path_res_50_buffer.gpkg\")\n",
    "\n",
    "raster_2p5f = open_rasterio(Path(r'./../results/weights/result_res_2.5_all_touched_False.tif'))\n",
    "raster_2p5t = open_rasterio(Path(r'./../results/weights/result_res_2.5_all_touched_True.tif'))\n",
    "\n",
    "raster_2p5f_clipped = raster_2p5f.rio.clip(mask_50.geometry.values, mask_50.crs, drop=False)\n",
    "write_compressed(raster_2p5f_clipped,\n",
    "                 Path(r'./../results/weights/Clipped/result_res_2p5_all_touched_False_clipped.tif'))\n",
    "raster_2p5f_clipped_dropped = raster_2p5f.rio.clip(mask_50.geometry.values, mask_50.crs, drop=True)\n",
    "write_compressed(raster_2p5f_clipped_dropped,\n",
    "                 Path(r'./../results/weights/Clipped/result_res_2p5_all_touched_False_clipped_drop.tif'))\n",
    "\n",
    "raster_2p5t_clipped = raster_2p5t.rio.clip(mask_50.geometry.values, mask_50.crs, drop=False)\n",
    "write_compressed(raster_2p5t_clipped, Path(r'./../results/weights/Clipped/result_res_2p5_all_touched_True_clipped.tif'))\n",
    "raster_2p5t_clipped_dropped = raster_2p5t.rio.clip(mask_50.geometry.values, mask_50.crs, drop=True)\n",
    "write_compressed(raster_2p5t_clipped_dropped,\n",
    "                 Path(r'./../results/weights/Clipped/result_res_2p5_all_touched_True_clipped_drop.tif'))\n",
    "\n",
    "raster_2p5 = [raster_2p5f, raster_2p5f_clipped, raster_2p5f_clipped_dropped, raster_2p5t, raster_2p5t_clipped,\n",
    "              raster_2p5t_clipped_dropped]\n",
    "raster_2p5_names = ['raster_2p5f', 'raster_2p5f_clipped', 'raster_2p5f_clipped_dropped', 'raster_2p5t',\n",
    "                    'raster_2p5t_clipped', 'raster_2p5t_clipped_dropped']\n",
    "create_statistic(raster_2p5, raster_2p5_names)"
   ],
   "metadata": {
    "collapsed": false
   }
  },
  {
   "cell_type": "markdown",
   "source": [
    "# Mask the 2.5 and 5 m resolution raster by the non-reachable pixels"
   ],
   "metadata": {
    "collapsed": false
   }
  },
  {
   "cell_type": "code",
   "execution_count": 19,
   "outputs": [],
   "source": [
    "def mask_by_aggregated_nodata(original: DataArray, aggregate: DataArray):\n",
    "    aggregate_resized = aggregate.copy().rio.reproject_match(raster_5f)\n",
    "\n",
    "    original_masked = original.copy()\n",
    "    original_masked.data[aggregate_resized == aggregate_resized.rio.nodata] = original.rio.nodata\n",
    "    return original_masked"
   ],
   "metadata": {
    "collapsed": false
   }
  },
  {
   "cell_type": "code",
   "execution_count": 20,
   "outputs": [
    {
     "ename": "CPLE_AppDefinedError",
     "evalue": "Deleting ..\\results\\weights\\Clipped\\result_res_5_all_touched_False_mask_by_aggregated_costs.tif failed: Permission denied",
     "output_type": "error",
     "traceback": [
      "\u001B[1;31m---------------------------------------------------------------------------\u001B[0m",
      "\u001B[1;31mCPLE_AppDefinedError\u001B[0m                      Traceback (most recent call last)",
      "Cell \u001B[1;32mIn[20], line 11\u001B[0m\n\u001B[0;32m      9\u001B[0m \u001B[38;5;66;03m# mask cost raster by nodata values in aggregated cost raster\u001B[39;00m\n\u001B[0;32m     10\u001B[0m raster_5f_masked \u001B[38;5;241m=\u001B[39m mask_by_aggregated_nodata(raster_5f, agg_cost_50_raster)\n\u001B[1;32m---> 11\u001B[0m \u001B[43mwrite_compressed\u001B[49m\u001B[43m(\u001B[49m\u001B[43mraster_5f_masked\u001B[49m\u001B[43m,\u001B[49m\n\u001B[0;32m     12\u001B[0m \u001B[43m                 \u001B[49m\u001B[43mPath\u001B[49m\u001B[43m(\u001B[49m\u001B[38;5;124;43m\"\u001B[39;49m\u001B[38;5;124;43m./../results/weights/Clipped/result_res_5_all_touched_False_mask_by_aggregated_costs.tif\u001B[39;49m\u001B[38;5;124;43m\"\u001B[39;49m\u001B[43m)\u001B[49m\u001B[43m)\u001B[49m\n\u001B[0;32m     14\u001B[0m raster_5t_masked \u001B[38;5;241m=\u001B[39m mask_by_aggregated_nodata(raster_5t, agg_cost_50_raster)\n\u001B[0;32m     15\u001B[0m write_compressed(raster_5t_masked,\n\u001B[0;32m     16\u001B[0m                  Path(\u001B[38;5;124m\"\u001B[39m\u001B[38;5;124m./../results/weights/Clipped/result_res_5_all_touched_True_mask_by_aggregated_costs.tif\u001B[39m\u001B[38;5;124m\"\u001B[39m))\n",
      "File \u001B[1;32mE:\\Basti\\Studium\\HSHarz\\WissenschaftlichesArbeiten\\WebProcessing-StandardisedGISAnalysesforCableRoutePlanning\\src\\rules2weights.py:30\u001B[0m, in \u001B[0;36mwrite_compressed\u001B[1;34m(r, save)\u001B[0m\n\u001B[0;32m     23\u001B[0m \u001B[38;5;124;03m\"\"\"\u001B[39;00m\n\u001B[0;32m     24\u001B[0m \u001B[38;5;124;03mSaving the raster r at save\u001B[39;00m\n\u001B[0;32m     25\u001B[0m \u001B[38;5;124;03m:param r: raster as DataArray\u001B[39;00m\n\u001B[0;32m     26\u001B[0m \u001B[38;5;124;03m:param save: save Path\u001B[39;00m\n\u001B[0;32m     27\u001B[0m \u001B[38;5;124;03m:return: None (write)\u001B[39;00m\n\u001B[0;32m     28\u001B[0m \u001B[38;5;124;03m\"\"\"\u001B[39;00m\n\u001B[0;32m     29\u001B[0m predict \u001B[38;5;241m=\u001B[39m \u001B[38;5;241m3\u001B[39m \u001B[38;5;28;01mif\u001B[39;00m np\u001B[38;5;241m.\u001B[39missubdtype(r\u001B[38;5;241m.\u001B[39mdtype, np\u001B[38;5;241m.\u001B[39mfloating) \u001B[38;5;28;01melse\u001B[39;00m \u001B[38;5;241m2\u001B[39m\n\u001B[1;32m---> 30\u001B[0m \u001B[43mr\u001B[49m\u001B[38;5;241;43m.\u001B[39;49m\u001B[43mrio\u001B[49m\u001B[38;5;241;43m.\u001B[39;49m\u001B[43mto_raster\u001B[49m\u001B[43m(\u001B[49m\u001B[43msave\u001B[49m\u001B[43m,\u001B[49m\u001B[43m \u001B[49m\u001B[43mdriver\u001B[49m\u001B[38;5;241;43m=\u001B[39;49m\u001B[38;5;124;43m'\u001B[39;49m\u001B[38;5;124;43mGTiff\u001B[39;49m\u001B[38;5;124;43m'\u001B[39;49m\u001B[43m,\u001B[49m\u001B[43m \u001B[49m\u001B[43mtiled\u001B[49m\u001B[38;5;241;43m=\u001B[39;49m\u001B[38;5;28;43;01mTrue\u001B[39;49;00m\u001B[43m,\u001B[49m\u001B[43m \u001B[49m\u001B[43mcompress\u001B[49m\u001B[38;5;241;43m=\u001B[39;49m\u001B[38;5;124;43m'\u001B[39;49m\u001B[38;5;124;43mZSTD\u001B[39;49m\u001B[38;5;124;43m'\u001B[39;49m\u001B[43m,\u001B[49m\n\u001B[0;32m     31\u001B[0m \u001B[43m                \u001B[49m\u001B[43mnum_threads\u001B[49m\u001B[38;5;241;43m=\u001B[39;49m\u001B[38;5;124;43m'\u001B[39;49m\u001B[38;5;124;43mALL_CPUS\u001B[39;49m\u001B[38;5;124;43m'\u001B[39;49m\u001B[43m,\u001B[49m\u001B[43m \u001B[49m\u001B[43mpredictor\u001B[49m\u001B[38;5;241;43m=\u001B[39;49m\u001B[43mpredict\u001B[49m\u001B[43m,\u001B[49m\u001B[43m \u001B[49m\u001B[43mzstd_level\u001B[49m\u001B[38;5;241;43m=\u001B[39;49m\u001B[38;5;241;43m1\u001B[39;49m\u001B[43m)\u001B[49m\n",
      "File \u001B[1;32m~\\anaconda3\\envs\\CableRoutePlanning\\lib\\site-packages\\rioxarray\\raster_array.py:1140\u001B[0m, in \u001B[0;36mRasterArray.to_raster\u001B[1;34m(self, raster_path, driver, dtype, tags, windowed, recalc_transform, lock, compute, **profile_kwargs)\u001B[0m\n\u001B[0;32m   1121\u001B[0m out_profile \u001B[38;5;241m=\u001B[39m {\n\u001B[0;32m   1122\u001B[0m     key: value\n\u001B[0;32m   1123\u001B[0m     \u001B[38;5;28;01mfor\u001B[39;00m key, value \u001B[38;5;129;01min\u001B[39;00m out_profile\u001B[38;5;241m.\u001B[39mitems()\n\u001B[1;32m   (...)\u001B[0m\n\u001B[0;32m   1134\u001B[0m     )\n\u001B[0;32m   1135\u001B[0m }\n\u001B[0;32m   1136\u001B[0m rio_nodata \u001B[38;5;241m=\u001B[39m (\n\u001B[0;32m   1137\u001B[0m     \u001B[38;5;28mself\u001B[39m\u001B[38;5;241m.\u001B[39mencoded_nodata \u001B[38;5;28;01mif\u001B[39;00m \u001B[38;5;28mself\u001B[39m\u001B[38;5;241m.\u001B[39mencoded_nodata \u001B[38;5;129;01mis\u001B[39;00m \u001B[38;5;129;01mnot\u001B[39;00m \u001B[38;5;28;01mNone\u001B[39;00m \u001B[38;5;28;01melse\u001B[39;00m \u001B[38;5;28mself\u001B[39m\u001B[38;5;241m.\u001B[39mnodata\n\u001B[0;32m   1138\u001B[0m )\n\u001B[1;32m-> 1140\u001B[0m \u001B[38;5;28;01mreturn\u001B[39;00m RasterioWriter(raster_path\u001B[38;5;241m=\u001B[39mraster_path)\u001B[38;5;241m.\u001B[39mto_raster(\n\u001B[0;32m   1141\u001B[0m     xarray_dataarray\u001B[38;5;241m=\u001B[39m\u001B[38;5;28mself\u001B[39m\u001B[38;5;241m.\u001B[39m_obj,\n\u001B[0;32m   1142\u001B[0m     tags\u001B[38;5;241m=\u001B[39mtags,\n\u001B[0;32m   1143\u001B[0m     driver\u001B[38;5;241m=\u001B[39mdriver,\n\u001B[0;32m   1144\u001B[0m     height\u001B[38;5;241m=\u001B[39m\u001B[38;5;28mint\u001B[39m(\u001B[38;5;28mself\u001B[39m\u001B[38;5;241m.\u001B[39mheight),\n\u001B[0;32m   1145\u001B[0m     width\u001B[38;5;241m=\u001B[39m\u001B[38;5;28mint\u001B[39m(\u001B[38;5;28mself\u001B[39m\u001B[38;5;241m.\u001B[39mwidth),\n\u001B[0;32m   1146\u001B[0m     count\u001B[38;5;241m=\u001B[39m\u001B[38;5;28mint\u001B[39m(\u001B[38;5;28mself\u001B[39m\u001B[38;5;241m.\u001B[39mcount),\n\u001B[0;32m   1147\u001B[0m     dtype\u001B[38;5;241m=\u001B[39mdtype,\n\u001B[0;32m   1148\u001B[0m     crs\u001B[38;5;241m=\u001B[39m\u001B[38;5;28mself\u001B[39m\u001B[38;5;241m.\u001B[39mcrs,\n\u001B[0;32m   1149\u001B[0m     transform\u001B[38;5;241m=\u001B[39m\u001B[38;5;28mself\u001B[39m\u001B[38;5;241m.\u001B[39mtransform(recalc\u001B[38;5;241m=\u001B[39mrecalc_transform),\n\u001B[0;32m   1150\u001B[0m     gcps\u001B[38;5;241m=\u001B[39m\u001B[38;5;28mself\u001B[39m\u001B[38;5;241m.\u001B[39mget_gcps(),\n\u001B[0;32m   1151\u001B[0m     nodata\u001B[38;5;241m=\u001B[39mrio_nodata,\n\u001B[0;32m   1152\u001B[0m     windowed\u001B[38;5;241m=\u001B[39mwindowed,\n\u001B[0;32m   1153\u001B[0m     lock\u001B[38;5;241m=\u001B[39mlock,\n\u001B[0;32m   1154\u001B[0m     compute\u001B[38;5;241m=\u001B[39mcompute,\n\u001B[0;32m   1155\u001B[0m     \u001B[38;5;241m*\u001B[39m\u001B[38;5;241m*\u001B[39mout_profile,\n\u001B[0;32m   1156\u001B[0m )\n",
      "File \u001B[1;32m~\\anaconda3\\envs\\CableRoutePlanning\\lib\\site-packages\\rioxarray\\raster_writer.py:258\u001B[0m, in \u001B[0;36mRasterioWriter.to_raster\u001B[1;34m(self, xarray_dataarray, tags, windowed, lock, compute, **kwargs)\u001B[0m\n\u001B[0;32m    252\u001B[0m \u001B[38;5;28;01mif\u001B[39;00m kwargs[\u001B[38;5;124m\"\u001B[39m\u001B[38;5;124mnodata\u001B[39m\u001B[38;5;124m\"\u001B[39m] \u001B[38;5;129;01mis\u001B[39;00m \u001B[38;5;129;01mnot\u001B[39;00m \u001B[38;5;28;01mNone\u001B[39;00m:\n\u001B[0;32m    253\u001B[0m     \u001B[38;5;66;03m# Ensure dtype of output data matches the expected dtype.\u001B[39;00m\n\u001B[0;32m    254\u001B[0m     \u001B[38;5;66;03m# This check is added here as the dtype of the data is\u001B[39;00m\n\u001B[0;32m    255\u001B[0m     \u001B[38;5;66;03m# converted right before writing.\u001B[39;00m\n\u001B[0;32m    256\u001B[0m     kwargs[\u001B[38;5;124m\"\u001B[39m\u001B[38;5;124mnodata\u001B[39m\u001B[38;5;124m\"\u001B[39m] \u001B[38;5;241m=\u001B[39m _ensure_nodata_dtype(kwargs[\u001B[38;5;124m\"\u001B[39m\u001B[38;5;124mnodata\u001B[39m\u001B[38;5;124m\"\u001B[39m], numpy_dtype)\n\u001B[1;32m--> 258\u001B[0m \u001B[38;5;28;01mwith\u001B[39;00m rasterio\u001B[38;5;241m.\u001B[39mopen(\u001B[38;5;28mself\u001B[39m\u001B[38;5;241m.\u001B[39mraster_path, \u001B[38;5;124m\"\u001B[39m\u001B[38;5;124mw\u001B[39m\u001B[38;5;124m\"\u001B[39m, \u001B[38;5;241m*\u001B[39m\u001B[38;5;241m*\u001B[39mkwargs) \u001B[38;5;28;01mas\u001B[39;00m rds:\n\u001B[0;32m    259\u001B[0m     _write_metatata_to_raster(rds, xarray_dataarray, tags)\n\u001B[0;32m    260\u001B[0m     \u001B[38;5;28;01mif\u001B[39;00m \u001B[38;5;129;01mnot\u001B[39;00m (lock \u001B[38;5;129;01mand\u001B[39;00m is_dask_collection(xarray_dataarray\u001B[38;5;241m.\u001B[39mdata)):\n\u001B[0;32m    261\u001B[0m         \u001B[38;5;66;03m# write data to raster immmediately if not dask array\u001B[39;00m\n",
      "File \u001B[1;32m~\\anaconda3\\envs\\CableRoutePlanning\\lib\\site-packages\\rasterio\\env.py:444\u001B[0m, in \u001B[0;36mensure_env_with_credentials.<locals>.wrapper\u001B[1;34m(*args, **kwds)\u001B[0m\n\u001B[0;32m    441\u001B[0m     session \u001B[38;5;241m=\u001B[39m DummySession()\n\u001B[0;32m    443\u001B[0m \u001B[38;5;28;01mwith\u001B[39;00m env_ctor(session\u001B[38;5;241m=\u001B[39msession):\n\u001B[1;32m--> 444\u001B[0m     \u001B[38;5;28;01mreturn\u001B[39;00m f(\u001B[38;5;241m*\u001B[39margs, \u001B[38;5;241m*\u001B[39m\u001B[38;5;241m*\u001B[39mkwds)\n",
      "File \u001B[1;32m~\\anaconda3\\envs\\CableRoutePlanning\\lib\\site-packages\\rasterio\\__init__.py:314\u001B[0m, in \u001B[0;36mopen\u001B[1;34m(fp, mode, driver, width, height, count, crs, transform, dtype, nodata, sharing, **kwargs)\u001B[0m\n\u001B[0;32m    312\u001B[0m writer \u001B[38;5;241m=\u001B[39m get_writer_for_driver(driver)\n\u001B[0;32m    313\u001B[0m \u001B[38;5;28;01mif\u001B[39;00m writer \u001B[38;5;129;01mis\u001B[39;00m \u001B[38;5;129;01mnot\u001B[39;00m \u001B[38;5;28;01mNone\u001B[39;00m:\n\u001B[1;32m--> 314\u001B[0m     dataset \u001B[38;5;241m=\u001B[39m writer(\n\u001B[0;32m    315\u001B[0m         path,\n\u001B[0;32m    316\u001B[0m         mode,\n\u001B[0;32m    317\u001B[0m         driver\u001B[38;5;241m=\u001B[39mdriver,\n\u001B[0;32m    318\u001B[0m         width\u001B[38;5;241m=\u001B[39mwidth,\n\u001B[0;32m    319\u001B[0m         height\u001B[38;5;241m=\u001B[39mheight,\n\u001B[0;32m    320\u001B[0m         count\u001B[38;5;241m=\u001B[39mcount,\n\u001B[0;32m    321\u001B[0m         crs\u001B[38;5;241m=\u001B[39mcrs,\n\u001B[0;32m    322\u001B[0m         transform\u001B[38;5;241m=\u001B[39mtransform,\n\u001B[0;32m    323\u001B[0m         dtype\u001B[38;5;241m=\u001B[39mdtype,\n\u001B[0;32m    324\u001B[0m         nodata\u001B[38;5;241m=\u001B[39mnodata,\n\u001B[0;32m    325\u001B[0m         sharing\u001B[38;5;241m=\u001B[39msharing,\n\u001B[0;32m    326\u001B[0m         \u001B[38;5;241m*\u001B[39m\u001B[38;5;241m*\u001B[39mkwargs\n\u001B[0;32m    327\u001B[0m     )\n\u001B[0;32m    328\u001B[0m \u001B[38;5;28;01melse\u001B[39;00m:\n\u001B[0;32m    329\u001B[0m     \u001B[38;5;28;01mraise\u001B[39;00m DriverCapabilityError(\n\u001B[0;32m    330\u001B[0m         \u001B[38;5;124m\"\u001B[39m\u001B[38;5;124mWriter does not exist for driver: \u001B[39m\u001B[38;5;132;01m%s\u001B[39;00m\u001B[38;5;124m\"\u001B[39m \u001B[38;5;241m%\u001B[39m \u001B[38;5;28mstr\u001B[39m(driver)\n\u001B[0;32m    331\u001B[0m     )\n",
      "File \u001B[1;32mrasterio\\_io.pyx:1425\u001B[0m, in \u001B[0;36mrasterio._io.DatasetWriterBase.__init__\u001B[1;34m()\u001B[0m\n",
      "File \u001B[1;32mrasterio\\_io.pyx:291\u001B[0m, in \u001B[0;36mrasterio._io._delete_dataset_if_exists\u001B[1;34m()\u001B[0m\n",
      "File \u001B[1;32mrasterio\\_err.pyx:191\u001B[0m, in \u001B[0;36mrasterio._err.exc_wrap_int\u001B[1;34m()\u001B[0m\n",
      "\u001B[1;31mCPLE_AppDefinedError\u001B[0m: Deleting ..\\results\\weights\\Clipped\\result_res_5_all_touched_False_mask_by_aggregated_costs.tif failed: Permission denied"
     ]
    }
   ],
   "source": [
    "agg_cost_50_raster = open_rasterio(\"./../results/weights/aggregated/result_res_50_all_touched_False_agg.tif\")\n",
    "limit = 2149\n",
    "agg_cost_50_raster.data[agg_cost_50_raster > limit] = agg_cost_50_raster.rio.nodata\n",
    "\n",
    "raster_5f = open_rasterio(Path(r'./../results/weights/result_res_5_all_touched_False.tif'))\n",
    "raster_5t = open_rasterio(Path(r'./../results/weights/result_res_5_all_touched_True.tif'))\n",
    "\n",
    "\n",
    "# mask cost raster by nodata values in aggregated cost raster\n",
    "raster_5f_masked = mask_by_aggregated_nodata(raster_5f, agg_cost_50_raster)\n",
    "write_compressed(raster_5f_masked,\n",
    "                 Path(\"./../results/weights/Clipped/result_res_5_all_touched_False_mask_by_aggregated_costs.tif\"))\n",
    "\n",
    "raster_5t_masked = mask_by_aggregated_nodata(raster_5t, agg_cost_50_raster)\n",
    "write_compressed(raster_5t_masked,\n",
    "                 Path(\"./../results/weights/Clipped/result_res_5_all_touched_True_mask_by_aggregated_costs.tif\"))\n",
    "\n",
    "raster_agg = [raster_5f, raster_5f_masked, raster_5t, raster_5t_masked]\n",
    "raster_agg_names = ['raster_5f', 'raster_5f_masked', 'raster_5t', 'raster_5t_masked']\n",
    "create_statistic(raster_agg, raster_agg_names)"
   ],
   "metadata": {
    "collapsed": false
   }
  },
  {
   "cell_type": "markdown",
   "source": [
    "# Distances all touched False"
   ],
   "metadata": {
    "collapsed": false
   }
  },
  {
   "cell_type": "code",
   "execution_count": 21,
   "outputs": [
    {
     "data": {
      "text/plain": "243.4202763963724"
     },
     "execution_count": 21,
     "metadata": {},
     "output_type": "execute_result"
    }
   ],
   "source": [
    "distances_false = np.array([Point(p).distance(least_cost_path_100_false.geometry.values[0]) for p in\n",
    "                            least_cost_path_5_false.geometry.values[0].coords])\n",
    "mean_min_distances_false = np.mean(distances_false)\n",
    "mean_min_distances_false"
   ],
   "metadata": {
    "collapsed": false
   }
  },
  {
   "cell_type": "markdown",
   "source": [
    "# Distances all touched True\n"
   ],
   "metadata": {
    "collapsed": false
   }
  },
  {
   "cell_type": "code",
   "execution_count": 22,
   "outputs": [
    {
     "data": {
      "text/plain": "2109.436322189748"
     },
     "execution_count": 22,
     "metadata": {},
     "output_type": "execute_result"
    }
   ],
   "source": [
    "distances_true = np.array([Point(p).distance(least_cost_path_100_true.geometry.values[0]) for p in\n",
    "                           least_cost_path_5_true.geometry.values[0].coords])\n",
    "mean_min_distances_true = np.mean(distances_true)\n",
    "mean_min_distances_true"
   ],
   "metadata": {
    "collapsed": false
   }
  },
  {
   "cell_type": "markdown",
   "source": [
    "# Distance Path with TestPoints\n",
    "## mask"
   ],
   "metadata": {
    "collapsed": false
   }
  },
  {
   "cell_type": "code",
   "execution_count": 23,
   "outputs": [],
   "source": [
    "mask_5_paths_true = [read_file(\"..\\\\results\\\\least_cost_paths\\\\Testing\\\\tp1_start_true_50m_original.gpkg\"),\n",
    "                     read_file(\"..\\\\results\\\\least_cost_paths\\\\Testing\\\\tp2_start_true_50m_original.gpkg\"),\n",
    "                     read_file(\"..\\\\results\\\\least_cost_paths\\\\Testing\\\\start_tp3_true_50m_original.gpkg\"),\n",
    "                     read_file(\"..\\\\results\\\\least_cost_paths\\\\Testing\\\\start_tp4_true_50m_original.gpkg\"), ]\n",
    "\n",
    "mask_5_paths_false = [read_file(\"..\\\\results\\\\least_cost_paths\\\\Testing\\\\tp1_start_false_50m_original.gpkg\"),\n",
    "                     read_file(\"..\\\\results\\\\least_cost_paths\\\\Testing\\\\tp2_start_false_50m_original.gpkg\"),\n",
    "                     read_file(\"..\\\\results\\\\least_cost_paths\\\\Testing\\\\start_tp3_false_50m_original.gpkg\"),\n",
    "                     read_file(\"..\\\\results\\\\least_cost_paths\\\\Testing\\\\start_tp4_false_50m_original.gpkg\"), ]\n",
    "\n",
    "routes = ['P1-E', 'P2-E', 'S-P3', 'S-P4']"
   ],
   "metadata": {
    "collapsed": false
   }
  },
  {
   "cell_type": "code",
   "execution_count": 24,
   "outputs": [
    {
     "data": {
      "text/plain": "[11020.548988140292, 7768.043511721597, 3748.3329627982625, 6926.940161427699]"
     },
     "execution_count": 24,
     "metadata": {},
     "output_type": "execute_result"
    }
   ],
   "source": [
    "distances = [compute_line_distances(t.geometry.values[0], f.geometry.values[0]) for f, t in zip(mask_5_paths_false, mask_5_paths_true)]\n",
    "max_distances = [np.max(x) for x in distances]\n",
    "max_distances"
   ],
   "metadata": {
    "collapsed": false
   }
  },
  {
   "cell_type": "code",
   "execution_count": 25,
   "outputs": [
    {
     "data": {
      "text/plain": "[None, None, None, None]"
     },
     "execution_count": 25,
     "metadata": {},
     "output_type": "execute_result"
    }
   ],
   "source": [
    "[create_buffer_polygon(f.geometry.values[0], t.geometry.values[0], 25832, 2 * max_dist).to_file(s) for f, t, max_dist, s in\n",
    " zip(mask_5_paths_true, mask_5_paths_false, max_distances,\n",
    "     [f\"./../results/Buffer_Polygons/TestPaths_polygons/Control_paths_{x}_buffer.gpkg\" for x in routes])]"
   ],
   "metadata": {
    "collapsed": false
   }
  },
  {
   "cell_type": "code",
   "execution_count": 26,
   "outputs": [
    {
     "ename": "CPLE_AppDefinedError",
     "evalue": "Deleting ..\\results\\weights\\Clipped\\Control_Masks\\Control_mask_P1-E.tif failed: Permission denied",
     "output_type": "error",
     "traceback": [
      "\u001B[1;31m---------------------------------------------------------------------------\u001B[0m",
      "\u001B[1;31mCPLE_AppDefinedError\u001B[0m                      Traceback (most recent call last)",
      "Cell \u001B[1;32mIn[26], line 7\u001B[0m\n\u001B[0;32m      5\u001B[0m \u001B[38;5;28;01mfor\u001B[39;00m mask, route \u001B[38;5;129;01min\u001B[39;00m \u001B[38;5;28mzip\u001B[39m(masks, routes):\n\u001B[0;32m      6\u001B[0m     raster_5f_clipped \u001B[38;5;241m=\u001B[39m raster_5f\u001B[38;5;241m.\u001B[39mrio\u001B[38;5;241m.\u001B[39mclip(mask\u001B[38;5;241m.\u001B[39mgeometry\u001B[38;5;241m.\u001B[39mvalues, mask\u001B[38;5;241m.\u001B[39mcrs, drop\u001B[38;5;241m=\u001B[39m\u001B[38;5;28;01mTrue\u001B[39;00m)\n\u001B[1;32m----> 7\u001B[0m     \u001B[43mwrite_compressed\u001B[49m\u001B[43m(\u001B[49m\u001B[43mraster_5f_clipped\u001B[49m\u001B[43m,\u001B[49m\u001B[43m \u001B[49m\u001B[43mPath\u001B[49m\u001B[43m(\u001B[49m\u001B[38;5;124;43mrf\u001B[39;49m\u001B[38;5;124;43m'\u001B[39;49m\u001B[38;5;124;43m./../results/weights/Clipped/Control_Masks/Control_mask_\u001B[39;49m\u001B[38;5;132;43;01m{\u001B[39;49;00m\u001B[43mroute\u001B[49m\u001B[38;5;132;43;01m}\u001B[39;49;00m\u001B[38;5;124;43m.tif\u001B[39;49m\u001B[38;5;124;43m'\u001B[39;49m\u001B[43m)\u001B[49m\u001B[43m)\u001B[49m\n",
      "File \u001B[1;32mE:\\Basti\\Studium\\HSHarz\\WissenschaftlichesArbeiten\\WebProcessing-StandardisedGISAnalysesforCableRoutePlanning\\src\\rules2weights.py:30\u001B[0m, in \u001B[0;36mwrite_compressed\u001B[1;34m(r, save)\u001B[0m\n\u001B[0;32m     23\u001B[0m \u001B[38;5;124;03m\"\"\"\u001B[39;00m\n\u001B[0;32m     24\u001B[0m \u001B[38;5;124;03mSaving the raster r at save\u001B[39;00m\n\u001B[0;32m     25\u001B[0m \u001B[38;5;124;03m:param r: raster as DataArray\u001B[39;00m\n\u001B[0;32m     26\u001B[0m \u001B[38;5;124;03m:param save: save Path\u001B[39;00m\n\u001B[0;32m     27\u001B[0m \u001B[38;5;124;03m:return: None (write)\u001B[39;00m\n\u001B[0;32m     28\u001B[0m \u001B[38;5;124;03m\"\"\"\u001B[39;00m\n\u001B[0;32m     29\u001B[0m predict \u001B[38;5;241m=\u001B[39m \u001B[38;5;241m3\u001B[39m \u001B[38;5;28;01mif\u001B[39;00m np\u001B[38;5;241m.\u001B[39missubdtype(r\u001B[38;5;241m.\u001B[39mdtype, np\u001B[38;5;241m.\u001B[39mfloating) \u001B[38;5;28;01melse\u001B[39;00m \u001B[38;5;241m2\u001B[39m\n\u001B[1;32m---> 30\u001B[0m \u001B[43mr\u001B[49m\u001B[38;5;241;43m.\u001B[39;49m\u001B[43mrio\u001B[49m\u001B[38;5;241;43m.\u001B[39;49m\u001B[43mto_raster\u001B[49m\u001B[43m(\u001B[49m\u001B[43msave\u001B[49m\u001B[43m,\u001B[49m\u001B[43m \u001B[49m\u001B[43mdriver\u001B[49m\u001B[38;5;241;43m=\u001B[39;49m\u001B[38;5;124;43m'\u001B[39;49m\u001B[38;5;124;43mGTiff\u001B[39;49m\u001B[38;5;124;43m'\u001B[39;49m\u001B[43m,\u001B[49m\u001B[43m \u001B[49m\u001B[43mtiled\u001B[49m\u001B[38;5;241;43m=\u001B[39;49m\u001B[38;5;28;43;01mTrue\u001B[39;49;00m\u001B[43m,\u001B[49m\u001B[43m \u001B[49m\u001B[43mcompress\u001B[49m\u001B[38;5;241;43m=\u001B[39;49m\u001B[38;5;124;43m'\u001B[39;49m\u001B[38;5;124;43mZSTD\u001B[39;49m\u001B[38;5;124;43m'\u001B[39;49m\u001B[43m,\u001B[49m\n\u001B[0;32m     31\u001B[0m \u001B[43m                \u001B[49m\u001B[43mnum_threads\u001B[49m\u001B[38;5;241;43m=\u001B[39;49m\u001B[38;5;124;43m'\u001B[39;49m\u001B[38;5;124;43mALL_CPUS\u001B[39;49m\u001B[38;5;124;43m'\u001B[39;49m\u001B[43m,\u001B[49m\u001B[43m \u001B[49m\u001B[43mpredictor\u001B[49m\u001B[38;5;241;43m=\u001B[39;49m\u001B[43mpredict\u001B[49m\u001B[43m,\u001B[49m\u001B[43m \u001B[49m\u001B[43mzstd_level\u001B[49m\u001B[38;5;241;43m=\u001B[39;49m\u001B[38;5;241;43m1\u001B[39;49m\u001B[43m)\u001B[49m\n",
      "File \u001B[1;32m~\\anaconda3\\envs\\CableRoutePlanning\\lib\\site-packages\\rioxarray\\raster_array.py:1140\u001B[0m, in \u001B[0;36mRasterArray.to_raster\u001B[1;34m(self, raster_path, driver, dtype, tags, windowed, recalc_transform, lock, compute, **profile_kwargs)\u001B[0m\n\u001B[0;32m   1121\u001B[0m out_profile \u001B[38;5;241m=\u001B[39m {\n\u001B[0;32m   1122\u001B[0m     key: value\n\u001B[0;32m   1123\u001B[0m     \u001B[38;5;28;01mfor\u001B[39;00m key, value \u001B[38;5;129;01min\u001B[39;00m out_profile\u001B[38;5;241m.\u001B[39mitems()\n\u001B[1;32m   (...)\u001B[0m\n\u001B[0;32m   1134\u001B[0m     )\n\u001B[0;32m   1135\u001B[0m }\n\u001B[0;32m   1136\u001B[0m rio_nodata \u001B[38;5;241m=\u001B[39m (\n\u001B[0;32m   1137\u001B[0m     \u001B[38;5;28mself\u001B[39m\u001B[38;5;241m.\u001B[39mencoded_nodata \u001B[38;5;28;01mif\u001B[39;00m \u001B[38;5;28mself\u001B[39m\u001B[38;5;241m.\u001B[39mencoded_nodata \u001B[38;5;129;01mis\u001B[39;00m \u001B[38;5;129;01mnot\u001B[39;00m \u001B[38;5;28;01mNone\u001B[39;00m \u001B[38;5;28;01melse\u001B[39;00m \u001B[38;5;28mself\u001B[39m\u001B[38;5;241m.\u001B[39mnodata\n\u001B[0;32m   1138\u001B[0m )\n\u001B[1;32m-> 1140\u001B[0m \u001B[38;5;28;01mreturn\u001B[39;00m RasterioWriter(raster_path\u001B[38;5;241m=\u001B[39mraster_path)\u001B[38;5;241m.\u001B[39mto_raster(\n\u001B[0;32m   1141\u001B[0m     xarray_dataarray\u001B[38;5;241m=\u001B[39m\u001B[38;5;28mself\u001B[39m\u001B[38;5;241m.\u001B[39m_obj,\n\u001B[0;32m   1142\u001B[0m     tags\u001B[38;5;241m=\u001B[39mtags,\n\u001B[0;32m   1143\u001B[0m     driver\u001B[38;5;241m=\u001B[39mdriver,\n\u001B[0;32m   1144\u001B[0m     height\u001B[38;5;241m=\u001B[39m\u001B[38;5;28mint\u001B[39m(\u001B[38;5;28mself\u001B[39m\u001B[38;5;241m.\u001B[39mheight),\n\u001B[0;32m   1145\u001B[0m     width\u001B[38;5;241m=\u001B[39m\u001B[38;5;28mint\u001B[39m(\u001B[38;5;28mself\u001B[39m\u001B[38;5;241m.\u001B[39mwidth),\n\u001B[0;32m   1146\u001B[0m     count\u001B[38;5;241m=\u001B[39m\u001B[38;5;28mint\u001B[39m(\u001B[38;5;28mself\u001B[39m\u001B[38;5;241m.\u001B[39mcount),\n\u001B[0;32m   1147\u001B[0m     dtype\u001B[38;5;241m=\u001B[39mdtype,\n\u001B[0;32m   1148\u001B[0m     crs\u001B[38;5;241m=\u001B[39m\u001B[38;5;28mself\u001B[39m\u001B[38;5;241m.\u001B[39mcrs,\n\u001B[0;32m   1149\u001B[0m     transform\u001B[38;5;241m=\u001B[39m\u001B[38;5;28mself\u001B[39m\u001B[38;5;241m.\u001B[39mtransform(recalc\u001B[38;5;241m=\u001B[39mrecalc_transform),\n\u001B[0;32m   1150\u001B[0m     gcps\u001B[38;5;241m=\u001B[39m\u001B[38;5;28mself\u001B[39m\u001B[38;5;241m.\u001B[39mget_gcps(),\n\u001B[0;32m   1151\u001B[0m     nodata\u001B[38;5;241m=\u001B[39mrio_nodata,\n\u001B[0;32m   1152\u001B[0m     windowed\u001B[38;5;241m=\u001B[39mwindowed,\n\u001B[0;32m   1153\u001B[0m     lock\u001B[38;5;241m=\u001B[39mlock,\n\u001B[0;32m   1154\u001B[0m     compute\u001B[38;5;241m=\u001B[39mcompute,\n\u001B[0;32m   1155\u001B[0m     \u001B[38;5;241m*\u001B[39m\u001B[38;5;241m*\u001B[39mout_profile,\n\u001B[0;32m   1156\u001B[0m )\n",
      "File \u001B[1;32m~\\anaconda3\\envs\\CableRoutePlanning\\lib\\site-packages\\rioxarray\\raster_writer.py:258\u001B[0m, in \u001B[0;36mRasterioWriter.to_raster\u001B[1;34m(self, xarray_dataarray, tags, windowed, lock, compute, **kwargs)\u001B[0m\n\u001B[0;32m    252\u001B[0m \u001B[38;5;28;01mif\u001B[39;00m kwargs[\u001B[38;5;124m\"\u001B[39m\u001B[38;5;124mnodata\u001B[39m\u001B[38;5;124m\"\u001B[39m] \u001B[38;5;129;01mis\u001B[39;00m \u001B[38;5;129;01mnot\u001B[39;00m \u001B[38;5;28;01mNone\u001B[39;00m:\n\u001B[0;32m    253\u001B[0m     \u001B[38;5;66;03m# Ensure dtype of output data matches the expected dtype.\u001B[39;00m\n\u001B[0;32m    254\u001B[0m     \u001B[38;5;66;03m# This check is added here as the dtype of the data is\u001B[39;00m\n\u001B[0;32m    255\u001B[0m     \u001B[38;5;66;03m# converted right before writing.\u001B[39;00m\n\u001B[0;32m    256\u001B[0m     kwargs[\u001B[38;5;124m\"\u001B[39m\u001B[38;5;124mnodata\u001B[39m\u001B[38;5;124m\"\u001B[39m] \u001B[38;5;241m=\u001B[39m _ensure_nodata_dtype(kwargs[\u001B[38;5;124m\"\u001B[39m\u001B[38;5;124mnodata\u001B[39m\u001B[38;5;124m\"\u001B[39m], numpy_dtype)\n\u001B[1;32m--> 258\u001B[0m \u001B[38;5;28;01mwith\u001B[39;00m rasterio\u001B[38;5;241m.\u001B[39mopen(\u001B[38;5;28mself\u001B[39m\u001B[38;5;241m.\u001B[39mraster_path, \u001B[38;5;124m\"\u001B[39m\u001B[38;5;124mw\u001B[39m\u001B[38;5;124m\"\u001B[39m, \u001B[38;5;241m*\u001B[39m\u001B[38;5;241m*\u001B[39mkwargs) \u001B[38;5;28;01mas\u001B[39;00m rds:\n\u001B[0;32m    259\u001B[0m     _write_metatata_to_raster(rds, xarray_dataarray, tags)\n\u001B[0;32m    260\u001B[0m     \u001B[38;5;28;01mif\u001B[39;00m \u001B[38;5;129;01mnot\u001B[39;00m (lock \u001B[38;5;129;01mand\u001B[39;00m is_dask_collection(xarray_dataarray\u001B[38;5;241m.\u001B[39mdata)):\n\u001B[0;32m    261\u001B[0m         \u001B[38;5;66;03m# write data to raster immmediately if not dask array\u001B[39;00m\n",
      "File \u001B[1;32m~\\anaconda3\\envs\\CableRoutePlanning\\lib\\site-packages\\rasterio\\env.py:444\u001B[0m, in \u001B[0;36mensure_env_with_credentials.<locals>.wrapper\u001B[1;34m(*args, **kwds)\u001B[0m\n\u001B[0;32m    441\u001B[0m     session \u001B[38;5;241m=\u001B[39m DummySession()\n\u001B[0;32m    443\u001B[0m \u001B[38;5;28;01mwith\u001B[39;00m env_ctor(session\u001B[38;5;241m=\u001B[39msession):\n\u001B[1;32m--> 444\u001B[0m     \u001B[38;5;28;01mreturn\u001B[39;00m f(\u001B[38;5;241m*\u001B[39margs, \u001B[38;5;241m*\u001B[39m\u001B[38;5;241m*\u001B[39mkwds)\n",
      "File \u001B[1;32m~\\anaconda3\\envs\\CableRoutePlanning\\lib\\site-packages\\rasterio\\__init__.py:314\u001B[0m, in \u001B[0;36mopen\u001B[1;34m(fp, mode, driver, width, height, count, crs, transform, dtype, nodata, sharing, **kwargs)\u001B[0m\n\u001B[0;32m    312\u001B[0m writer \u001B[38;5;241m=\u001B[39m get_writer_for_driver(driver)\n\u001B[0;32m    313\u001B[0m \u001B[38;5;28;01mif\u001B[39;00m writer \u001B[38;5;129;01mis\u001B[39;00m \u001B[38;5;129;01mnot\u001B[39;00m \u001B[38;5;28;01mNone\u001B[39;00m:\n\u001B[1;32m--> 314\u001B[0m     dataset \u001B[38;5;241m=\u001B[39m writer(\n\u001B[0;32m    315\u001B[0m         path,\n\u001B[0;32m    316\u001B[0m         mode,\n\u001B[0;32m    317\u001B[0m         driver\u001B[38;5;241m=\u001B[39mdriver,\n\u001B[0;32m    318\u001B[0m         width\u001B[38;5;241m=\u001B[39mwidth,\n\u001B[0;32m    319\u001B[0m         height\u001B[38;5;241m=\u001B[39mheight,\n\u001B[0;32m    320\u001B[0m         count\u001B[38;5;241m=\u001B[39mcount,\n\u001B[0;32m    321\u001B[0m         crs\u001B[38;5;241m=\u001B[39mcrs,\n\u001B[0;32m    322\u001B[0m         transform\u001B[38;5;241m=\u001B[39mtransform,\n\u001B[0;32m    323\u001B[0m         dtype\u001B[38;5;241m=\u001B[39mdtype,\n\u001B[0;32m    324\u001B[0m         nodata\u001B[38;5;241m=\u001B[39mnodata,\n\u001B[0;32m    325\u001B[0m         sharing\u001B[38;5;241m=\u001B[39msharing,\n\u001B[0;32m    326\u001B[0m         \u001B[38;5;241m*\u001B[39m\u001B[38;5;241m*\u001B[39mkwargs\n\u001B[0;32m    327\u001B[0m     )\n\u001B[0;32m    328\u001B[0m \u001B[38;5;28;01melse\u001B[39;00m:\n\u001B[0;32m    329\u001B[0m     \u001B[38;5;28;01mraise\u001B[39;00m DriverCapabilityError(\n\u001B[0;32m    330\u001B[0m         \u001B[38;5;124m\"\u001B[39m\u001B[38;5;124mWriter does not exist for driver: \u001B[39m\u001B[38;5;132;01m%s\u001B[39;00m\u001B[38;5;124m\"\u001B[39m \u001B[38;5;241m%\u001B[39m \u001B[38;5;28mstr\u001B[39m(driver)\n\u001B[0;32m    331\u001B[0m     )\n",
      "File \u001B[1;32mrasterio\\_io.pyx:1425\u001B[0m, in \u001B[0;36mrasterio._io.DatasetWriterBase.__init__\u001B[1;34m()\u001B[0m\n",
      "File \u001B[1;32mrasterio\\_io.pyx:291\u001B[0m, in \u001B[0;36mrasterio._io._delete_dataset_if_exists\u001B[1;34m()\u001B[0m\n",
      "File \u001B[1;32mrasterio\\_err.pyx:191\u001B[0m, in \u001B[0;36mrasterio._err.exc_wrap_int\u001B[1;34m()\u001B[0m\n",
      "\u001B[1;31mCPLE_AppDefinedError\u001B[0m: Deleting ..\\results\\weights\\Clipped\\Control_Masks\\Control_mask_P1-E.tif failed: Permission denied"
     ]
    }
   ],
   "source": [
    "masks = [read_file(f\"./../results/Buffer_Polygons/TestPaths_polygons/Control_paths_{x}_buffer.gpkg\") for x in routes]\n",
    "\n",
    "raster_5f = open_rasterio(Path(r'./../results/weights/result_res_5_all_touched_False.tif'))\n",
    "\n",
    "for mask, route in zip(masks, routes):\n",
    "    raster_5f_clipped = raster_5f.rio.clip(mask.geometry.values, mask.crs, drop=True)\n",
    "    write_compressed(raster_5f_clipped, Path(rf'./../results/weights/Clipped/Control_Masks/Control_mask_{route}.tif'))\n"
   ],
   "metadata": {
    "collapsed": false
   }
  },
  {
   "cell_type": "markdown",
   "source": [
    "# Statistik on control data"
   ],
   "metadata": {
    "collapsed": false
   }
  },
  {
   "cell_type": "code",
   "execution_count": 28,
   "outputs": [],
   "source": [
    "originals_5m= [read_file(\"..\\\\results\\\\least_cost_paths\\\\Testing\\\\tp1_end_false_5m_original.gpkg\"),\n",
    "               read_file(\"..\\\\results\\\\least_cost_paths\\\\Testing\\\\tp2_end_false_5m_original.gpkg\"),\n",
    "               read_file(\"..\\\\results\\\\least_cost_paths\\\\Testing\\\\start_tp3_false_5m_original.gpkg\", layer='start2tp3_false_5m'),\n",
    "               read_file(\"..\\\\results\\\\least_cost_paths\\\\Testing\\\\start_tp4_false_5m_original.gpkg\"),\n",
    "            ]\n",
    "\n",
    "originals_10m = [read_file(\"..\\\\results\\\\least_cost_paths\\\\Testing\\\\tp1_end_false_10m_original.gpkg\"),\n",
    "                 read_file(\"..\\\\results\\\\least_cost_paths\\\\Testing\\\\tp2_end_false_10m_original.gpkg\"),\n",
    "                 read_file(\"..\\\\results\\\\least_cost_paths\\\\Testing\\\\start_tp3_false_10m_original.gpkg\"),\n",
    "                 read_file(\"..\\\\results\\\\least_cost_paths\\\\Testing\\\\start_tp4_false_10m_original.gpkg\"),\n",
    "            ]\n",
    "\n",
    "clipped= [read_file(\"..\\\\results\\\\least_cost_paths\\\\Testing\\\\tp1_end_false_5m_masked.gpkg\"),\n",
    "          read_file(\"..\\\\results\\\\least_cost_paths\\\\Testing\\\\tp2_end_false_5m_masked.gpkg\"),\n",
    "          read_file(\"..\\\\results\\\\least_cost_paths\\\\Testing\\\\start_tp3_false_5m_masked.gpkg\"),\n",
    "          read_file(\"..\\\\results\\\\least_cost_paths\\\\Testing\\\\start_tp4_false_5m_masked.gpkg\"),\n",
    "          ]\n",
    "\n",
    "down_sampled= [read_file(\"..\\\\results\\\\least_cost_paths\\\\Testing\\\\tp1_end_false_5m_downsampled.gpkg\"),\n",
    "               read_file(\"..\\\\results\\\\least_cost_paths\\\\Testing\\\\tp2_end_false_5m_downsampled.gpkg\"),\n",
    "               read_file(\"..\\\\results\\\\least_cost_paths\\\\Testing\\\\start_tp3_10m_downsampled.gpkg\"),\n",
    "               read_file(\"..\\\\results\\\\least_cost_paths\\\\Testing\\\\start_tp4_10m_downsampled.gpkg\"),\n",
    "             ]\n",
    "\n",
    "distances_10m = [compute_line_distances(t.geometry.values[0], f.geometry.values[0]) for f, t in zip(originals_5m, originals_10m)]\n",
    "mean_distances_10m = [np.mean(x) for x in distances_10m]\n",
    "\n",
    "distances_clipped = [compute_line_distances(t.geometry.values[0], f.geometry.values[0]) for f, t in zip(originals_5m, clipped)]\n",
    "mean_distances_clipped = [np.mean(x) for x in distances_clipped]\n",
    "\n",
    "distances_down = [compute_line_distances(t.geometry.values[0], f.geometry.values[0]) for f, t in zip(originals_5m, down_sampled)]\n",
    "mean_distances_down = [np.mean(x) for x in distances_down]"
   ],
   "metadata": {
    "collapsed": false
   }
  },
  {
   "cell_type": "code",
   "execution_count": 30,
   "outputs": [
    {
     "data": {
      "text/plain": "   Route Method/Resolution         length      path cost  mean distance\n0   P1-E                5m  107889.580446  208547.785000       0.000000\n1   P1-E           Clipped  107889.580446  208547.785000       0.000000\n2   P1-E      Down sampled   96754.204171  212910.950000     628.046575\n3   P1-E               10m  107232.937923  203010.150000     103.492131\n4   P2-E                5m  103706.414143  155567.855000       0.000000\n5   P2-E           Clipped  103706.414143  155567.855000       0.000000\n6   P2-E      Down sampled   92403.287979  158238.580000     639.882344\n7   P2-E               10m  104249.944319  149899.720000     177.680120\n8   S-P3                5m  102187.088628   34503.813361       0.000000\n9   S-P3           Clipped   90377.394204   37926.140000    4465.369275\n10  S-P3      Down sampled   94125.550939   37574.932859     742.408139\n11  S-P3               10m  102461.577935   32445.960000      81.181390\n12  S-P4                5m   96449.222457   33865.530000       0.000000\n13  S-P4           Clipped   96449.222457   33865.530000       0.000000\n14  S-P4      Down sampled   87861.121699   36462.720000     796.397517\n15  S-P4               10m   96739.468732   31899.310000      83.456643",
      "text/html": "<div>\n<style scoped>\n    .dataframe tbody tr th:only-of-type {\n        vertical-align: middle;\n    }\n\n    .dataframe tbody tr th {\n        vertical-align: top;\n    }\n\n    .dataframe thead th {\n        text-align: right;\n    }\n</style>\n<table border=\"1\" class=\"dataframe\">\n  <thead>\n    <tr style=\"text-align: right;\">\n      <th></th>\n      <th>Route</th>\n      <th>Method/Resolution</th>\n      <th>length</th>\n      <th>path cost</th>\n      <th>mean distance</th>\n    </tr>\n  </thead>\n  <tbody>\n    <tr>\n      <th>0</th>\n      <td>P1-E</td>\n      <td>5m</td>\n      <td>107889.580446</td>\n      <td>208547.785000</td>\n      <td>0.000000</td>\n    </tr>\n    <tr>\n      <th>1</th>\n      <td>P1-E</td>\n      <td>Clipped</td>\n      <td>107889.580446</td>\n      <td>208547.785000</td>\n      <td>0.000000</td>\n    </tr>\n    <tr>\n      <th>2</th>\n      <td>P1-E</td>\n      <td>Down sampled</td>\n      <td>96754.204171</td>\n      <td>212910.950000</td>\n      <td>628.046575</td>\n    </tr>\n    <tr>\n      <th>3</th>\n      <td>P1-E</td>\n      <td>10m</td>\n      <td>107232.937923</td>\n      <td>203010.150000</td>\n      <td>103.492131</td>\n    </tr>\n    <tr>\n      <th>4</th>\n      <td>P2-E</td>\n      <td>5m</td>\n      <td>103706.414143</td>\n      <td>155567.855000</td>\n      <td>0.000000</td>\n    </tr>\n    <tr>\n      <th>5</th>\n      <td>P2-E</td>\n      <td>Clipped</td>\n      <td>103706.414143</td>\n      <td>155567.855000</td>\n      <td>0.000000</td>\n    </tr>\n    <tr>\n      <th>6</th>\n      <td>P2-E</td>\n      <td>Down sampled</td>\n      <td>92403.287979</td>\n      <td>158238.580000</td>\n      <td>639.882344</td>\n    </tr>\n    <tr>\n      <th>7</th>\n      <td>P2-E</td>\n      <td>10m</td>\n      <td>104249.944319</td>\n      <td>149899.720000</td>\n      <td>177.680120</td>\n    </tr>\n    <tr>\n      <th>8</th>\n      <td>S-P3</td>\n      <td>5m</td>\n      <td>102187.088628</td>\n      <td>34503.813361</td>\n      <td>0.000000</td>\n    </tr>\n    <tr>\n      <th>9</th>\n      <td>S-P3</td>\n      <td>Clipped</td>\n      <td>90377.394204</td>\n      <td>37926.140000</td>\n      <td>4465.369275</td>\n    </tr>\n    <tr>\n      <th>10</th>\n      <td>S-P3</td>\n      <td>Down sampled</td>\n      <td>94125.550939</td>\n      <td>37574.932859</td>\n      <td>742.408139</td>\n    </tr>\n    <tr>\n      <th>11</th>\n      <td>S-P3</td>\n      <td>10m</td>\n      <td>102461.577935</td>\n      <td>32445.960000</td>\n      <td>81.181390</td>\n    </tr>\n    <tr>\n      <th>12</th>\n      <td>S-P4</td>\n      <td>5m</td>\n      <td>96449.222457</td>\n      <td>33865.530000</td>\n      <td>0.000000</td>\n    </tr>\n    <tr>\n      <th>13</th>\n      <td>S-P4</td>\n      <td>Clipped</td>\n      <td>96449.222457</td>\n      <td>33865.530000</td>\n      <td>0.000000</td>\n    </tr>\n    <tr>\n      <th>14</th>\n      <td>S-P4</td>\n      <td>Down sampled</td>\n      <td>87861.121699</td>\n      <td>36462.720000</td>\n      <td>796.397517</td>\n    </tr>\n    <tr>\n      <th>15</th>\n      <td>S-P4</td>\n      <td>10m</td>\n      <td>96739.468732</td>\n      <td>31899.310000</td>\n      <td>83.456643</td>\n    </tr>\n  </tbody>\n</table>\n</div>"
     },
     "execution_count": 30,
     "metadata": {},
     "output_type": "execute_result"
    }
   ],
   "source": [
    "DataFrame({'Route': ['P1-E', 'P1-E', 'P1-E', 'P1-E', 'P2-E','P2-E', 'P2-E', 'P2-E', 'S-P3', 'S-P3', 'S-P3', 'S-P3', 'S-P4', 'S-P4', 'S-P4', 'S-P4',],\n",
    "           'Method/Resolution': ['5m', 'Clipped', 'Down sampled', '10m', '5m', 'Clipped', 'Down sampled', '10m', '5m', 'Clipped', 'Down sampled', '10m', '5m', 'Clipped', 'Down sampled', '10m',],\n",
    "           'length': [originals_5m[0].geometry.length.to_numpy()[0],\n",
    "                      clipped[0].geometry.length.to_numpy()[0],\n",
    "                      down_sampled[0].geometry.length.to_numpy()[0],\n",
    "                      originals_10m[0].geometry.length.to_numpy()[0],\n",
    "\n",
    "                      originals_5m[1].geometry.length.to_numpy()[0],\n",
    "                      clipped[1].geometry.length.to_numpy()[0],\n",
    "                      down_sampled[1].geometry.length.to_numpy()[0],\n",
    "                      originals_10m[1].geometry.length.to_numpy()[0],\n",
    "\n",
    "                      originals_5m[2].geometry.length.to_numpy()[0],\n",
    "                      clipped[2].geometry.length.to_numpy()[0],\n",
    "                      down_sampled[2].geometry.length.to_numpy()[0],\n",
    "                      originals_10m[2].geometry.length.to_numpy()[0],\n",
    "\n",
    "                      originals_5m[3].geometry.length.to_numpy()[0],\n",
    "                      clipped[3].geometry.length.to_numpy()[0],\n",
    "                      down_sampled[3].geometry.length.to_numpy()[0],\n",
    "                      originals_10m[3].geometry.length.to_numpy()[0],],\n",
    "           'path cost': [originals_5m[0]['total cost'].to_numpy()[0]*5,\n",
    "                         clipped[0]['total cost'].to_numpy()[0]*5,\n",
    "                         down_sampled[0]['total cost'].to_numpy()[0]*10,\n",
    "                         originals_10m[0]['total cost'].to_numpy()[0]*10,\n",
    "\n",
    "                         originals_5m[1]['total cost'].to_numpy()[0]*5,\n",
    "                         clipped[1]['total cost'].to_numpy()[0]*5,\n",
    "                         down_sampled[1]['total cost'].to_numpy()[0]*10,\n",
    "                         originals_10m[1]['total cost'].to_numpy()[0]*10,\n",
    "\n",
    "                         originals_5m[2]['total cost'].to_numpy()[0]*5,\n",
    "                         clipped[2]['total cost'].to_numpy()[0]*5,\n",
    "                         down_sampled[2]['total cost'].to_numpy()[0]*10,\n",
    "                         originals_10m[2]['total cost'].to_numpy()[0]*10,\n",
    "\n",
    "                         originals_5m[3]['total cost'].to_numpy()[0]*5,\n",
    "                         clipped[3]['total cost'].to_numpy()[0]*5,\n",
    "                         down_sampled[3]['total cost'].to_numpy()[0]*10,\n",
    "                         originals_10m[3]['total cost'].to_numpy()[0]*10,],\n",
    "           'mean distance': [0,\n",
    "                             mean_distances_clipped[0],\n",
    "                             mean_distances_down[0],\n",
    "                             mean_distances_10m[0],\n",
    "\n",
    "                             0,\n",
    "                             mean_distances_clipped[1],\n",
    "                             mean_distances_down[1],\n",
    "                             mean_distances_10m[1],\n",
    "\n",
    "                             0,\n",
    "                             mean_distances_clipped[2],\n",
    "                             mean_distances_down[2],\n",
    "                             mean_distances_10m[2],\n",
    "\n",
    "                             0,\n",
    "                             mean_distances_clipped[3],\n",
    "                             mean_distances_down[3],\n",
    "                             mean_distances_10m[3]],})"
   ],
   "metadata": {
    "collapsed": false
   }
  },
  {
   "cell_type": "code",
   "execution_count": null,
   "outputs": [],
   "source": [],
   "metadata": {
    "collapsed": false
   }
  }
 ],
 "metadata": {
  "kernelspec": {
   "display_name": "Python 3",
   "language": "python",
   "name": "python3"
  },
  "language_info": {
   "codemirror_mode": {
    "name": "ipython",
    "version": 2
   },
   "file_extension": ".py",
   "mimetype": "text/x-python",
   "name": "python",
   "nbconvert_exporter": "python",
   "pygments_lexer": "ipython2",
   "version": "2.7.6"
  }
 },
 "nbformat": 4,
 "nbformat_minor": 0
}
