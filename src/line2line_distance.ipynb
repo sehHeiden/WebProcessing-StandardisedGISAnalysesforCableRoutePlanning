{
 "cells": [
  {
   "cell_type": "markdown",
   "source": [
    "# measure the average minimum distance between two lines, or the zonal stats around each line's buffer"
   ],
   "metadata": {
    "collapsed": false
   }
  },
  {
   "cell_type": "code",
   "execution_count": 3,
   "outputs": [],
   "source": [
    "from geopandas import read_file\n",
    "from shapely.geometry import Point\n",
    "import numpy as np\n",
    "from rioxarray import open_rasterio\n",
    "from rasterstats import zonal_stats\n",
    "from pathlib import Path"
   ],
   "metadata": {
    "collapsed": false
   }
  },
  {
   "cell_type": "markdown",
   "source": [
    "# 5 m resolution\n",
    "## distances"
   ],
   "metadata": {
    "collapsed": false
   }
  },
  {
   "cell_type": "markdown",
   "source": [],
   "metadata": {
    "collapsed": false
   }
  },
  {
   "cell_type": "code",
   "execution_count": 4,
   "outputs": [
    {
     "data": {
      "text/plain": "0.0"
     },
     "execution_count": 4,
     "metadata": {},
     "output_type": "execute_result"
    }
   ],
   "source": [
    "least_cost_path_5_false = read_file(\"./../results/least_cost_paths/least_cost_path_test_points_res_5_al_false.gpkg\")\n",
    "least_cost_path_5_true = read_file(\"./../results/least_cost_paths/least_cost_path_test_points_res_5_al_true.gpkg\")\n",
    "\n",
    "least_cost_path_5_false.geometry.values[0].distance(least_cost_path_5_true.geometry.values[0])"
   ],
   "metadata": {
    "collapsed": false
   }
  },
  {
   "cell_type": "code",
   "execution_count": 5,
   "outputs": [
    {
     "data": {
      "text/plain": "(59873.38154014804, 78002.0066579491)"
     },
     "execution_count": 5,
     "metadata": {},
     "output_type": "execute_result"
    }
   ],
   "source": [
    "least_cost_path_5_false.geometry.values[0].length, least_cost_path_5_true.geometry.values[0].length"
   ],
   "metadata": {
    "collapsed": false
   }
  },
  {
   "cell_type": "code",
   "execution_count": 6,
   "outputs": [],
   "source": [
    "distances_5  =  np.array([Point(p).distance(least_cost_path_5_true.geometry.values[0]) for p in least_cost_path_5_false.geometry.values[0].coords])"
   ],
   "metadata": {
    "collapsed": false
   }
  },
  {
   "cell_type": "code",
   "execution_count": 7,
   "outputs": [
    {
     "data": {
      "text/plain": "33.01776695296637"
     },
     "execution_count": 7,
     "metadata": {},
     "output_type": "execute_result"
    }
   ],
   "source": [
    "mean_min_distances_5 =  np.mean(distances_5)\n",
    "mean_min_distances_5"
   ],
   "metadata": {
    "collapsed": false
   }
  },
  {
   "cell_type": "markdown",
   "source": [
    "## costs"
   ],
   "metadata": {
    "collapsed": false
   }
  },
  {
   "cell_type": "code",
   "execution_count": 8,
   "outputs": [
    {
     "data": {
      "text/plain": "(18665.923, 19516.754)"
     },
     "execution_count": 8,
     "metadata": {},
     "output_type": "execute_result"
    }
   ],
   "source": [
    "least_cost_path_5_false['total cost'][0], least_cost_path_5_true['total cost'][0]"
   ],
   "metadata": {
    "collapsed": false
   }
  },
  {
   "cell_type": "code",
   "execution_count": 9,
   "outputs": [
    {
     "data": {
      "text/plain": "(93329.61499999999, 97583.77)"
     },
     "execution_count": 9,
     "metadata": {},
     "output_type": "execute_result"
    }
   ],
   "source": [
    "least_cost_path_5_false['total cost'][0]*5, least_cost_path_5_true['total cost'][0]*5"
   ],
   "metadata": {
    "collapsed": false
   }
  },
  {
   "cell_type": "code",
   "execution_count": 10,
   "outputs": [
    {
     "data": {
      "text/plain": "-4254.155000000013"
     },
     "execution_count": 10,
     "metadata": {},
     "output_type": "execute_result"
    }
   ],
   "source": [
    "least_cost_path_5_false['total cost'][0]*5 - least_cost_path_5_true['total cost'][0]*5"
   ],
   "metadata": {
    "collapsed": false
   }
  },
  {
   "cell_type": "code",
   "execution_count": 43,
   "outputs": [
    {
     "data": {
      "text/plain": "(59873.38154014804, 78002.0066579491)"
     },
     "execution_count": 43,
     "metadata": {},
     "output_type": "execute_result"
    }
   ],
   "source": [
    "least_cost_path_5_false.geometry.length[0], least_cost_path_5_true.geometry.length[0]"
   ],
   "metadata": {
    "collapsed": false
   }
  },
  {
   "cell_type": "code",
   "execution_count": 41,
   "outputs": [
    {
     "data": {
      "text/plain": "0   -0.06171\ndtype: float64"
     },
     "execution_count": 41,
     "metadata": {},
     "output_type": "execute_result"
    }
   ],
   "source": [
    "(least_cost_path_5_false['total cost'][0]*5 - least_cost_path_5_true['total cost'][0]*5) / ((least_cost_path_5_false.geometry.length + least_cost_path_5_true.geometry.length)/2)"
   ],
   "metadata": {
    "collapsed": false
   }
  },
  {
   "cell_type": "code",
   "execution_count": 13,
   "outputs": [
    {
     "data": {
      "text/plain": "-850.831000000002"
     },
     "execution_count": 13,
     "metadata": {},
     "output_type": "execute_result"
    }
   ],
   "source": [
    "least_cost_path_5_false['total cost'][0] - least_cost_path_5_true['total cost'][0]"
   ],
   "metadata": {
    "collapsed": false
   }
  },
  {
   "cell_type": "markdown",
   "source": [
    "## zonal stats"
   ],
   "metadata": {
    "collapsed": false
   }
  },
  {
   "cell_type": "code",
   "execution_count": 14,
   "outputs": [
    {
     "name": "stderr",
     "output_type": "stream",
     "text": [
      "/home/sebastian/anaconda3/envs/WebProcessing-StandardisedGISAnalysesforCableRoutePlanning/lib/python3.10/site-packages/rasterstats/main.py:156: ShapelyDeprecationWarning: The 'type' attribute is deprecated, and will be removed in the future. You can use the 'geom_type' attribute instead.\n",
      "  if 'Point' in geom.type:\n"
     ]
    },
    {
     "data": {
      "text/plain": "{'Preferential': 4.700294041698944,\n 'No Restriction': 58.703592639794756,\n 'Restricted': 8.782100940433649,\n 'Strongly Restricted': 0.7344795128736954,\n 'Prohibited': 27.079532865198956}"
     },
     "execution_count": 14,
     "metadata": {},
     "output_type": "execute_result"
    }
   ],
   "source": [
    "buffer_dist_100 = 100\n",
    "raster_5f = open_rasterio(Path(r'./../results/weights/result_res_5_all_touched_False.tif'))\n",
    "cmap = {0.1: 'Preferential', 0.5: 'No Restriction', 5.0: 'Restricted', 10.0: 'Strongly Restricted', 500: 'Prohibited'}\n",
    "stats_5f_100 = zonal_stats(least_cost_path_5_false.buffer(buffer_dist_100), raster_5f.data[0],\n",
    "                           affine= raster_5f.rio.transform(), nodata=raster_5f.rio.nodata,\n",
    "                           categorical=True, category_map=cmap)[0]\n",
    "\n",
    "stat_sum_5f_100 = np.sum(list(stats_5f_100.values()))\n",
    "rel_stats_5f_100 = {k: (v / stat_sum_5f_100 * 100.0) for k, v in stats_5f_100.items()}\n",
    "rel_stats_5f_100"
   ],
   "metadata": {
    "collapsed": false
   }
  },
  {
   "cell_type": "code",
   "execution_count": 15,
   "outputs": [
    {
     "name": "stderr",
     "output_type": "stream",
     "text": [
      "/home/sebastian/anaconda3/envs/WebProcessing-StandardisedGISAnalysesforCableRoutePlanning/lib/python3.10/site-packages/rasterstats/main.py:156: ShapelyDeprecationWarning: The 'type' attribute is deprecated, and will be removed in the future. You can use the 'geom_type' attribute instead.\n",
      "  if 'Point' in geom.type:\n"
     ]
    },
    {
     "data": {
      "text/plain": "{'Preferential': 5.394346791365705,\n 'No Restriction': 58.85766773829902,\n 'Restricted': 8.35873241200785,\n 'Strongly Restricted': 0.6847313264581855,\n 'Prohibited': 26.704521731869235}"
     },
     "execution_count": 15,
     "metadata": {},
     "output_type": "execute_result"
    }
   ],
   "source": [
    "buffer_dist_5 = 5\n",
    "stats_5f_5 = zonal_stats(least_cost_path_5_false.buffer(buffer_dist_5),\n",
    "                         raster_5f.data[0], nodata=raster_5f.rio.nodata, affine=raster_5f.rio.transform(),\n",
    "                         categorical=True, category_map=cmap)[0]\n",
    "\n",
    "stat_sum_5f_5 = np.sum(list(stats_5f_5.values()))\n",
    "rel_stats_5f_5 = {k: (v / stat_sum_5f_5 * 100.0) for k, v in stats_5f_5.items()}\n",
    "rel_stats_5f_5"
   ],
   "metadata": {
    "collapsed": false
   }
  },
  {
   "cell_type": "code",
   "execution_count": 16,
   "outputs": [
    {
     "name": "stderr",
     "output_type": "stream",
     "text": [
      "/home/sebastian/anaconda3/envs/WebProcessing-StandardisedGISAnalysesforCableRoutePlanning/lib/python3.10/site-packages/rasterstats/main.py:156: ShapelyDeprecationWarning: The 'type' attribute is deprecated, and will be removed in the future. You can use the 'geom_type' attribute instead.\n",
      "  if 'Point' in geom.type:\n"
     ]
    },
    {
     "data": {
      "text/plain": "{'Preferential': 18.89687706997108,\n 'No Restriction': 67.30923954311194,\n 'Restricted': 1.291177278381828,\n 'Strongly Restricted': 0.9866390939787065,\n 'Prohibited': 11.51606701455644}"
     },
     "execution_count": 16,
     "metadata": {},
     "output_type": "execute_result"
    }
   ],
   "source": [
    "raster_5t = open_rasterio(Path(r'./../results/weights/result_res_5_all_touched_True.tif'))\n",
    "stats_5t_100 = zonal_stats(least_cost_path_5_true.buffer(buffer_dist_100),\n",
    "                           raster_5t.data[0], nodata=raster_5t.rio.nodata, affine=raster_5t.rio.transform(),\n",
    "                           categorical=True, category_map=cmap)[0]\n",
    "\n",
    "stat_sum_5t_100 = np.sum(list(stats_5t_100.values()))\n",
    "rel_stats_5t_100 = {k: (v / stat_sum_5t_100 * 100.0) for k, v in stats_5t_100.items()}\n",
    "rel_stats_5t_100"
   ],
   "metadata": {
    "collapsed": false
   }
  },
  {
   "cell_type": "code",
   "execution_count": 17,
   "outputs": [
    {
     "name": "stderr",
     "output_type": "stream",
     "text": [
      "/home/sebastian/anaconda3/envs/WebProcessing-StandardisedGISAnalysesforCableRoutePlanning/lib/python3.10/site-packages/rasterstats/main.py:156: ShapelyDeprecationWarning: The 'type' attribute is deprecated, and will be removed in the future. You can use the 'geom_type' attribute instead.\n",
      "  if 'Point' in geom.type:\n"
     ]
    },
    {
     "data": {
      "text/plain": "{'Preferential': 28.469760979897362,\n 'No Restriction': 66.44078369106013,\n 'Restricted': 1.6189855113555813,\n 'Strongly Restricted': 0.4961864526921659,\n 'Prohibited': 2.9742833649947547}"
     },
     "execution_count": 17,
     "metadata": {},
     "output_type": "execute_result"
    }
   ],
   "source": [
    "raster_5t = open_rasterio(Path(r'./../results/weights/result_res_5_all_touched_True.tif'))\n",
    "stats_5t_5 = zonal_stats(least_cost_path_5_true.buffer(buffer_dist_5),\n",
    "                         raster_5t.data[0], nodata=raster_5t.rio.nodata, affine=raster_5t.rio.transform(),\n",
    "                         categorical=True, category_map=cmap)[0]\n",
    "\n",
    "stat_sum_5t_5 = np.sum(list(stats_5t_5.values()))\n",
    "rel_stats_5t_5 = {k: (v / stat_sum_5t_5 * 100.0) for k, v in stats_5t_5.items()}\n",
    "rel_stats_5t_5"
   ],
   "metadata": {
    "collapsed": false
   }
  },
  {
   "cell_type": "markdown",
   "source": [
    "# 10 m resolution\n",
    "## distances"
   ],
   "metadata": {
    "collapsed": false
   }
  },
  {
   "cell_type": "code",
   "execution_count": 18,
   "outputs": [
    {
     "data": {
      "text/plain": "(75430.10086958889, 77936.56874848259)"
     },
     "execution_count": 18,
     "metadata": {},
     "output_type": "execute_result"
    }
   ],
   "source": [
    "least_cost_path_10_false = read_file(\"../results/least_cost_paths/least_cost_path_test_points_res_10_al_false.gpkg\")\n",
    "least_cost_path_10_true = read_file(\"../results/least_cost_paths/least_cost_path_test_points_res_10_al_true.gpkg\")\n",
    "least_cost_path_10_false.geometry.values[0].length, least_cost_path_10_true.geometry.values[0].length"
   ],
   "metadata": {
    "collapsed": false
   }
  },
  {
   "cell_type": "code",
   "execution_count": 19,
   "outputs": [
    {
     "data": {
      "text/plain": "277.921414632231"
     },
     "execution_count": 19,
     "metadata": {},
     "output_type": "execute_result"
    }
   ],
   "source": [
    "distances_10  =  np.array([Point(p).distance(least_cost_path_10_true.geometry.values[0]) for p in least_cost_path_10_false.geometry.values[0].coords])\n",
    "mean_min_distances_10 =  np.mean(distances_10)\n",
    "mean_min_distances_10"
   ],
   "metadata": {
    "collapsed": false
   }
  },
  {
   "cell_type": "markdown",
   "source": [
    "## costs"
   ],
   "metadata": {
    "collapsed": false
   }
  },
  {
   "cell_type": "code",
   "execution_count": 20,
   "outputs": [
    {
     "data": {
      "text/plain": "(8931.245, 9731.175)"
     },
     "execution_count": 20,
     "metadata": {},
     "output_type": "execute_result"
    }
   ],
   "source": [
    "least_cost_path_10_false['total cost'][0], least_cost_path_10_true['total cost'][0]"
   ],
   "metadata": {
    "collapsed": false
   }
  },
  {
   "cell_type": "code",
   "execution_count": 21,
   "outputs": [
    {
     "data": {
      "text/plain": "(89312.45000000001, 97311.75)"
     },
     "execution_count": 21,
     "metadata": {},
     "output_type": "execute_result"
    }
   ],
   "source": [
    "least_cost_path_10_false['total cost'][0]*10, least_cost_path_10_true['total cost'][0]*10"
   ],
   "metadata": {
    "collapsed": false
   }
  },
  {
   "cell_type": "code",
   "execution_count": 22,
   "outputs": [
    {
     "data": {
      "text/plain": "-7999.299999999988"
     },
     "execution_count": 22,
     "metadata": {},
     "output_type": "execute_result"
    }
   ],
   "source": [
    "least_cost_path_10_false['total cost'][0]*10 - least_cost_path_10_true['total cost'][0]*10"
   ],
   "metadata": {
    "collapsed": false
   }
  },
  {
   "cell_type": "code",
   "execution_count": 23,
   "outputs": [
    {
     "data": {
      "text/plain": "0    75430.10087\ndtype: float64"
     },
     "execution_count": 23,
     "metadata": {},
     "output_type": "execute_result"
    }
   ],
   "source": [
    "least_cost_path_10_false.geometry.length"
   ],
   "metadata": {
    "collapsed": false
   }
  },
  {
   "cell_type": "code",
   "execution_count": 40,
   "outputs": [
    {
     "data": {
      "text/plain": "0   -0.104316\ndtype: float64"
     },
     "execution_count": 40,
     "metadata": {},
     "output_type": "execute_result"
    }
   ],
   "source": [
    "(least_cost_path_10_false['total cost'][0]*10 - least_cost_path_10_true['total cost'][0]*10) / ((least_cost_path_10_false.geometry.length + least_cost_path_10_true.geometry.length)/2)"
   ],
   "metadata": {
    "collapsed": false
   }
  },
  {
   "cell_type": "code",
   "execution_count": 25,
   "outputs": [
    {
     "data": {
      "text/plain": "-799.9299999999985"
     },
     "execution_count": 25,
     "metadata": {},
     "output_type": "execute_result"
    }
   ],
   "source": [
    "least_cost_path_10_false['total cost'][0] - least_cost_path_10_true['total cost'][0]"
   ],
   "metadata": {
    "collapsed": false
   }
  },
  {
   "cell_type": "markdown",
   "source": [
    "## Zonal Stats"
   ],
   "metadata": {
    "collapsed": false
   }
  },
  {
   "cell_type": "code",
   "execution_count": 26,
   "outputs": [
    {
     "name": "stderr",
     "output_type": "stream",
     "text": [
      "/home/sebastian/anaconda3/envs/WebProcessing-StandardisedGISAnalysesforCableRoutePlanning/lib/python3.10/site-packages/rasterstats/main.py:156: ShapelyDeprecationWarning: The 'type' attribute is deprecated, and will be removed in the future. You can use the 'geom_type' attribute instead.\n",
      "  if 'Point' in geom.type:\n"
     ]
    },
    {
     "data": {
      "text/plain": "{'Preferential': 19.595563054409382,\n 'No Restriction': 68.53326873924593,\n 'Restricted': 0.9772639949215683,\n 'Strongly Restricted': 0.7993518317435392,\n 'Prohibited': 10.094552379679591}"
     },
     "execution_count": 26,
     "metadata": {},
     "output_type": "execute_result"
    }
   ],
   "source": [
    "raster_10_f = open_rasterio(Path(r'./../results/weights/result_res_10_all_touched_False.tif')).rio.reproject_match(raster_5f)\n",
    "stats_10f_100 = zonal_stats(least_cost_path_10_false.buffer(buffer_dist_100),\n",
    "                            raster_10_f.data[0], affine=raster_10_f.rio.transform(), nodata=raster_10_f.rio.nodata,\n",
    "                            categorical=True, category_map=cmap)[0]\n",
    "\n",
    "stat_sum_10f_100 = np.sum(list(stats_10f_100.values()))\n",
    "rel_stats_10f_100 = {k: (v / stat_sum_10f_100 * 100.0) for k, v in stats_10f_100.items()}\n",
    "rel_stats_10f_100"
   ],
   "metadata": {
    "collapsed": false
   }
  },
  {
   "cell_type": "code",
   "execution_count": 27,
   "outputs": [
    {
     "name": "stderr",
     "output_type": "stream",
     "text": [
      "/home/sebastian/anaconda3/envs/WebProcessing-StandardisedGISAnalysesforCableRoutePlanning/lib/python3.10/site-packages/rasterstats/main.py:156: ShapelyDeprecationWarning: The 'type' attribute is deprecated, and will be removed in the future. You can use the 'geom_type' attribute instead.\n",
      "  if 'Point' in geom.type:\n"
     ]
    },
    {
     "data": {
      "text/plain": "{'Preferential': 33.54139715394567,\n 'No Restriction': 64.47930142302717,\n 'Restricted': 0.7309184993531695,\n 'Strongly Restricted': 0.3169469598965071,\n 'Prohibited': 0.9314359637774904}"
     },
     "execution_count": 27,
     "metadata": {},
     "output_type": "execute_result"
    }
   ],
   "source": [
    "stats_10f_5 = zonal_stats(least_cost_path_10_false.buffer(buffer_dist_5),\n",
    "                          raster_10_f.data[0], affine=raster_10_f.rio.transform(), nodata=raster_10_f.rio.nodata,\n",
    "                          categorical=True, category_map=cmap)[0]\n",
    "\n",
    "stat_sum_10f_5 = np.sum(list(stats_10f_5.values()))\n",
    "rel_stats_10f_5 = {k: (v / stat_sum_10f_5 * 100.0) for k, v in stats_10f_5.items()}\n",
    "rel_stats_10f_5"
   ],
   "metadata": {
    "collapsed": false
   }
  },
  {
   "cell_type": "code",
   "execution_count": 28,
   "outputs": [
    {
     "name": "stderr",
     "output_type": "stream",
     "text": [
      "/home/sebastian/anaconda3/envs/WebProcessing-StandardisedGISAnalysesforCableRoutePlanning/lib/python3.10/site-packages/rasterstats/main.py:156: ShapelyDeprecationWarning: The 'type' attribute is deprecated, and will be removed in the future. You can use the 'geom_type' attribute instead.\n",
      "  if 'Point' in geom.type:\n"
     ]
    },
    {
     "data": {
      "text/plain": "{'Preferential': 18.921619271395883,\n 'No Restriction': 66.60880238754925,\n 'Restricted': 1.6271089829435321,\n 'Strongly Restricted': 1.3743306069110028,\n 'Prohibited': 11.468138751200332}"
     },
     "execution_count": 28,
     "metadata": {},
     "output_type": "execute_result"
    }
   ],
   "source": [
    "raster_10_t = open_rasterio(Path(r'./../results/weights/result_res_10_all_touched_True.tif')).rio.reproject_match(raster_5t)\n",
    "stats_10t_100 = zonal_stats(least_cost_path_10_true.buffer(buffer_dist_100),\n",
    "                            raster_10_t.data[0], affine=raster_10_t.rio.transform(), nodata=raster_10_t.rio.nodata,\n",
    "                            categorical=True, category_map=cmap)[0]\n",
    "\n",
    "stat_sum_10t_100 = np.sum(list(stats_10t_100.values()))\n",
    "rel_stats_10t_100 = {k: (v / stat_sum_10t_100 * 100.0) for k, v in stats_10t_100.items()}\n",
    "rel_stats_10t_100"
   ],
   "metadata": {
    "collapsed": false
   }
  },
  {
   "cell_type": "code",
   "execution_count": 29,
   "outputs": [
    {
     "name": "stderr",
     "output_type": "stream",
     "text": [
      "/home/sebastian/anaconda3/envs/WebProcessing-StandardisedGISAnalysesforCableRoutePlanning/lib/python3.10/site-packages/rasterstats/main.py:156: ShapelyDeprecationWarning: The 'type' attribute is deprecated, and will be removed in the future. You can use the 'geom_type' attribute instead.\n",
      "  if 'Point' in geom.type:\n"
     ]
    },
    {
     "data": {
      "text/plain": "{'Preferential': 33.6669071744518,\n 'No Restriction': 63.399943532954794,\n 'Restricted': 1.3771684913887756,\n 'Strongly Restricted': 0.5803557423847915,\n 'Prohibited': 0.9756250588198387}"
     },
     "execution_count": 29,
     "metadata": {},
     "output_type": "execute_result"
    }
   ],
   "source": [
    "stats_10t_5 = zonal_stats(least_cost_path_10_true.buffer(buffer_dist_5),\n",
    "                            raster_10_t.data[0], affine=raster_10_t.rio.transform(), nodata=raster_10_t.rio.nodata,\n",
    "                            categorical=True, category_map=cmap)[0]\n",
    "\n",
    "stat_sum_10t_5 = np.sum(list(stats_10t_5.values()))\n",
    "rel_stats_10t_5 = {k: (v / stat_sum_10t_5 * 100.0) for k, v in stats_10t_5.items()}\n",
    "rel_stats_10t_5"
   ],
   "metadata": {
    "collapsed": false
   }
  },
  {
   "cell_type": "markdown",
   "source": [
    "# 50 m resolution\n",
    "## Distances"
   ],
   "metadata": {
    "collapsed": false
   }
  },
  {
   "cell_type": "code",
   "execution_count": 30,
   "outputs": [
    {
     "data": {
      "text/plain": "(76135.0213422174, 70619.94558270913)"
     },
     "execution_count": 30,
     "metadata": {},
     "output_type": "execute_result"
    }
   ],
   "source": [
    "least_cost_path_50_false = read_file(\"../results/least_cost_paths/least_cost_path_test_points_res_50_al_false.gpkg\")\n",
    "least_cost_path_50_true = read_file(\"../results/least_cost_paths/least_cost_path_test_points_res_50_al_true.gpkg\")\n",
    "least_cost_path_50_false.geometry.values[0].length, least_cost_path_50_true.geometry.values[0].length"
   ],
   "metadata": {
    "collapsed": false
   }
  },
  {
   "cell_type": "code",
   "execution_count": 31,
   "outputs": [
    {
     "data": {
      "text/plain": "1140.0069288754526"
     },
     "execution_count": 31,
     "metadata": {},
     "output_type": "execute_result"
    }
   ],
   "source": [
    "distances_50  =  np.array([Point(p).distance(least_cost_path_50_true.geometry.values[0]) for p in least_cost_path_50_false.geometry.values[0].coords])\n",
    "mean_min_distances_50 =  np.mean(distances_50)\n",
    "mean_min_distances_50"
   ],
   "metadata": {
    "collapsed": false
   }
  },
  {
   "cell_type": "markdown",
   "source": [
    "## costs"
   ],
   "metadata": {
    "collapsed": false
   }
  },
  {
   "cell_type": "code",
   "execution_count": 32,
   "outputs": [
    {
     "data": {
      "text/plain": "(1409.023, 2300.073)"
     },
     "execution_count": 32,
     "metadata": {},
     "output_type": "execute_result"
    }
   ],
   "source": [
    "least_cost_path_50_false['total cost'][0], least_cost_path_50_true['total cost'][0]"
   ],
   "metadata": {
    "collapsed": false
   }
  },
  {
   "cell_type": "code",
   "execution_count": 33,
   "outputs": [
    {
     "data": {
      "text/plain": "(70451.15, 115003.65)"
     },
     "execution_count": 33,
     "metadata": {},
     "output_type": "execute_result"
    }
   ],
   "source": [
    "least_cost_path_50_false['total cost'][0]*50, least_cost_path_50_true['total cost'][0]*50"
   ],
   "metadata": {
    "collapsed": false
   }
  },
  {
   "cell_type": "code",
   "execution_count": 34,
   "outputs": [
    {
     "data": {
      "text/plain": "-44552.5"
     },
     "execution_count": 34,
     "metadata": {},
     "output_type": "execute_result"
    }
   ],
   "source": [
    "least_cost_path_50_false['total cost'][0]*50 - least_cost_path_50_true['total cost'][0]*50"
   ],
   "metadata": {
    "collapsed": false
   }
  },
  {
   "cell_type": "code",
   "execution_count": 36,
   "outputs": [
    {
     "data": {
      "text/plain": "0    76135.021342\ndtype: float64"
     },
     "execution_count": 36,
     "metadata": {},
     "output_type": "execute_result"
    }
   ],
   "source": [
    "least_cost_path_50_false.geometry.length"
   ],
   "metadata": {
    "collapsed": false
   }
  },
  {
   "cell_type": "code",
   "execution_count": 38,
   "outputs": [
    {
     "data": {
      "text/plain": "0   -0.607169\ndtype: float64"
     },
     "execution_count": 38,
     "metadata": {},
     "output_type": "execute_result"
    }
   ],
   "source": [
    "(least_cost_path_50_false['total cost'][0]*50 - least_cost_path_50_true['total cost'][0]*50) / ((least_cost_path_50_false.geometry.length + least_cost_path_50_true.geometry.length)/2)"
   ],
   "metadata": {
    "collapsed": false
   }
  },
  {
   "cell_type": "code",
   "execution_count": null,
   "outputs": [],
   "source": [
    "least_cost_path_50_false['total cost'][0] - least_cost_path_50_true['total cost'][0]"
   ],
   "metadata": {
    "collapsed": false
   }
  },
  {
   "cell_type": "markdown",
   "source": [
    "## Zonal stat"
   ],
   "metadata": {
    "collapsed": false
   }
  },
  {
   "cell_type": "code",
   "execution_count": null,
   "outputs": [],
   "source": [
    "raster_50f = open_rasterio(Path(r'./../results/weights/result_res_50_all_touched_False.tif')).rio.reproject_match(raster_5f)\n",
    "stats_50f_100 = zonal_stats(least_cost_path_50_false.buffer(buffer_dist_100),\n",
    "                    raster_50f.data[0], nodata=raster_50f.rio.nodata, affine = raster_50f.rio.transform(),\n",
    "                    categorical=True, category_map=cmap)[0]\n",
    "\n",
    "stat_sum_50f_100 = np.sum(list(stats_50f_100.values()))\n",
    "rel_stats_50f_100 = {k: (v / stat_sum_50f_100 * 100.0) for k, v in stats_50f_100.items()}\n",
    "rel_stats_50f_100"
   ],
   "metadata": {
    "collapsed": false
   }
  },
  {
   "cell_type": "code",
   "execution_count": null,
   "outputs": [],
   "source": [
    "stats_50f_5 = zonal_stats(least_cost_path_50_false.buffer(buffer_dist_5),\n",
    "                    raster_50f.data[0], nodata=raster_50f.rio.nodata, affine = raster_50f.rio.transform(),\n",
    "                    categorical=True, category_map=cmap)[0]\n",
    "\n",
    "stat_sum_50f_5 = np.sum(list(stats_50f_5.values()))\n",
    "rel_stats_50f_5 = {k: (v / stat_sum_50f_5 * 100.0) for k, v in stats_50f_5.items()}\n",
    "rel_stats_50f_5"
   ],
   "metadata": {
    "collapsed": false
   }
  },
  {
   "cell_type": "code",
   "execution_count": null,
   "outputs": [],
   "source": [
    "raster_50t = open_rasterio(Path(r'./../results/weights/result_res_50_all_touched_True.tif')).rio.reproject_match(raster_5t)\n",
    "stats_50t_100 = zonal_stats(least_cost_path_50_true.buffer(buffer_dist_100),\n",
    "                    raster_50t.data[0], affine=raster_50f.rio.transform(), nodata=raster_50t.rio.nodata,\n",
    "                    categorical=True, category_map=cmap)[0]\n",
    "\n",
    "stat_sum_50t_100 = np.sum(list(stats_50t_100.values()))\n",
    "rel_stats_50t_100 = {k: (v / stat_sum_50t_100 * 100.0) for k, v in stats_50t_100.items()}\n",
    "rel_stats_50t_100"
   ],
   "metadata": {
    "collapsed": false
   }
  },
  {
   "cell_type": "code",
   "execution_count": null,
   "outputs": [],
   "source": [
    "stats_50t_5 = zonal_stats(least_cost_path_50_true.buffer(buffer_dist_5),\n",
    "                    raster_50t.data[0], affine=raster_50f.rio.transform(), nodata=raster_50t.rio.nodata,\n",
    "                    categorical=True, category_map=cmap)[0]\n",
    "\n",
    "stat_sum_50t_5 = np.sum(list(stats_50t_5.values()))\n",
    "rel_stats_50t_5 = {k: (v / stat_sum_50t_5 * 100.0) for k, v in stats_50t_5.items()}\n",
    "rel_stats_50t_5"
   ],
   "metadata": {
    "collapsed": false
   }
  },
  {
   "cell_type": "markdown",
   "source": [
    "# 100 m resolution\n",
    "## Distances"
   ],
   "metadata": {
    "collapsed": false
   }
  },
  {
   "cell_type": "code",
   "execution_count": 45,
   "outputs": [
    {
     "data": {
      "text/plain": "(76283.80711525407, 74120.73210305478)"
     },
     "execution_count": 45,
     "metadata": {},
     "output_type": "execute_result"
    }
   ],
   "source": [
    "least_cost_path_100_false = read_file(\"../results/least_cost_paths/least_cost_path_test_points_res_100_al_false.gpkg\")\n",
    "least_cost_path_100_true = read_file(\"../results/least_cost_paths/least_cost_path_test_points_res_100_al_true.gpkg\")\n",
    "least_cost_path_100_false.geometry.values[0].length, least_cost_path_100_true.geometry.values[0].length"
   ],
   "metadata": {
    "collapsed": false
   }
  },
  {
   "cell_type": "code",
   "execution_count": 46,
   "outputs": [
    {
     "data": {
      "text/plain": "1946.410723103447"
     },
     "execution_count": 46,
     "metadata": {},
     "output_type": "execute_result"
    }
   ],
   "source": [
    "distances_100  =  np.array([Point(p).distance(least_cost_path_100_true.geometry.values[0]) for p in least_cost_path_100_false.geometry.values[0].coords])\n",
    "mean_min_distances_100 =  np.mean(distances_100)\n",
    "mean_min_distances_100"
   ],
   "metadata": {
    "collapsed": false
   }
  },
  {
   "cell_type": "markdown",
   "source": [
    "## costs"
   ],
   "metadata": {
    "collapsed": false
   }
  },
  {
   "cell_type": "code",
   "execution_count": 47,
   "outputs": [
    {
     "data": {
      "text/plain": "(640.516, 1572.268)"
     },
     "execution_count": 47,
     "metadata": {},
     "output_type": "execute_result"
    }
   ],
   "source": [
    "least_cost_path_100_false['total cost'][0], least_cost_path_100_true['total cost'][0]"
   ],
   "metadata": {
    "collapsed": false
   }
  },
  {
   "cell_type": "code",
   "execution_count": 48,
   "outputs": [
    {
     "data": {
      "text/plain": "(64051.6, 157226.8)"
     },
     "execution_count": 48,
     "metadata": {},
     "output_type": "execute_result"
    }
   ],
   "source": [
    "least_cost_path_100_false['total cost'][0]*100, least_cost_path_100_true['total cost'][0]*100"
   ],
   "metadata": {
    "collapsed": false
   }
  },
  {
   "cell_type": "code",
   "execution_count": 49,
   "outputs": [
    {
     "data": {
      "text/plain": "-93175.19999999998"
     },
     "execution_count": 49,
     "metadata": {},
     "output_type": "execute_result"
    }
   ],
   "source": [
    "least_cost_path_100_false['total cost'][0]*100 - least_cost_path_100_true['total cost'][0]*100"
   ],
   "metadata": {
    "collapsed": false
   }
  },
  {
   "cell_type": "code",
   "execution_count": 50,
   "outputs": [
    {
     "data": {
      "text/plain": "0   -3.308806\ndtype: float64"
     },
     "execution_count": 50,
     "metadata": {},
     "output_type": "execute_result"
    }
   ],
   "source": [
    "(least_cost_path_100_false['total cost'][0]*100 - least_cost_path_100_true['total cost'][0]*199) / ((least_cost_path_100_false.geometry.length + least_cost_path_100_true.geometry.length)/2)"
   ],
   "metadata": {
    "collapsed": false
   }
  },
  {
   "cell_type": "code",
   "execution_count": 51,
   "outputs": [
    {
     "data": {
      "text/plain": "-931.7520000000001"
     },
     "execution_count": 51,
     "metadata": {},
     "output_type": "execute_result"
    }
   ],
   "source": [
    "least_cost_path_100_false['total cost'][0] - least_cost_path_100_true['total cost'][0]"
   ],
   "metadata": {
    "collapsed": false
   }
  },
  {
   "cell_type": "markdown",
   "source": [
    "## Zonal Stat"
   ],
   "metadata": {
    "collapsed": false
   }
  },
  {
   "cell_type": "code",
   "execution_count": null,
   "outputs": [],
   "source": [
    "raster_100f = open_rasterio('./../results/weights/result_res_100_all_touched_False.tif').rio.reproject_match(raster_50f)\n",
    "stats_100f_100 = zonal_stats(least_cost_path_100_false.buffer(buffer_dist_100), raster_100f.data[0],\n",
    "                    affine=raster_100f.rio.transform(), nodata=raster_100f.rio.nodata,\n",
    "                    categorical=True, category_map=cmap)[0]\n",
    "\n",
    "stat_sum_100f_100 = np.sum(list(stats_100f_100.values()))\n",
    "rel_stats_100f_100 = {k: (v / stat_sum_100f_100 * 100.0) for k, v in stats_100f_100.items()}\n",
    "rel_stats_100f_100"
   ],
   "metadata": {
    "collapsed": false
   }
  },
  {
   "cell_type": "code",
   "execution_count": null,
   "outputs": [],
   "source": [
    "stats_100f_5 = zonal_stats(least_cost_path_100_false.buffer(buffer_dist_5), raster_100f.data[0],\n",
    "                    affine=raster_100f.rio.transform(), nodata=raster_100f.rio.nodata,\n",
    "                    categorical=True, category_map=cmap)[0]\n",
    "\n",
    "stat_sum_100f_5 = np.sum(list(stats_100f_5.values()))\n",
    "rel_stats_100f_5 = {k: (v / stat_sum_100f_5 * 100.0) for k, v in stats_100f_5.items()}\n",
    "rel_stats_100f_5"
   ],
   "metadata": {
    "collapsed": false
   }
  },
  {
   "cell_type": "code",
   "execution_count": null,
   "outputs": [],
   "source": [
    "raster_100t = open_rasterio(r'./../results/weights/result_res_100_all_touched_True.tif').rio.reproject_match(raster_5t)\n",
    "stats_100t_100 = zonal_stats(least_cost_path_100_true.buffer(buffer_dist_100), raster_100t.data[0],\n",
    "                    affine=raster_100t.rio.transform(), nodata=raster_100t.rio.nodata,\n",
    "                    categorical=True, category_map=cmap)[0]\n",
    "\n",
    "stat_sum_100t_100 = np.sum(list(stats_100t_100.values()))\n",
    "rel_stats_100t_100 = {k: (v / stat_sum_100t_100 * 100.0) for k, v in stats_100t_100.items()}\n",
    "rel_stats_100t_100"
   ],
   "metadata": {
    "collapsed": false
   }
  },
  {
   "cell_type": "code",
   "execution_count": null,
   "outputs": [],
   "source": [
    "stats_100t_5 = zonal_stats(least_cost_path_100_true.buffer(buffer_dist_5), raster_100t.data[0],\n",
    "                    affine=raster_100t.rio.transform(), nodata=raster_100t.rio.nodata,\n",
    "                    categorical=True, category_map=cmap)[0]\n",
    "\n",
    "stat_sum_100t_5 = np.sum(list(stats_100t_5.values()))\n",
    "rel_stats_100t_5 = {k: (v / stat_sum_100t_5 * 100.0) for k, v in stats_100t_5.items()}\n",
    "rel_stats_100t_5"
   ],
   "metadata": {
    "collapsed": false
   }
  },
  {
   "cell_type": "markdown",
   "source": [
    "# Distances all touched False"
   ],
   "metadata": {
    "collapsed": false
   }
  },
  {
   "cell_type": "code",
   "execution_count": null,
   "outputs": [],
   "source": [
    "distances_false  =  np.array([Point(p).distance(least_cost_path_100_false.geometry.values[0]) for p in least_cost_path_5_false.geometry.values[0].coords])\n",
    "mean_min_distances_false =  np.mean(distances_false)\n",
    "mean_min_distances_false"
   ],
   "metadata": {
    "collapsed": false
   }
  },
  {
   "cell_type": "markdown",
   "source": [
    "# Distances all touched True\n"
   ],
   "metadata": {
    "collapsed": false
   }
  },
  {
   "cell_type": "code",
   "execution_count": null,
   "outputs": [],
   "source": [
    "distances_true  =  np.array([Point(p).distance(least_cost_path_100_true.geometry.values[0]) for p in least_cost_path_5_true.geometry.values[0].coords])\n",
    "mean_min_distances_true =  np.mean(distances_true)\n",
    "mean_min_distances_true"
   ],
   "metadata": {
    "collapsed": false
   }
  },
  {
   "cell_type": "code",
   "execution_count": null,
   "outputs": [],
   "source": [],
   "metadata": {
    "collapsed": false
   }
  }
 ],
 "metadata": {
  "kernelspec": {
   "display_name": "Python 3",
   "language": "python",
   "name": "python3"
  },
  "language_info": {
   "codemirror_mode": {
    "name": "ipython",
    "version": 2
   },
   "file_extension": ".py",
   "mimetype": "text/x-python",
   "name": "python",
   "nbconvert_exporter": "python",
   "pygments_lexer": "ipython2",
   "version": "2.7.6"
  }
 },
 "nbformat": 4,
 "nbformat_minor": 0
}
