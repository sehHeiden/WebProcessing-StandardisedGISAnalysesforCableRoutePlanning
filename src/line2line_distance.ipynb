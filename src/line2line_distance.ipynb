{
 "cells": [
  {
   "cell_type": "markdown",
   "source": [
    "# measure the average minimum distance between two lines, or the zonal stats around each line's buffer"
   ],
   "metadata": {
    "collapsed": false
   }
  },
  {
   "cell_type": "code",
   "execution_count": 3,
   "outputs": [],
   "source": [
    "from geopandas import read_file, GeoSeries, GeoDataFrame\n",
    "from shapely.geometry import Point\n",
    "from functools import reduce\n",
    "import numpy as np\n",
    "from rioxarray import open_rasterio\n",
    "from rasterstats import zonal_stats\n",
    "from operator import mul\n",
    "from pathlib import Path\n",
    "from xarray import DataArray\n",
    "from pandas import DataFrame\n",
    "from shapely.geometry import LineString, Polygon\n",
    "from shapely.validation import make_valid\n",
    "\n",
    "from src.rules2weights import write_compressed"
   ],
   "metadata": {
    "collapsed": false
   }
  },
  {
   "cell_type": "markdown",
   "source": [
    "# 5 m resolution\n",
    "## distances"
   ],
   "metadata": {
    "collapsed": false
   }
  },
  {
   "cell_type": "markdown",
   "source": [],
   "metadata": {
    "collapsed": false
   }
  },
  {
   "cell_type": "code",
   "execution_count": 6,
   "outputs": [],
   "source": [
    "def compute_line_distances(line1: LineString, line2: LineString) -> list:\n",
    "    return [Point(p).distance(line2) for p in line1.coords]"
   ],
   "metadata": {
    "collapsed": false
   }
  },
  {
   "cell_type": "code",
   "execution_count": 48,
   "outputs": [],
   "source": [
    "least_cost_path_5_false = read_file(\"./../results/least_cost_paths/least_cost_path_test_points_res_5_al_false.json\")\n",
    "least_cost_path_5_false = least_cost_path_5_false.to_crs(25832)\n",
    "least_cost_path_5_true = read_file(\"./../results/least_cost_paths/least_cost_path_test_points_res_5_al_true.gpkg\")"
   ],
   "metadata": {
    "collapsed": false
   }
  },
  {
   "cell_type": "code",
   "execution_count": 49,
   "outputs": [
    {
     "data": {
      "text/plain": "(76136.34083614746, 78002.0066579491)"
     },
     "execution_count": 49,
     "metadata": {},
     "output_type": "execute_result"
    }
   ],
   "source": [
    "least_cost_path_5_false.geometry.values[0].length, least_cost_path_5_true.geometry.values[0].length"
   ],
   "metadata": {
    "collapsed": false
   }
  },
  {
   "cell_type": "code",
   "execution_count": 50,
   "outputs": [],
   "source": [
    "distances_5  = compute_line_distances(least_cost_path_5_false.geometry.values[0], least_cost_path_5_true.geometry.values[0])"
   ],
   "metadata": {
    "collapsed": false
   }
  },
  {
   "cell_type": "code",
   "execution_count": 51,
   "outputs": [
    {
     "data": {
      "text/plain": "126.04147538653905"
     },
     "execution_count": 51,
     "metadata": {},
     "output_type": "execute_result"
    }
   ],
   "source": [
    "mean_min_distances_5 =  np.mean(distances_5)\n",
    "mean_min_distances_5"
   ],
   "metadata": {
    "collapsed": false
   }
  },
  {
   "cell_type": "code",
   "execution_count": 52,
   "outputs": [
    {
     "data": {
      "text/plain": "1065.0048701083288"
     },
     "execution_count": 52,
     "metadata": {},
     "output_type": "execute_result"
    }
   ],
   "source": [
    "max_min_distances_5 =  np.max(distances_5)\n",
    "max_min_distances_5"
   ],
   "metadata": {
    "collapsed": false
   }
  },
  {
   "cell_type": "markdown",
   "source": [
    "## costs"
   ],
   "metadata": {
    "collapsed": false
   }
  },
  {
   "cell_type": "code",
   "execution_count": 19,
   "outputs": [
    {
     "data": {
      "text/plain": "(18665.923, 19516.754)"
     },
     "execution_count": 19,
     "metadata": {},
     "output_type": "execute_result"
    }
   ],
   "source": [
    "least_cost_path_5_false['total cost'][0], least_cost_path_5_true['total cost'][0]"
   ],
   "metadata": {
    "collapsed": false
   }
  },
  {
   "cell_type": "code",
   "execution_count": 20,
   "outputs": [
    {
     "data": {
      "text/plain": "(93329.61499999999, 97583.77)"
     },
     "execution_count": 20,
     "metadata": {},
     "output_type": "execute_result"
    }
   ],
   "source": [
    "least_cost_path_5_false['total cost'][0]*5, least_cost_path_5_true['total cost'][0]*5"
   ],
   "metadata": {
    "collapsed": false
   }
  },
  {
   "cell_type": "code",
   "execution_count": 21,
   "outputs": [
    {
     "data": {
      "text/plain": "-4254.155000000013"
     },
     "execution_count": 21,
     "metadata": {},
     "output_type": "execute_result"
    }
   ],
   "source": [
    "least_cost_path_5_false['total cost'][0]*5 - least_cost_path_5_true['total cost'][0]*5"
   ],
   "metadata": {
    "collapsed": false
   }
  },
  {
   "cell_type": "code",
   "execution_count": 22,
   "outputs": [
    {
     "data": {
      "text/plain": "(59873.38154014804, 78002.0066579491)"
     },
     "execution_count": 22,
     "metadata": {},
     "output_type": "execute_result"
    }
   ],
   "source": [
    "least_cost_path_5_false.geometry.length[0], least_cost_path_5_true.geometry.length[0]"
   ],
   "metadata": {
    "collapsed": false
   }
  },
  {
   "cell_type": "code",
   "execution_count": 23,
   "outputs": [
    {
     "data": {
      "text/plain": "0   -0.06171\ndtype: float64"
     },
     "execution_count": 23,
     "metadata": {},
     "output_type": "execute_result"
    }
   ],
   "source": [
    "(least_cost_path_5_false['total cost'][0]*5 - least_cost_path_5_true['total cost'][0]*5) / ((least_cost_path_5_false.geometry.length + least_cost_path_5_true.geometry.length)/2)"
   ],
   "metadata": {
    "collapsed": false
   }
  },
  {
   "cell_type": "code",
   "execution_count": 24,
   "outputs": [
    {
     "data": {
      "text/plain": "-850.831000000002"
     },
     "execution_count": 24,
     "metadata": {},
     "output_type": "execute_result"
    }
   ],
   "source": [
    "least_cost_path_5_false['total cost'][0] - least_cost_path_5_true['total cost'][0]"
   ],
   "metadata": {
    "collapsed": false
   }
  },
  {
   "cell_type": "markdown",
   "source": [
    "## zonal stats"
   ],
   "metadata": {
    "collapsed": false
   }
  },
  {
   "cell_type": "code",
   "execution_count": 40,
   "outputs": [],
   "source": [
    "def compute_zonal_stat_path(base_raster: DataArray, path: GeoSeries, buffer: float, cmap):\n",
    "    stats = zonal_stats(path.buffer(buffer), base_raster.data[0],\n",
    "                        affine= base_raster.rio.transform(), nodata=base_raster.rio.nodata,\n",
    "                        categorical=True, category_map=cmap)[0]\n",
    "\n",
    "    stat_sum = np.sum(list(stats.values()))\n",
    "    rel_stats = {k: (v / stat_sum * 100.0) for k, v in stats.items()}\n",
    "    return rel_stats"
   ],
   "metadata": {
    "collapsed": false
   }
  },
  {
   "cell_type": "code",
   "execution_count": 41,
   "outputs": [
    {
     "data": {
      "text/plain": "{'Preferential': 4.700294041698944,\n 'No Restriction': 58.703592639794756,\n 'Restricted': 8.782100940433649,\n 'Strongly Restricted': 0.7344795128736954,\n 'Prohibited': 27.079532865198956}"
     },
     "execution_count": 41,
     "metadata": {},
     "output_type": "execute_result"
    }
   ],
   "source": [
    "buffer_dist_100 = 100\n",
    "raster_5f = open_rasterio(Path(r'./../results/weights/result_res_5_all_touched_False.tif'))\n",
    "cmap = {0.1: 'Preferential', 0.5: 'No Restriction', 5.0: 'Restricted', 10.0: 'Strongly Restricted', 500: 'Prohibited'}\n",
    "\n",
    "rel_stats_5f_100 = compute_zonal_stat_path(raster_5f, least_cost_path_5_false, buffer_dist_100, cmap)\n",
    "rel_stats_5f_100"
   ],
   "metadata": {
    "collapsed": false
   }
  },
  {
   "cell_type": "code",
   "execution_count": 44,
   "outputs": [
    {
     "data": {
      "text/plain": "{'Preferential': 5.394346791365705,\n 'No Restriction': 58.85766773829902,\n 'Restricted': 8.35873241200785,\n 'Strongly Restricted': 0.6847313264581855,\n 'Prohibited': 26.704521731869235}"
     },
     "execution_count": 44,
     "metadata": {},
     "output_type": "execute_result"
    }
   ],
   "source": [
    "buffer_dist_5 = 5\n",
    "\n",
    "rel_stats_5f_5 = compute_zonal_stat_path(raster_5f, least_cost_path_5_false, buffer_dist_5, cmap)\n",
    "rel_stats_5f_5"
   ],
   "metadata": {
    "collapsed": false
   }
  },
  {
   "cell_type": "code",
   "execution_count": 46,
   "outputs": [
    {
     "data": {
      "text/plain": "{'Preferential': 18.89687706997108,\n 'No Restriction': 67.30923954311194,\n 'Restricted': 1.291177278381828,\n 'Strongly Restricted': 0.9866390939787065,\n 'Prohibited': 11.51606701455644}"
     },
     "execution_count": 46,
     "metadata": {},
     "output_type": "execute_result"
    }
   ],
   "source": [
    "raster_5t = open_rasterio(Path(r'./../results/weights/result_res_5_all_touched_True.tif'))\n",
    "\n",
    "rel_stats_5t_100 = compute_zonal_stat_path(raster_5t, least_cost_path_5_true, buffer_dist_100, cmap)\n",
    "rel_stats_5t_100"
   ],
   "metadata": {
    "collapsed": false
   }
  },
  {
   "cell_type": "code",
   "execution_count": 48,
   "outputs": [
    {
     "data": {
      "text/plain": "{'Preferential': 28.469760979897362,\n 'No Restriction': 66.44078369106013,\n 'Restricted': 1.6189855113555813,\n 'Strongly Restricted': 0.4961864526921659,\n 'Prohibited': 2.9742833649947547}"
     },
     "execution_count": 48,
     "metadata": {},
     "output_type": "execute_result"
    }
   ],
   "source": [
    "raster_5t = open_rasterio(Path(r'./../results/weights/result_res_5_all_touched_True.tif'))\n",
    "\n",
    "rel_stats_5t_5 = compute_zonal_stat_path(raster_5t, least_cost_path_5_true, buffer_dist_5, cmap)\n",
    "rel_stats_5t_5"
   ],
   "metadata": {
    "collapsed": false
   }
  },
  {
   "cell_type": "markdown",
   "source": [
    "## lines -> buffered Polygon"
   ],
   "metadata": {
    "collapsed": false
   }
  },
  {
   "cell_type": "code",
   "execution_count": 77,
   "outputs": [],
   "source": [
    "def create_buffer_polygon(line1: LineString, line2: LineString, crs, buffer) -> GeoDataFrame:\n",
    "    x = list(line1.xy[0])\n",
    "    y = list(line1.xy[1])\n",
    "\n",
    "    x.extend(list(reversed(line2.xy[0])))\n",
    "    y.extend(list(reversed(line2.xy[1])))\n",
    "\n",
    "    poly = make_valid(Polygon(zip(x, y))).buffer(buffer)\n",
    "\n",
    "    return GeoDataFrame({'buffer': [buffer, ], 'geometry': [poly, ]}, crs=crs)"
   ],
   "metadata": {
    "collapsed": false
   }
  },
  {
   "cell_type": "code",
   "execution_count": 84,
   "outputs": [],
   "source": [
    "create_buffer_polygon(least_cost_path_5_false.geometry.values[0], least_cost_path_5_true.geometry.values[0], 25832, 2*max_min_distances_5).to_file(\"./../results/Buffer_Polygons/least_cost_path_res_5_buffer.gpkg\")"
   ],
   "metadata": {
    "collapsed": false
   }
  },
  {
   "cell_type": "markdown",
   "source": [
    "# 10 m resolution\n",
    "## distances"
   ],
   "metadata": {
    "collapsed": false
   }
  },
  {
   "cell_type": "code",
   "execution_count": 10,
   "outputs": [
    {
     "data": {
      "text/plain": "(75430.10086958889, 77936.56874848259)"
     },
     "execution_count": 10,
     "metadata": {},
     "output_type": "execute_result"
    }
   ],
   "source": [
    "least_cost_path_10_false = read_file(\"../results/least_cost_paths/least_cost_path_test_points_res_10_al_false.gpkg\")\n",
    "least_cost_path_10_true = read_file(\"../results/least_cost_paths/least_cost_path_test_points_res_10_al_true.gpkg\")\n",
    "least_cost_path_10_false.geometry.values[0].length, least_cost_path_10_true.geometry.values[0].length"
   ],
   "metadata": {
    "collapsed": false
   }
  },
  {
   "cell_type": "code",
   "execution_count": 11,
   "outputs": [
    {
     "data": {
      "text/plain": "277.921414632231"
     },
     "execution_count": 11,
     "metadata": {},
     "output_type": "execute_result"
    }
   ],
   "source": [
    "distances_10  =  compute_line_distances(least_cost_path_10_false.geometry.values[0], least_cost_path_10_true.geometry.values[0])\n",
    "mean_min_distances_10 =  np.mean(distances_10)\n",
    "mean_min_distances_10"
   ],
   "metadata": {
    "collapsed": false
   }
  },
  {
   "cell_type": "code",
   "execution_count": 12,
   "outputs": [
    {
     "data": {
      "text/plain": "1590.0"
     },
     "execution_count": 12,
     "metadata": {},
     "output_type": "execute_result"
    }
   ],
   "source": [
    "max_min_distances_10 =  np.max(distances_10)\n",
    "max_min_distances_10"
   ],
   "metadata": {
    "collapsed": false
   }
  },
  {
   "cell_type": "markdown",
   "source": [
    "## costs"
   ],
   "metadata": {
    "collapsed": false
   }
  },
  {
   "cell_type": "code",
   "execution_count": 52,
   "outputs": [
    {
     "data": {
      "text/plain": "(8931.245, 9731.175)"
     },
     "execution_count": 52,
     "metadata": {},
     "output_type": "execute_result"
    }
   ],
   "source": [
    "least_cost_path_10_false['total cost'][0], least_cost_path_10_true['total cost'][0]"
   ],
   "metadata": {
    "collapsed": false
   }
  },
  {
   "cell_type": "code",
   "execution_count": 53,
   "outputs": [
    {
     "data": {
      "text/plain": "(89312.45000000001, 97311.75)"
     },
     "execution_count": 53,
     "metadata": {},
     "output_type": "execute_result"
    }
   ],
   "source": [
    "least_cost_path_10_false['total cost'][0]*10, least_cost_path_10_true['total cost'][0]*10"
   ],
   "metadata": {
    "collapsed": false
   }
  },
  {
   "cell_type": "code",
   "execution_count": 54,
   "outputs": [
    {
     "data": {
      "text/plain": "-7999.299999999988"
     },
     "execution_count": 54,
     "metadata": {},
     "output_type": "execute_result"
    }
   ],
   "source": [
    "least_cost_path_10_false['total cost'][0]*10 - least_cost_path_10_true['total cost'][0]*10"
   ],
   "metadata": {
    "collapsed": false
   }
  },
  {
   "cell_type": "code",
   "execution_count": 55,
   "outputs": [
    {
     "data": {
      "text/plain": "0    75430.10087\ndtype: float64"
     },
     "execution_count": 55,
     "metadata": {},
     "output_type": "execute_result"
    }
   ],
   "source": [
    "least_cost_path_10_false.geometry.length"
   ],
   "metadata": {
    "collapsed": false
   }
  },
  {
   "cell_type": "code",
   "execution_count": 56,
   "outputs": [
    {
     "data": {
      "text/plain": "0   -0.104316\ndtype: float64"
     },
     "execution_count": 56,
     "metadata": {},
     "output_type": "execute_result"
    }
   ],
   "source": [
    "(least_cost_path_10_false['total cost'][0]*10 - least_cost_path_10_true['total cost'][0]*10) / ((least_cost_path_10_false.geometry.length + least_cost_path_10_true.geometry.length)/2)"
   ],
   "metadata": {
    "collapsed": false
   }
  },
  {
   "cell_type": "code",
   "execution_count": 57,
   "outputs": [
    {
     "data": {
      "text/plain": "-799.9299999999985"
     },
     "execution_count": 57,
     "metadata": {},
     "output_type": "execute_result"
    }
   ],
   "source": [
    "least_cost_path_10_false['total cost'][0] - least_cost_path_10_true['total cost'][0]"
   ],
   "metadata": {
    "collapsed": false
   }
  },
  {
   "cell_type": "markdown",
   "source": [
    "## Zonal Stats"
   ],
   "metadata": {
    "collapsed": false
   }
  },
  {
   "cell_type": "code",
   "execution_count": 58,
   "outputs": [
    {
     "data": {
      "text/plain": "{'Preferential': 19.595563054409382,\n 'No Restriction': 68.53326873924593,\n 'Restricted': 0.9772639949215683,\n 'Strongly Restricted': 0.7993518317435392,\n 'Prohibited': 10.094552379679591}"
     },
     "execution_count": 58,
     "metadata": {},
     "output_type": "execute_result"
    }
   ],
   "source": [
    "raster_10_f = open_rasterio(Path(r'./../results/weights/result_res_10_all_touched_False.tif')).rio.reproject_match(raster_5f)\n",
    "\n",
    "rel_stats_10f_100 = compute_zonal_stat_path(raster_10_f, least_cost_path_10_false, buffer_dist_100, cmap)\n",
    "rel_stats_10f_100"
   ],
   "metadata": {
    "collapsed": false
   }
  },
  {
   "cell_type": "code",
   "execution_count": 60,
   "outputs": [
    {
     "data": {
      "text/plain": "{'Preferential': 33.54139715394567,\n 'No Restriction': 64.47930142302717,\n 'Restricted': 0.7309184993531695,\n 'Strongly Restricted': 0.3169469598965071,\n 'Prohibited': 0.9314359637774904}"
     },
     "execution_count": 60,
     "metadata": {},
     "output_type": "execute_result"
    }
   ],
   "source": [
    "rel_stats_10f_5 = compute_zonal_stat_path(raster_10_f, least_cost_path_10_false, buffer_dist_5, cmap)\n",
    "rel_stats_10f_5"
   ],
   "metadata": {
    "collapsed": false
   }
  },
  {
   "cell_type": "code",
   "execution_count": 62,
   "outputs": [
    {
     "data": {
      "text/plain": "{'Preferential': 18.921619271395883,\n 'No Restriction': 66.60880238754925,\n 'Restricted': 1.6271089829435321,\n 'Strongly Restricted': 1.3743306069110028,\n 'Prohibited': 11.468138751200332}"
     },
     "execution_count": 62,
     "metadata": {},
     "output_type": "execute_result"
    }
   ],
   "source": [
    "raster_10_t = open_rasterio(Path(r'./../results/weights/result_res_10_all_touched_True.tif')).rio.reproject_match(raster_5t)\n",
    "\n",
    "rel_stats_10t_100 = compute_zonal_stat_path(raster_10_t, least_cost_path_10_true, buffer_dist_100, cmap)\n",
    "rel_stats_10t_100"
   ],
   "metadata": {
    "collapsed": false
   }
  },
  {
   "cell_type": "code",
   "execution_count": 63,
   "outputs": [
    {
     "data": {
      "text/plain": "{'Preferential': 33.6669071744518,\n 'No Restriction': 63.399943532954794,\n 'Restricted': 1.3771684913887756,\n 'Strongly Restricted': 0.5803557423847915,\n 'Prohibited': 0.9756250588198387}"
     },
     "execution_count": 63,
     "metadata": {},
     "output_type": "execute_result"
    }
   ],
   "source": [
    "rel_stats_10t_5 = compute_zonal_stat_path(raster_10_t, least_cost_path_10_true, buffer_dist_5, cmap)\n",
    "rel_stats_10t_5"
   ],
   "metadata": {
    "collapsed": false
   }
  },
  {
   "cell_type": "markdown",
   "source": [
    "## lines -> buffered Polygons"
   ],
   "metadata": {
    "collapsed": false
   }
  },
  {
   "cell_type": "code",
   "execution_count": 85,
   "outputs": [],
   "source": [
    "create_buffer_polygon(least_cost_path_10_false.geometry.values[0], least_cost_path_10_true.geometry.values[0], 25832, 2*max_min_distances_10).to_file(\"./../results/Buffer_Polygons/least_cost_path_res_10_buffer.gpkg\")"
   ],
   "metadata": {
    "collapsed": false
   }
  },
  {
   "cell_type": "markdown",
   "source": [
    "# 25 m resolution\n",
    "## Distances"
   ],
   "metadata": {
    "collapsed": false
   }
  },
  {
   "cell_type": "code",
   "execution_count": 14,
   "outputs": [
    {
     "data": {
      "text/plain": "(75422.85413306313, 78422.8541330632)"
     },
     "execution_count": 14,
     "metadata": {},
     "output_type": "execute_result"
    }
   ],
   "source": [
    "least_cost_path_25_false = read_file(\"../results/least_cost_paths/least_cost_path_test_points_res_25_al_false.gpkg\")\n",
    "least_cost_path_25_true = read_file(\"../results/least_cost_paths/least_cost_path_test_points_res_25_al_true.gpkg\")\n",
    "least_cost_path_25_false.geometry.values[0].length, least_cost_path_25_true.geometry.values[0].length"
   ],
   "metadata": {
    "collapsed": false
   }
  },
  {
   "cell_type": "code",
   "execution_count": 15,
   "outputs": [
    {
     "data": {
      "text/plain": "313.75138750272674"
     },
     "execution_count": 15,
     "metadata": {},
     "output_type": "execute_result"
    }
   ],
   "source": [
    "distances_25  =  compute_line_distances(least_cost_path_25_false.geometry.values[0], least_cost_path_25_true.geometry.values[0])\n",
    "mean_min_distances_25 =  np.mean(distances_25)\n",
    "mean_min_distances_25"
   ],
   "metadata": {
    "collapsed": false
   }
  },
  {
   "cell_type": "code",
   "execution_count": 16,
   "outputs": [
    {
     "data": {
      "text/plain": "1621.1492836873476"
     },
     "execution_count": 16,
     "metadata": {},
     "output_type": "execute_result"
    }
   ],
   "source": [
    "max_min_distances_25 =  np.max(distances_25)\n",
    "max_min_distances_25"
   ],
   "metadata": {
    "collapsed": false
   }
  },
  {
   "cell_type": "markdown",
   "source": [
    "## Costs"
   ],
   "metadata": {
    "collapsed": false
   }
  },
  {
   "cell_type": "code",
   "execution_count": 66,
   "outputs": [
    {
     "data": {
      "text/plain": "(3354.869, 3872.656)"
     },
     "execution_count": 66,
     "metadata": {},
     "output_type": "execute_result"
    }
   ],
   "source": [
    "least_cost_path_25_false['total cost'][0], least_cost_path_25_true['total cost'][0]"
   ],
   "metadata": {
    "collapsed": false
   }
  },
  {
   "cell_type": "code",
   "execution_count": 67,
   "outputs": [
    {
     "data": {
      "text/plain": "(83871.725, 96816.4)"
     },
     "execution_count": 67,
     "metadata": {},
     "output_type": "execute_result"
    }
   ],
   "source": [
    "least_cost_path_25_false['total cost'][0]*25, least_cost_path_25_true['total cost'][0]*25"
   ],
   "metadata": {
    "collapsed": false
   }
  },
  {
   "cell_type": "code",
   "execution_count": 68,
   "outputs": [
    {
     "data": {
      "text/plain": "-12944.674999999988"
     },
     "execution_count": 68,
     "metadata": {},
     "output_type": "execute_result"
    }
   ],
   "source": [
    "least_cost_path_25_false['total cost'][0]*25 - least_cost_path_25_true['total cost'][0]*25"
   ],
   "metadata": {
    "collapsed": false
   }
  },
  {
   "cell_type": "code",
   "execution_count": 69,
   "outputs": [
    {
     "data": {
      "text/plain": "0    75422.854133\ndtype: float64"
     },
     "execution_count": 69,
     "metadata": {},
     "output_type": "execute_result"
    }
   ],
   "source": [
    "least_cost_path_25_false.geometry.length"
   ],
   "metadata": {
    "collapsed": false
   }
  },
  {
   "cell_type": "code",
   "execution_count": 70,
   "outputs": [
    {
     "data": {
      "text/plain": "0   -0.168281\ndtype: float64"
     },
     "execution_count": 70,
     "metadata": {},
     "output_type": "execute_result"
    }
   ],
   "source": [
    "(least_cost_path_25_false['total cost'][0]*25 - least_cost_path_25_true['total cost'][0]*25) / ((least_cost_path_25_false.geometry.length + least_cost_path_25_true.geometry.length)/2)"
   ],
   "metadata": {
    "collapsed": false
   }
  },
  {
   "cell_type": "code",
   "execution_count": 71,
   "outputs": [
    {
     "data": {
      "text/plain": "-517.7869999999998"
     },
     "execution_count": 71,
     "metadata": {},
     "output_type": "execute_result"
    }
   ],
   "source": [
    "least_cost_path_25_false['total cost'][0] - least_cost_path_25_true['total cost'][0]"
   ],
   "metadata": {
    "collapsed": false
   }
  },
  {
   "cell_type": "markdown",
   "source": [
    "## Zonal stat"
   ],
   "metadata": {
    "collapsed": false
   }
  },
  {
   "cell_type": "code",
   "execution_count": 72,
   "outputs": [
    {
     "data": {
      "text/plain": "{'Preferential': 19.826571848213025,\n 'No Restriction': 68.87454257287716,\n 'Restricted': 0.9564272141132344,\n 'Strongly Restricted': 0.6668270946220677,\n 'Prohibited': 9.675631270174508}"
     },
     "execution_count": 72,
     "metadata": {},
     "output_type": "execute_result"
    }
   ],
   "source": [
    "raster_25f = open_rasterio(Path(r'./../results/weights/result_res_25_all_touched_False.tif')).rio.reproject_match(raster_5f)\n",
    "\n",
    "rel_stats_25f_100 = compute_zonal_stat_path(raster_25f, least_cost_path_25_false, buffer_dist_100, cmap)\n",
    "rel_stats_25f_100"
   ],
   "metadata": {
    "collapsed": false
   }
  },
  {
   "cell_type": "code",
   "execution_count": 74,
   "outputs": [
    {
     "data": {
      "text/plain": "{'Preferential': 34.22749624569359,\n 'No Restriction': 64.91269397249788,\n 'Restricted': 0.21495244545213626,\n 'Strongly Restricted': 0.09128117546597568,\n 'Prohibited': 0.5535761608904332}"
     },
     "execution_count": 74,
     "metadata": {},
     "output_type": "execute_result"
    }
   ],
   "source": [
    "rel_stats_25f_5 = compute_zonal_stat_path(raster_25f, least_cost_path_25_false, buffer_dist_5, cmap)\n",
    "rel_stats_25f_5"
   ],
   "metadata": {
    "collapsed": false
   }
  },
  {
   "cell_type": "code",
   "execution_count": 76,
   "outputs": [
    {
     "data": {
      "text/plain": "{'Preferential': 18.67715636303323,\n 'No Restriction': 65.45959670062581,\n 'Restricted': 1.9550961041612178,\n 'Strongly Restricted': 2.541034850118336,\n 'Prohibited': 11.367115982061406}"
     },
     "execution_count": 76,
     "metadata": {},
     "output_type": "execute_result"
    }
   ],
   "source": [
    "raster_25t = open_rasterio(Path(r'./../results/weights/result_res_25_all_touched_True.tif')).rio.reproject_match(raster_5t)\n",
    "\n",
    "rel_stats_25t_100 = compute_zonal_stat_path(raster_25t, least_cost_path_25_true, buffer_dist_100, cmap)\n",
    "rel_stats_25t_100"
   ],
   "metadata": {
    "collapsed": false
   }
  },
  {
   "cell_type": "code",
   "execution_count": 78,
   "outputs": [
    {
     "data": {
      "text/plain": "{'Preferential': 31.925548785577163,\n 'No Restriction': 65.51484294577526,\n 'Restricted': 1.2825863172244945,\n 'Strongly Restricted': 0.7038922738780847,\n 'Prohibited': 0.5731296775450018}"
     },
     "execution_count": 78,
     "metadata": {},
     "output_type": "execute_result"
    }
   ],
   "source": [
    "rel_stats_25t_5 = compute_zonal_stat_path(raster_25t, least_cost_path_25_true, buffer_dist_5, cmap)\n",
    "rel_stats_25t_5"
   ],
   "metadata": {
    "collapsed": false
   }
  },
  {
   "cell_type": "markdown",
   "source": [
    "## lines -> Polygones"
   ],
   "metadata": {
    "collapsed": false
   }
  },
  {
   "cell_type": "code",
   "execution_count": 86,
   "outputs": [],
   "source": [
    "create_buffer_polygon(least_cost_path_25_false.geometry.values[0], least_cost_path_25_true.geometry.values[0], 25832, 2*max_min_distances_25).to_file(\"./../results/Buffer_Polygons/least_cost_path_res_25_buffer.gpkg\")"
   ],
   "metadata": {
    "collapsed": false
   }
  },
  {
   "cell_type": "markdown",
   "source": [
    "# 50 m resolution\n",
    "## Distances"
   ],
   "metadata": {
    "collapsed": false
   }
  },
  {
   "cell_type": "code",
   "execution_count": 17,
   "outputs": [
    {
     "data": {
      "text/plain": "(76135.0213422174, 70619.94558270913)"
     },
     "execution_count": 17,
     "metadata": {},
     "output_type": "execute_result"
    }
   ],
   "source": [
    "least_cost_path_50_false = read_file(\"../results/least_cost_paths/least_cost_path_test_points_res_50_al_false.gpkg\")\n",
    "least_cost_path_50_true = read_file(\"../results/least_cost_paths/least_cost_path_test_points_res_50_al_true.gpkg\")\n",
    "least_cost_path_50_false.geometry.values[0].length, least_cost_path_50_true.geometry.values[0].length"
   ],
   "metadata": {
    "collapsed": false
   }
  },
  {
   "cell_type": "code",
   "execution_count": 18,
   "outputs": [
    {
     "data": {
      "text/plain": "1140.0069288754526"
     },
     "execution_count": 18,
     "metadata": {},
     "output_type": "execute_result"
    }
   ],
   "source": [
    "distances_50  =  compute_line_distances(least_cost_path_50_false.geometry.values[0], least_cost_path_50_true.geometry.values[0])\n",
    "mean_min_distances_50 =  np.mean(distances_50)\n",
    "mean_min_distances_50"
   ],
   "metadata": {
    "collapsed": false
   }
  },
  {
   "cell_type": "code",
   "execution_count": 19,
   "outputs": [
    {
     "data": {
      "text/plain": "4950.0"
     },
     "execution_count": 19,
     "metadata": {},
     "output_type": "execute_result"
    }
   ],
   "source": [
    "max_min_distances_50 =  np.max(distances_50)\n",
    "max_min_distances_50"
   ],
   "metadata": {
    "collapsed": false
   }
  },
  {
   "cell_type": "markdown",
   "source": [
    "## costs"
   ],
   "metadata": {
    "collapsed": false
   }
  },
  {
   "cell_type": "code",
   "execution_count": 81,
   "outputs": [
    {
     "data": {
      "text/plain": "(1409.023, 2300.073)"
     },
     "execution_count": 81,
     "metadata": {},
     "output_type": "execute_result"
    }
   ],
   "source": [
    "least_cost_path_50_false['total cost'][0], least_cost_path_50_true['total cost'][0]"
   ],
   "metadata": {
    "collapsed": false
   }
  },
  {
   "cell_type": "code",
   "execution_count": 82,
   "outputs": [
    {
     "data": {
      "text/plain": "(70451.15, 115003.65)"
     },
     "execution_count": 82,
     "metadata": {},
     "output_type": "execute_result"
    }
   ],
   "source": [
    "least_cost_path_50_false['total cost'][0]*50, least_cost_path_50_true['total cost'][0]*50"
   ],
   "metadata": {
    "collapsed": false
   }
  },
  {
   "cell_type": "code",
   "execution_count": 83,
   "outputs": [
    {
     "data": {
      "text/plain": "-44552.5"
     },
     "execution_count": 83,
     "metadata": {},
     "output_type": "execute_result"
    }
   ],
   "source": [
    "least_cost_path_50_false['total cost'][0]*50 - least_cost_path_50_true['total cost'][0]*50"
   ],
   "metadata": {
    "collapsed": false
   }
  },
  {
   "cell_type": "code",
   "execution_count": 84,
   "outputs": [
    {
     "data": {
      "text/plain": "0    76135.021342\ndtype: float64"
     },
     "execution_count": 84,
     "metadata": {},
     "output_type": "execute_result"
    }
   ],
   "source": [
    "least_cost_path_50_false.geometry.length"
   ],
   "metadata": {
    "collapsed": false
   }
  },
  {
   "cell_type": "code",
   "execution_count": 85,
   "outputs": [
    {
     "data": {
      "text/plain": "0   -0.607169\ndtype: float64"
     },
     "execution_count": 85,
     "metadata": {},
     "output_type": "execute_result"
    }
   ],
   "source": [
    "(least_cost_path_50_false['total cost'][0]*50 - least_cost_path_50_true['total cost'][0]*50) / ((least_cost_path_50_false.geometry.length + least_cost_path_50_true.geometry.length)/2)"
   ],
   "metadata": {
    "collapsed": false
   }
  },
  {
   "cell_type": "code",
   "execution_count": 86,
   "outputs": [
    {
     "data": {
      "text/plain": "-891.05"
     },
     "execution_count": 86,
     "metadata": {},
     "output_type": "execute_result"
    }
   ],
   "source": [
    "least_cost_path_50_false['total cost'][0] - least_cost_path_50_true['total cost'][0]"
   ],
   "metadata": {
    "collapsed": false
   }
  },
  {
   "cell_type": "markdown",
   "source": [
    "## Zonal stat"
   ],
   "metadata": {
    "collapsed": false
   }
  },
  {
   "cell_type": "code",
   "execution_count": 87,
   "outputs": [
    {
     "data": {
      "text/plain": "{'Preferential': 20.424131915614257,\n 'No Restriction': 67.97554122198528,\n 'Restricted': 0.8699340849414755,\n 'Strongly Restricted': 0.6704954069913697,\n 'Prohibited': 10.05989737046762}"
     },
     "execution_count": 87,
     "metadata": {},
     "output_type": "execute_result"
    }
   ],
   "source": [
    "raster_50f = open_rasterio(Path(r'./../results/weights/result_res_50_all_touched_False.tif')).rio.reproject_match(raster_5f)\n",
    "\n",
    "rel_stats_50f_100 = compute_zonal_stat_path(raster_50f, least_cost_path_50_false, buffer_dist_100, cmap)\n",
    "rel_stats_50f_100"
   ],
   "metadata": {
    "collapsed": false
   }
  },
  {
   "cell_type": "code",
   "execution_count": 88,
   "outputs": [
    {
     "data": {
      "text/plain": "{'Preferential': 33.180814641794385,\n 'No Restriction': 66.19844494928488,\n 'Restricted': 0.07679262790772086,\n 'Strongly Restricted': 0.0415960067833488,\n 'Prohibited': 0.5023517742296739}"
     },
     "execution_count": 88,
     "metadata": {},
     "output_type": "execute_result"
    }
   ],
   "source": [
    "rel_stats_50f_5 = compute_zonal_stat_path(raster_50f, least_cost_path_50_false, buffer_dist_5, cmap)\n",
    "rel_stats_50f_5"
   ],
   "metadata": {
    "collapsed": false
   }
  },
  {
   "cell_type": "code",
   "execution_count": 89,
   "outputs": [
    {
     "data": {
      "text/plain": "{'Preferential': 9.144355315406148,\n 'No Restriction': 75.68238741961079,\n 'Restricted': 3.8982662735442966,\n 'Strongly Restricted': 4.172339545542493,\n 'Prohibited': 7.102651445896267}"
     },
     "execution_count": 89,
     "metadata": {},
     "output_type": "execute_result"
    }
   ],
   "source": [
    "raster_50t = open_rasterio(Path(r'./../results/weights/result_res_50_all_touched_True.tif')).rio.reproject_match(raster_5t)\n",
    "\n",
    "rel_stats_50t_100 = compute_zonal_stat_path(raster_50t, least_cost_path_50_true, buffer_dist_100, cmap)\n",
    "rel_stats_50t_100"
   ],
   "metadata": {
    "collapsed": false
   }
  },
  {
   "cell_type": "code",
   "execution_count": 90,
   "outputs": [
    {
     "data": {
      "text/plain": "{'Preferential': 13.028229549908882,\n 'No Restriction': 82.98662448853283,\n 'Restricted': 1.9564694151222366,\n 'Strongly Restricted': 1.5919953237286386,\n 'Prohibited': 0.43668122270742354}"
     },
     "execution_count": 90,
     "metadata": {},
     "output_type": "execute_result"
    }
   ],
   "source": [
    "rel_stats_50t_5 = compute_zonal_stat_path(raster_50t, least_cost_path_50_true, buffer_dist_5, cmap)\n",
    "rel_stats_50t_5"
   ],
   "metadata": {
    "collapsed": false
   }
  },
  {
   "cell_type": "markdown",
   "source": [
    "## lines -> Polygon\n"
   ],
   "metadata": {
    "collapsed": false
   }
  },
  {
   "cell_type": "code",
   "execution_count": 87,
   "outputs": [],
   "source": [
    "create_buffer_polygon(least_cost_path_50_false.geometry.values[0], least_cost_path_50_true.geometry.values[0], 25832, 2*max_min_distances_50).to_file(\"./../results/Buffer_Polygons/least_cost_path_res_50_buffer.gpkg\")"
   ],
   "metadata": {
    "collapsed": false
   }
  },
  {
   "cell_type": "markdown",
   "source": [
    "# 100 m resolution\n",
    "## Distances"
   ],
   "metadata": {
    "collapsed": false
   }
  },
  {
   "cell_type": "code",
   "execution_count": 21,
   "outputs": [
    {
     "data": {
      "text/plain": "(76283.80711525407, 74120.73210305478)"
     },
     "execution_count": 21,
     "metadata": {},
     "output_type": "execute_result"
    }
   ],
   "source": [
    "least_cost_path_100_false = read_file(\"../results/least_cost_paths/least_cost_path_test_points_res_100_al_false.gpkg\")\n",
    "least_cost_path_100_true = read_file(\"../results/least_cost_paths/least_cost_path_test_points_res_100_al_true.gpkg\")\n",
    "least_cost_path_100_false.geometry.values[0].length, least_cost_path_100_true.geometry.values[0].length"
   ],
   "metadata": {
    "collapsed": false
   }
  },
  {
   "cell_type": "code",
   "execution_count": 22,
   "outputs": [
    {
     "data": {
      "text/plain": "1946.410723103447"
     },
     "execution_count": 22,
     "metadata": {},
     "output_type": "execute_result"
    }
   ],
   "source": [
    "distances_100  =  compute_line_distances(least_cost_path_100_false.geometry.values[0], least_cost_path_100_true.geometry.values[0])\n",
    "mean_min_distances_100 =  np.mean(distances_100)\n",
    "mean_min_distances_100"
   ],
   "metadata": {
    "collapsed": false
   }
  },
  {
   "cell_type": "code",
   "execution_count": 23,
   "outputs": [
    {
     "data": {
      "text/plain": "6016.643582596529"
     },
     "execution_count": 23,
     "metadata": {},
     "output_type": "execute_result"
    }
   ],
   "source": [
    "max_min_distances_100 =  np.max(distances_100)\n",
    "max_min_distances_100"
   ],
   "metadata": {
    "collapsed": false
   }
  },
  {
   "cell_type": "markdown",
   "source": [
    "## costs"
   ],
   "metadata": {
    "collapsed": false
   }
  },
  {
   "cell_type": "code",
   "execution_count": 93,
   "outputs": [
    {
     "data": {
      "text/plain": "(640.516, 1572.268)"
     },
     "execution_count": 93,
     "metadata": {},
     "output_type": "execute_result"
    }
   ],
   "source": [
    "least_cost_path_100_false['total cost'][0], least_cost_path_100_true['total cost'][0]"
   ],
   "metadata": {
    "collapsed": false
   }
  },
  {
   "cell_type": "code",
   "execution_count": 94,
   "outputs": [
    {
     "data": {
      "text/plain": "(64051.6, 157226.8)"
     },
     "execution_count": 94,
     "metadata": {},
     "output_type": "execute_result"
    }
   ],
   "source": [
    "least_cost_path_100_false['total cost'][0]*100, least_cost_path_100_true['total cost'][0]*100"
   ],
   "metadata": {
    "collapsed": false
   }
  },
  {
   "cell_type": "code",
   "execution_count": 95,
   "outputs": [
    {
     "data": {
      "text/plain": "-93175.19999999998"
     },
     "execution_count": 95,
     "metadata": {},
     "output_type": "execute_result"
    }
   ],
   "source": [
    "least_cost_path_100_false['total cost'][0]*100 - least_cost_path_100_true['total cost'][0]*100"
   ],
   "metadata": {
    "collapsed": false
   }
  },
  {
   "cell_type": "code",
   "execution_count": 96,
   "outputs": [
    {
     "data": {
      "text/plain": "0   -3.308806\ndtype: float64"
     },
     "execution_count": 96,
     "metadata": {},
     "output_type": "execute_result"
    }
   ],
   "source": [
    "(least_cost_path_100_false['total cost'][0]*100 - least_cost_path_100_true['total cost'][0]*199) / ((least_cost_path_100_false.geometry.length + least_cost_path_100_true.geometry.length)/2)"
   ],
   "metadata": {
    "collapsed": false
   }
  },
  {
   "cell_type": "code",
   "execution_count": 97,
   "outputs": [
    {
     "data": {
      "text/plain": "-931.7520000000001"
     },
     "execution_count": 97,
     "metadata": {},
     "output_type": "execute_result"
    }
   ],
   "source": [
    "least_cost_path_100_false['total cost'][0] - least_cost_path_100_true['total cost'][0]"
   ],
   "metadata": {
    "collapsed": false
   }
  },
  {
   "cell_type": "markdown",
   "source": [
    "## Zonal Stat"
   ],
   "metadata": {
    "collapsed": false
   }
  },
  {
   "cell_type": "code",
   "execution_count": 98,
   "outputs": [
    {
     "data": {
      "text/plain": "{'Preferential': 21.116438041932376,\n 'No Restriction': 69.1258298979545,\n 'Restricted': 1.105329042659868,\n 'Strongly Restricted': 0.7209380058854757,\n 'Prohibited': 7.931465011567777}"
     },
     "execution_count": 98,
     "metadata": {},
     "output_type": "execute_result"
    }
   ],
   "source": [
    "raster_100f = open_rasterio('./../results/weights/result_res_100_all_touched_False.tif').rio.reproject_match(raster_50f)\n",
    "\n",
    "rel_stats_100f_100 = compute_zonal_stat_path(raster_100f, least_cost_path_100_false, buffer_dist_100, cmap)\n",
    "rel_stats_100f_100"
   ],
   "metadata": {
    "collapsed": false
   }
  },
  {
   "cell_type": "code",
   "execution_count": 99,
   "outputs": [
    {
     "data": {
      "text/plain": "{'Preferential': 30.733593200843508,\n 'No Restriction': 68.81270368713656,\n 'Restricted': 0.03834110805802288,\n 'Strongly Restricted': 0.01917055402901144,\n 'Prohibited': 0.39619144993290306}"
     },
     "execution_count": 99,
     "metadata": {},
     "output_type": "execute_result"
    }
   ],
   "source": [
    "rel_stats_100f_100 = compute_zonal_stat_path(raster_100f, least_cost_path_100_false, buffer_dist_5, cmap)\n",
    "rel_stats_100f_100"
   ],
   "metadata": {
    "collapsed": false
   }
  },
  {
   "cell_type": "code",
   "execution_count": 100,
   "outputs": [
    {
     "data": {
      "text/plain": "{'Preferential': 6.9728627271334,\n 'No Restriction': 73.80772333556207,\n 'Restricted': 5.540126549660721,\n 'Strongly Restricted': 8.51254465195475,\n 'Prohibited': 5.166742735689059}"
     },
     "execution_count": 100,
     "metadata": {},
     "output_type": "execute_result"
    }
   ],
   "source": [
    "raster_100t = open_rasterio(r'./../results/weights/result_res_100_all_touched_True.tif').rio.reproject_match(raster_5t)\n",
    "\n",
    "rel_stats_100t_100 = compute_zonal_stat_path(raster_100t, least_cost_path_100_true, buffer_dist_100, cmap)\n",
    "rel_stats_100t_100"
   ],
   "metadata": {
    "collapsed": false
   }
  },
  {
   "cell_type": "code",
   "execution_count": 101,
   "outputs": [
    {
     "data": {
      "text/plain": "{'Preferential': 10.132879492046868,\n 'No Restriction': 81.94344439353276,\n 'Restricted': 3.9111082018720955,\n 'Strongly Restricted': 3.610001963736335,\n 'Prohibited': 0.40256594881193947}"
     },
     "execution_count": 101,
     "metadata": {},
     "output_type": "execute_result"
    }
   ],
   "source": [
    "rel_stats_100t_5 = compute_zonal_stat_path(raster_100t, least_cost_path_100_true, buffer_dist_5, cmap)\n",
    "rel_stats_100t_5"
   ],
   "metadata": {
    "collapsed": false
   }
  },
  {
   "cell_type": "markdown",
   "source": [
    "## lines -> buffered Polygons"
   ],
   "metadata": {
    "collapsed": false
   }
  },
  {
   "cell_type": "code",
   "execution_count": 88,
   "outputs": [],
   "source": [
    "create_buffer_polygon(least_cost_path_100_false.geometry.values[0], least_cost_path_100_true.geometry.values[0], 25832, 2 * max_min_distances_100).to_file(\"./../results/Buffer_Polygons/least_cost_path_res_100_buffer.gpkg\")"
   ],
   "metadata": {
    "collapsed": false
   }
  },
  {
   "cell_type": "markdown",
   "source": [
    "# Mask the 2.5 m and 5 m resolution Raster by the Buffer (from the 50 m resolution Paths)\n",
    "Masking the original 50 m resoltion cost raster by the polygon, created from the buffered 50 m resolution least cost path.\n",
    "The buffer is two times the maximum minimum distance between the paths.\n",
    "## masking the 5 m resolution raster"
   ],
   "metadata": {
    "collapsed": false
   }
  },
  {
   "cell_type": "code",
   "execution_count": 7,
   "outputs": [
    {
     "data": {
      "text/plain": "              height  width  pixel_count  pixel_percentage  nodata_count  \\\n5f_original    17481  11270    197010870        100.000000      75314390   \n5f_clip        17481  11270    197010870        100.000000     150122228   \n5f_clip_drop   12832   9465    121454880         61.648822      74566238   \n5t_original    17481  11270    197010870        100.000000      75274817   \n5t_clip        17481  11270    197010870        100.000000     150110945   \n5t_clip_drop   12832   9465    121454880         61.648822      74554955   \n\n              nodata_percentage  kept_percentage  \n5f_original           38.228545        61.771455  \n5f_clip               76.199972        23.800028  \n5f_clip_drop          61.394189        23.800028  \n5t_original           38.208459        61.791541  \n5t_clip               76.194245        23.805755  \n5t_clip_drop          61.384899        23.805755  ",
      "text/html": "<div>\n<style scoped>\n    .dataframe tbody tr th:only-of-type {\n        vertical-align: middle;\n    }\n\n    .dataframe tbody tr th {\n        vertical-align: top;\n    }\n\n    .dataframe thead th {\n        text-align: right;\n    }\n</style>\n<table border=\"1\" class=\"dataframe\">\n  <thead>\n    <tr style=\"text-align: right;\">\n      <th></th>\n      <th>height</th>\n      <th>width</th>\n      <th>pixel_count</th>\n      <th>pixel_percentage</th>\n      <th>nodata_count</th>\n      <th>nodata_percentage</th>\n      <th>kept_percentage</th>\n    </tr>\n  </thead>\n  <tbody>\n    <tr>\n      <th>5f_original</th>\n      <td>17481</td>\n      <td>11270</td>\n      <td>197010870</td>\n      <td>100.000000</td>\n      <td>75314390</td>\n      <td>38.228545</td>\n      <td>61.771455</td>\n    </tr>\n    <tr>\n      <th>5f_clip</th>\n      <td>17481</td>\n      <td>11270</td>\n      <td>197010870</td>\n      <td>100.000000</td>\n      <td>150122228</td>\n      <td>76.199972</td>\n      <td>23.800028</td>\n    </tr>\n    <tr>\n      <th>5f_clip_drop</th>\n      <td>12832</td>\n      <td>9465</td>\n      <td>121454880</td>\n      <td>61.648822</td>\n      <td>74566238</td>\n      <td>61.394189</td>\n      <td>23.800028</td>\n    </tr>\n    <tr>\n      <th>5t_original</th>\n      <td>17481</td>\n      <td>11270</td>\n      <td>197010870</td>\n      <td>100.000000</td>\n      <td>75274817</td>\n      <td>38.208459</td>\n      <td>61.791541</td>\n    </tr>\n    <tr>\n      <th>5t_clip</th>\n      <td>17481</td>\n      <td>11270</td>\n      <td>197010870</td>\n      <td>100.000000</td>\n      <td>150110945</td>\n      <td>76.194245</td>\n      <td>23.805755</td>\n    </tr>\n    <tr>\n      <th>5t_clip_drop</th>\n      <td>12832</td>\n      <td>9465</td>\n      <td>121454880</td>\n      <td>61.648822</td>\n      <td>74554955</td>\n      <td>61.384899</td>\n      <td>23.805755</td>\n    </tr>\n  </tbody>\n</table>\n</div>"
     },
     "execution_count": 7,
     "metadata": {},
     "output_type": "execute_result"
    }
   ],
   "source": [
    "mask_50 = read_file(\"./../results/Buffer_Polygons/least_cost_path_res_50_buffer.gpkg\")\n",
    "\n",
    "raster_5f = open_rasterio(Path(r'./../results/weights/result_res_5_all_touched_False.tif'))\n",
    "raster_5t = open_rasterio(Path(r'./../results/weights/result_res_5_all_touched_True.tif'))\n",
    "\n",
    "raster_5f_clipped = raster_5f.rio.clip(mask_50.geometry.values, mask_50.crs, drop=False)\n",
    "write_compressed(raster_5f_clipped, Path(r'./../results/weights/Clipped/result_res_5_all_touched_False_clipped.tif'))\n",
    "raster_5f_clipped_dropped = raster_5f.rio.clip(mask_50.geometry.values, mask_50.crs, drop=True)\n",
    "write_compressed(raster_5f_clipped_dropped, Path(r'./../results/weights/Clipped/result_res_5_all_touched_False_clipped_drop.tif'))\n",
    "\n",
    "raster_5t_clipped = raster_5t.rio.clip(mask_50.geometry.values, mask_50.crs, drop=False)\n",
    "write_compressed(raster_5t_clipped, Path(r'./../results/weights/Clipped/result_res_5_all_touched_True_clipped.tif'))\n",
    "raster_5t_clipped_dropped = raster_5t.rio.clip(mask_50.geometry.values, mask_50.crs, drop=True)\n",
    "write_compressed(raster_5t_clipped_dropped, Path(r'./../results/weights/Clipped/result_res_5_all_touched_True_clipped_drop.tif'))\n",
    "\n",
    "rasters = [raster_5f, raster_5f_clipped, raster_5f_clipped_dropped, raster_5t, raster_5t_clipped, raster_5t_clipped_dropped]\n",
    "\n",
    "raster_y = np.array([x.shape[1] for x in rasters])\n",
    "raster_x = np.array([x.shape[2] for x in rasters])\n",
    "counts = raster_y * raster_x\n",
    "nodata_counts = np.array([np.sum(x.data == x.rio.nodata) for x in rasters])\n",
    "\n",
    "\n",
    "DataFrame(data={'height': raster_y,\n",
    "                'width': raster_x,\n",
    "                'pixel_count': counts,\n",
    "                'pixel_percentage': counts / np.max(counts) * 100.0,\n",
    "                'nodata_count': nodata_counts,\n",
    "                'nodata_percentage': nodata_counts / counts * 100.0,\n",
    "                'kept_percentage': (counts - nodata_counts) / np.max(counts) * 100.0},\n",
    "\n",
    "          index=['5f_original', '5f_clip', '5f_clip_drop', '5t_original', '5t_clip', '5t_clip_drop'])"
   ],
   "metadata": {
    "collapsed": false
   }
  },
  {
   "cell_type": "markdown",
   "source": [
    "2.5 m"
   ],
   "metadata": {
    "collapsed": false
   }
  },
  {
   "cell_type": "code",
   "execution_count": null,
   "outputs": [],
   "source": [
    "mask_50 = read_file(\"./../results/Buffer_Polygons/least_cost_path_res_50_buffer.gpkg\")\n",
    "\n",
    "raster_2p5f = open_rasterio(Path(r'./../results/weights/result_res_2.5_all_touched_False.tif'))\n",
    "raster_2p5t = open_rasterio(Path(r'./../results/weights/result_res_2.5_all_touched_True.tif'))\n",
    "\n",
    "raster_2p5f_clipped = raster_5f.rio.clip(mask_50.geometry.values, mask_50.crs, drop=False)\n",
    "write_compressed(raster_2p5f_clipped, Path(r'./../results/weights/Clipped/result_res_2p5_all_touched_False_clipped.tif'))\n",
    "raster_2p5f_clipped_dropped = raster_5f.rio.clip(mask_50.geometry.values, mask_50.crs, drop=True)\n",
    "write_compressed(raster_2p5f_clipped_dropped, Path(r'./../results/weights/Clipped/result_res_2p5_all_touched_False_clipped_drop.tif'))\n",
    "\n",
    "raster_2p5t_clipped = raster_5t.rio.clip(mask_50.geometry.values, mask_50.crs, drop=False)\n",
    "write_compressed(raster_2p5t_clipped, Path(r'./../results/weights/Clipped/result_res_2p5_all_touched_True_clipped.tif'))\n",
    "raster_2p5t_clipped_dropped = raster_5t.rio.clip(mask_50.geometry.values, mask_50.crs, drop=True)\n",
    "write_compressed(raster_2p5t_clipped_dropped, Path(r'./../results/weights/Clipped/result_res_2p5_all_touched_True_clipped_drop.tif'))\n",
    "\n",
    "rasters = [raster_2p5f, raster_2p5f_clipped, raster_2p5f_clipped_dropped, raster_2p5t, raster_2p5t_clipped, raster_2p5t_clipped_dropped]\n",
    "\n",
    "raster_y = np.array([x.shape[1] for x in rasters])\n",
    "raster_x = np.array([x.shape[2] for x in rasters])\n",
    "counts = raster_y * raster_x\n",
    "nodata_counts = np.array([np.sum(x.data == x.rio.nodata) for x in rasters])\n",
    "\n",
    "\n",
    "DataFrame(data={'height': raster_y,\n",
    "                'width': raster_x,\n",
    "                'pixel_count': counts,\n",
    "                'pixel_percentage': counts / np.max(counts) * 100.0,\n",
    "                'nodata_count': nodata_counts,\n",
    "                'nodata_percentage': nodata_counts / counts * 100.0,\n",
    "                'kept_percentage': (counts - nodata_counts) / np.max(counts) * 100.0},\n",
    "\n",
    "          index=['5f_original', '5f_clip', '5f_clip_drop', '5t_original', '5t_clip', '5t_clip_drop'])"
   ],
   "metadata": {
    "collapsed": false
   }
  },
  {
   "cell_type": "markdown",
   "source": [
    "# Mask the 2.5 and 5 m resolution raster by the non-reachable pixels"
   ],
   "metadata": {
    "collapsed": false
   }
  },
  {
   "cell_type": "code",
   "execution_count": 1,
   "outputs": [],
   "source": [
    "# TODO"
   ],
   "metadata": {
    "collapsed": false
   }
  },
  {
   "cell_type": "markdown",
   "source": [
    "# Distances all touched False"
   ],
   "metadata": {
    "collapsed": false
   }
  },
  {
   "cell_type": "code",
   "execution_count": 102,
   "outputs": [
    {
     "data": {
      "text/plain": "243.4202763963724"
     },
     "execution_count": 102,
     "metadata": {},
     "output_type": "execute_result"
    }
   ],
   "source": [
    "distances_false  =  np.array([Point(p).distance(least_cost_path_100_false.geometry.values[0]) for p in least_cost_path_5_false.geometry.values[0].coords])\n",
    "mean_min_distances_false =  np.mean(distances_false)\n",
    "mean_min_distances_false"
   ],
   "metadata": {
    "collapsed": false
   }
  },
  {
   "cell_type": "markdown",
   "source": [
    "# Distances all touched True\n"
   ],
   "metadata": {
    "collapsed": false
   }
  },
  {
   "cell_type": "code",
   "execution_count": 103,
   "outputs": [
    {
     "data": {
      "text/plain": "2109.436322189748"
     },
     "execution_count": 103,
     "metadata": {},
     "output_type": "execute_result"
    }
   ],
   "source": [
    "distances_true  =  np.array([Point(p).distance(least_cost_path_100_true.geometry.values[0]) for p in least_cost_path_5_true.geometry.values[0].coords])\n",
    "mean_min_distances_true =  np.mean(distances_true)\n",
    "mean_min_distances_true"
   ],
   "metadata": {
    "collapsed": false
   }
  },
  {
   "cell_type": "code",
   "execution_count": null,
   "outputs": [],
   "source": [],
   "metadata": {
    "collapsed": false
   }
  }
 ],
 "metadata": {
  "kernelspec": {
   "display_name": "Python 3",
   "language": "python",
   "name": "python3"
  },
  "language_info": {
   "codemirror_mode": {
    "name": "ipython",
    "version": 2
   },
   "file_extension": ".py",
   "mimetype": "text/x-python",
   "name": "python",
   "nbconvert_exporter": "python",
   "pygments_lexer": "ipython2",
   "version": "2.7.6"
  }
 },
 "nbformat": 4,
 "nbformat_minor": 0
}
