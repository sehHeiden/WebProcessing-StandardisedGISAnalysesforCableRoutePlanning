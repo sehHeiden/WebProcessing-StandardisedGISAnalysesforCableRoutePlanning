{
 "cells": [
  {
   "cell_type": "markdown",
   "source": [
    "# General Statistic for Least-Cost-Path QGIS-Plugin"
   ],
   "metadata": {
    "collapsed": false
   }
  },
  {
   "cell_type": "code",
   "execution_count": 1,
   "outputs": [],
   "source": [
    "from pandas import read_csv, DataFrame\n",
    "from geopandas import read_file\n",
    "from sklearn.model_selection import train_test_split\n",
    "from sklearn.linear_model import LinearRegression\n",
    "from sklearn.metrics import r2_score, mean_absolute_error\n",
    "from sklearn.preprocessing import PolynomialFeatures\n",
    "from sklearn.pipeline import Pipeline\n",
    "import statsmodels.api as sm\n",
    "import numpy as np\n",
    "import matplotlib.pyplot as plt\n",
    "\n",
    "import seaborn as sns"
   ],
   "metadata": {
    "collapsed": false
   }
  },
  {
   "cell_type": "code",
   "execution_count": 2,
   "outputs": [
    {
     "data": {
      "text/plain": "    Resolution \\m Resolution \\px  all touched  run number  execution time \\s\n0               5  17481 * 11270         True         1.0            2423.87\n1              10    8741 * 5635         True         1.0             421.93\n2              10    8741 * 5635         True         2.0             419.34\n3              50    1749 * 1127         True         1.0              12.69\n4              50    1749 * 1127         True         2.0              12.94\n5             100      875 * 564         True         1.0               3.02\n6             100      875 * 564         True         2.0               3.10\n7               5  17481 * 11270        False         1.0            2516.90\n8              10    8741 * 5635        False         1.0             412.66\n9              10    8741 * 5635        False         2.0             439.19\n10             50    1749 * 1127        False         1.0              12.08\n11             50    1749 * 1127        False         2.0              11.62\n12            100      875 * 564        False         1.0               2.78\n13            100      875 * 564        False         NaN               2.93",
      "text/html": "<div>\n<style scoped>\n    .dataframe tbody tr th:only-of-type {\n        vertical-align: middle;\n    }\n\n    .dataframe tbody tr th {\n        vertical-align: top;\n    }\n\n    .dataframe thead th {\n        text-align: right;\n    }\n</style>\n<table border=\"1\" class=\"dataframe\">\n  <thead>\n    <tr style=\"text-align: right;\">\n      <th></th>\n      <th>Resolution \\m</th>\n      <th>Resolution \\px</th>\n      <th>all touched</th>\n      <th>run number</th>\n      <th>execution time \\s</th>\n    </tr>\n  </thead>\n  <tbody>\n    <tr>\n      <th>0</th>\n      <td>5</td>\n      <td>17481 * 11270</td>\n      <td>True</td>\n      <td>1.0</td>\n      <td>2423.87</td>\n    </tr>\n    <tr>\n      <th>1</th>\n      <td>10</td>\n      <td>8741 * 5635</td>\n      <td>True</td>\n      <td>1.0</td>\n      <td>421.93</td>\n    </tr>\n    <tr>\n      <th>2</th>\n      <td>10</td>\n      <td>8741 * 5635</td>\n      <td>True</td>\n      <td>2.0</td>\n      <td>419.34</td>\n    </tr>\n    <tr>\n      <th>3</th>\n      <td>50</td>\n      <td>1749 * 1127</td>\n      <td>True</td>\n      <td>1.0</td>\n      <td>12.69</td>\n    </tr>\n    <tr>\n      <th>4</th>\n      <td>50</td>\n      <td>1749 * 1127</td>\n      <td>True</td>\n      <td>2.0</td>\n      <td>12.94</td>\n    </tr>\n    <tr>\n      <th>5</th>\n      <td>100</td>\n      <td>875 * 564</td>\n      <td>True</td>\n      <td>1.0</td>\n      <td>3.02</td>\n    </tr>\n    <tr>\n      <th>6</th>\n      <td>100</td>\n      <td>875 * 564</td>\n      <td>True</td>\n      <td>2.0</td>\n      <td>3.10</td>\n    </tr>\n    <tr>\n      <th>7</th>\n      <td>5</td>\n      <td>17481 * 11270</td>\n      <td>False</td>\n      <td>1.0</td>\n      <td>2516.90</td>\n    </tr>\n    <tr>\n      <th>8</th>\n      <td>10</td>\n      <td>8741 * 5635</td>\n      <td>False</td>\n      <td>1.0</td>\n      <td>412.66</td>\n    </tr>\n    <tr>\n      <th>9</th>\n      <td>10</td>\n      <td>8741 * 5635</td>\n      <td>False</td>\n      <td>2.0</td>\n      <td>439.19</td>\n    </tr>\n    <tr>\n      <th>10</th>\n      <td>50</td>\n      <td>1749 * 1127</td>\n      <td>False</td>\n      <td>1.0</td>\n      <td>12.08</td>\n    </tr>\n    <tr>\n      <th>11</th>\n      <td>50</td>\n      <td>1749 * 1127</td>\n      <td>False</td>\n      <td>2.0</td>\n      <td>11.62</td>\n    </tr>\n    <tr>\n      <th>12</th>\n      <td>100</td>\n      <td>875 * 564</td>\n      <td>False</td>\n      <td>1.0</td>\n      <td>2.78</td>\n    </tr>\n    <tr>\n      <th>13</th>\n      <td>100</td>\n      <td>875 * 564</td>\n      <td>False</td>\n      <td>NaN</td>\n      <td>2.93</td>\n    </tr>\n  </tbody>\n</table>\n</div>"
     },
     "execution_count": 2,
     "metadata": {},
     "output_type": "execute_result"
    }
   ],
   "source": [
    "stat_data = read_csv('../results/least_cost_paths/execution_time_resolution.csv', sep=';', decimal=',')\n",
    "stat_data"
   ],
   "metadata": {
    "collapsed": false
   }
  },
  {
   "cell_type": "code",
   "execution_count": 3,
   "outputs": [
    {
     "data": {
      "text/plain": "Resolution \\m          int64\nResolution \\px        object\nall touched             bool\nrun number           float64\nexecution time \\s    float64\ndtype: object"
     },
     "execution_count": 3,
     "metadata": {},
     "output_type": "execute_result"
    }
   ],
   "source": [
    "stat_data.dtypes"
   ],
   "metadata": {
    "collapsed": false
   }
  },
  {
   "cell_type": "code",
   "execution_count": 4,
   "outputs": [
    {
     "data": {
      "text/plain": "       Resolution \\m  run number  execution time \\s\ncount      14.000000   13.000000          14.000000\nmean       46.428571    1.384615         478.217857\nstd        39.488488    0.506370         864.955779\nmin         5.000000    1.000000           2.780000\n25%        10.000000    1.000000           5.230000\n50%        50.000000    1.000000          12.815000\n75%        87.500000    2.000000         421.282500\nmax       100.000000    2.000000        2516.900000",
      "text/html": "<div>\n<style scoped>\n    .dataframe tbody tr th:only-of-type {\n        vertical-align: middle;\n    }\n\n    .dataframe tbody tr th {\n        vertical-align: top;\n    }\n\n    .dataframe thead th {\n        text-align: right;\n    }\n</style>\n<table border=\"1\" class=\"dataframe\">\n  <thead>\n    <tr style=\"text-align: right;\">\n      <th></th>\n      <th>Resolution \\m</th>\n      <th>run number</th>\n      <th>execution time \\s</th>\n    </tr>\n  </thead>\n  <tbody>\n    <tr>\n      <th>count</th>\n      <td>14.000000</td>\n      <td>13.000000</td>\n      <td>14.000000</td>\n    </tr>\n    <tr>\n      <th>mean</th>\n      <td>46.428571</td>\n      <td>1.384615</td>\n      <td>478.217857</td>\n    </tr>\n    <tr>\n      <th>std</th>\n      <td>39.488488</td>\n      <td>0.506370</td>\n      <td>864.955779</td>\n    </tr>\n    <tr>\n      <th>min</th>\n      <td>5.000000</td>\n      <td>1.000000</td>\n      <td>2.780000</td>\n    </tr>\n    <tr>\n      <th>25%</th>\n      <td>10.000000</td>\n      <td>1.000000</td>\n      <td>5.230000</td>\n    </tr>\n    <tr>\n      <th>50%</th>\n      <td>50.000000</td>\n      <td>1.000000</td>\n      <td>12.815000</td>\n    </tr>\n    <tr>\n      <th>75%</th>\n      <td>87.500000</td>\n      <td>2.000000</td>\n      <td>421.282500</td>\n    </tr>\n    <tr>\n      <th>max</th>\n      <td>100.000000</td>\n      <td>2.000000</td>\n      <td>2516.900000</td>\n    </tr>\n  </tbody>\n</table>\n</div>"
     },
     "execution_count": 4,
     "metadata": {},
     "output_type": "execute_result"
    }
   ],
   "source": [
    "stat_data.describe()"
   ],
   "metadata": {
    "collapsed": false
   }
  },
  {
   "cell_type": "code",
   "execution_count": 5,
   "outputs": [
    {
     "data": {
      "text/plain": "<AxesSubplot: xlabel='Resolution \\\\m', ylabel='execution time \\\\s'>"
     },
     "execution_count": 5,
     "metadata": {},
     "output_type": "execute_result"
    },
    {
     "data": {
      "text/plain": "<Figure size 640x480 with 1 Axes>",
      "image/png": "[encoded data removed]"
     },
     "metadata": {},
     "output_type": "display_data"
    }
   ],
   "source": [
    "sns.scatterplot(stat_data, x='Resolution \\m', y='execution time \\s', hue='all touched')"
   ],
   "metadata": {
    "collapsed": false
   }
  },
  {
   "cell_type": "code",
   "execution_count": 6,
   "outputs": [],
   "source": [
    "X_inv_log = np.log2(1 / stat_data['Resolution \\\\m'].values).reshape(-1, 1)\n",
    "y_log = np.log2(stat_data['execution time \\\\s'].values)"
   ],
   "metadata": {
    "collapsed": false
   }
  },
  {
   "cell_type": "code",
   "execution_count": 7,
   "outputs": [
    {
     "data": {
      "text/plain": "<matplotlib.collections.PathCollection at 0x27e89d84af0>"
     },
     "execution_count": 7,
     "metadata": {},
     "output_type": "execute_result"
    },
    {
     "data": {
      "text/plain": "<Figure size 640x480 with 1 Axes>",
      "image/png": "[encoded data removed]"
     },
     "metadata": {},
     "output_type": "display_data"
    }
   ],
   "source": [
    "plt.scatter(X_inv_log, y_log)"
   ],
   "metadata": {
    "collapsed": false
   }
  },
  {
   "cell_type": "code",
   "execution_count": 8,
   "outputs": [],
   "source": [
    "X_train_inv_log, X_test_inv_log, y_train_log, y_test_log = train_test_split(X_inv_log, y_log, test_size=0.20, random_state=42)"
   ],
   "metadata": {
    "collapsed": false
   }
  },
  {
   "cell_type": "code",
   "execution_count": 20,
   "outputs": [
    {
     "data": {
      "text/plain": "(0.9988329607670805, 0.9972896937377292)"
     },
     "execution_count": 20,
     "metadata": {},
     "output_type": "execute_result"
    }
   ],
   "source": [
    "lin_reg = LinearRegression(fit_intercept=True)\n",
    "lin_reg.fit(X_train_inv_log, y_train_log)\n",
    "\n",
    "r2_score(y_train_log, lin_reg.predict(X_train_inv_log)), r2_score(y_test_log, lin_reg.predict(X_test_inv_log))"
   ],
   "metadata": {
    "collapsed": false
   }
  },
  {
   "cell_type": "code",
   "execution_count": 23,
   "outputs": [
    {
     "data": {
      "text/plain": "(array([2.19822802]), 16.11593641959958)"
     },
     "execution_count": 23,
     "metadata": {},
     "output_type": "execute_result"
    }
   ],
   "source": [
    "lin_reg.coef_, lin_reg.intercept_"
   ],
   "metadata": {
    "collapsed": false
   }
  },
  {
   "cell_type": "markdown",
   "source": [
    "## compute standard error"
   ],
   "metadata": {
    "collapsed": false
   }
  },
  {
   "cell_type": "code",
   "execution_count": 25,
   "outputs": [
    {
     "name": "stderr",
     "output_type": "stream",
     "text": [
      "C:\\Users\\sebas\\AppData\\Local\\Temp\\ipykernel_15248\\289182690.py:4: DeprecationWarning: `np.float` is a deprecated alias for the builtin `float`. To silence this warning, use `float` by itself. Doing this will not modify any behavior and is safe. If you specifically wanted the numpy scalar type, use `np.float64` here.\n",
      "Deprecated in NumPy 1.20; for more details and guidance: https://numpy.org/devdocs/release/1.20.0-notes.html#deprecations\n",
      "  X_with_intercept = np.empty(shape=(N, p), dtype=np.float)\n"
     ]
    }
   ],
   "source": [
    "N = len(X_train_inv_log)\n",
    "p = X_train_inv_log.shape[1] + 1\n",
    "\n",
    "X_with_intercept = np.empty(shape=(N, p), dtype=np.float)\n",
    "X_with_intercept[:, 0] = 1\n",
    "X_with_intercept[:, 1:p] = X_train_inv_log"
   ],
   "metadata": {
    "collapsed": false
   }
  },
  {
   "cell_type": "code",
   "execution_count": 29,
   "outputs": [
    {
     "name": "stderr",
     "output_type": "stream",
     "text": [
      "C:\\Users\\sebas\\anaconda3\\envs\\CableRoutePlanning\\lib\\site-packages\\scipy\\stats\\_stats_py.py:1772: UserWarning: kurtosistest only valid for n>=20 ... continuing anyway, n=14\n",
      "  warnings.warn(\"kurtosistest only valid for n>=20 ... continuing \"\n"
     ]
    },
    {
     "data": {
      "text/plain": "<class 'statsmodels.iolib.summary.Summary'>\n\"\"\"\n                                 OLS Regression Results                                \n=======================================================================================\nDep. Variable:                      y   R-squared (uncentered):                   1.000\nModel:                            OLS   Adj. R-squared (uncentered):              1.000\nMethod:                 Least Squares   F-statistic:                          9.446e+04\nDate:                Mon, 30 Jan 2023   Prob (F-statistic):                    1.73e-26\nTime:                        19:30:00   Log-Likelihood:                          8.6269\nNo. Observations:                  14   AIC:                                     -15.25\nDf Residuals:                      13   BIC:                                     -14.61\nDf Model:                           1                                                  \nCovariance Type:            nonrobust                                                  \n==============================================================================\n                 coef    std err          t      P>|t|      [0.025      0.975]\n------------------------------------------------------------------------------\nx1             2.1997      0.007    307.339      0.000       2.184       2.215\n==============================================================================\nOmnibus:                        2.412   Durbin-Watson:                   1.480\nProb(Omnibus):                  0.299   Jarque-Bera (JB):                1.599\nSkew:                           0.805   Prob(JB):                        0.450\nKurtosis:                       2.613   Cond. No.                         1.00\n==============================================================================\n\nNotes:\n[1] R² is computed without centering (uncentered) since the model does not contain a constant.\n[2] Standard Errors assume that the covariance matrix of the errors is correctly specified.\n\"\"\"",
      "text/html": "<table class=\"simpletable\">\n<caption>OLS Regression Results</caption>\n<tr>\n  <th>Dep. Variable:</th>            <td>y</td>        <th>  R-squared (uncentered):</th>      <td>   1.000</td> \n</tr>\n<tr>\n  <th>Model:</th>                   <td>OLS</td>       <th>  Adj. R-squared (uncentered):</th> <td>   1.000</td> \n</tr>\n<tr>\n  <th>Method:</th>             <td>Least Squares</td>  <th>  F-statistic:       </th>          <td>9.446e+04</td>\n</tr>\n<tr>\n  <th>Date:</th>             <td>Mon, 30 Jan 2023</td> <th>  Prob (F-statistic):</th>          <td>1.73e-26</td> \n</tr>\n<tr>\n  <th>Time:</th>                 <td>19:30:00</td>     <th>  Log-Likelihood:    </th>          <td>  8.6269</td> \n</tr>\n<tr>\n  <th>No. Observations:</th>      <td>    14</td>      <th>  AIC:               </th>          <td>  -15.25</td> \n</tr>\n<tr>\n  <th>Df Residuals:</th>          <td>    13</td>      <th>  BIC:               </th>          <td>  -14.61</td> \n</tr>\n<tr>\n  <th>Df Model:</th>              <td>     1</td>      <th>                     </th>              <td> </td>    \n</tr>\n<tr>\n  <th>Covariance Type:</th>      <td>nonrobust</td>    <th>                     </th>              <td> </td>    \n</tr>\n</table>\n<table class=\"simpletable\">\n<tr>\n   <td></td>     <th>coef</th>     <th>std err</th>      <th>t</th>      <th>P>|t|</th>  <th>[0.025</th>    <th>0.975]</th>  \n</tr>\n<tr>\n  <th>x1</th> <td>    2.1997</td> <td>    0.007</td> <td>  307.339</td> <td> 0.000</td> <td>    2.184</td> <td>    2.215</td>\n</tr>\n</table>\n<table class=\"simpletable\">\n<tr>\n  <th>Omnibus:</th>       <td> 2.412</td> <th>  Durbin-Watson:     </th> <td>   1.480</td>\n</tr>\n<tr>\n  <th>Prob(Omnibus):</th> <td> 0.299</td> <th>  Jarque-Bera (JB):  </th> <td>   1.599</td>\n</tr>\n<tr>\n  <th>Skew:</th>          <td> 0.805</td> <th>  Prob(JB):          </th> <td>   0.450</td>\n</tr>\n<tr>\n  <th>Kurtosis:</th>      <td> 2.613</td> <th>  Cond. No.          </th> <td>    1.00</td>\n</tr>\n</table><br/><br/>Notes:<br/>[1] R² is computed without centering (uncentered) since the model does not contain a constant.<br/>[2] Standard Errors assume that the covariance matrix of the errors is correctly specified."
     },
     "execution_count": 29,
     "metadata": {},
     "output_type": "execute_result"
    }
   ],
   "source": [
    "ols = sm.OLS(y_log - lin_reg.intercept_, X_inv_log.flatten())\n",
    "ols_res = ols.fit()\n",
    "ols_res.summary()"
   ],
   "metadata": {
    "collapsed": false
   }
  },
  {
   "cell_type": "markdown",
   "source": [
    "## Testing the second order polynomial of the inverse"
   ],
   "metadata": {
    "collapsed": false
   }
  },
  {
   "cell_type": "code",
   "execution_count": 25,
   "outputs": [
    {
     "data": {
      "text/plain": "(0.9996294244457674, 0.9973275618518096)"
     },
     "execution_count": 25,
     "metadata": {},
     "output_type": "execute_result"
    }
   ],
   "source": [
    "X_inv = (1 / stat_data['Resolution \\\\m'].values).reshape(-1, 1)\n",
    "y_simple = stat_data['execution time \\\\s'].values\n",
    "X_train_inv, X_test_inv, y_train_simple, y_test_simple = train_test_split(X_inv, y_simple, test_size=0.20, random_state=42)\n",
    "\n",
    "model = Pipeline([('poly', PolynomialFeatures(degree=2)),\n",
    "                   ('linear', LinearRegression()),\n",
    "                   ])\n",
    "\n",
    "model.fit(X_train_inv, y_train_simple)\n",
    "\n",
    "r2_score(y_train_simple, model.predict(X_train_inv)), r2_score(y_test_simple, model.predict(X_test_inv))"
   ],
   "metadata": {
    "collapsed": false
   }
  },
  {
   "cell_type": "markdown",
   "source": [
    "## Compare the second order polynomial of the inverse to the squared inverse"
   ],
   "metadata": {
    "collapsed": false
   }
  },
  {
   "cell_type": "code",
   "execution_count": 26,
   "outputs": [
    {
     "data": {
      "text/plain": "(0.9838599713963561, 0.9948690355882094)"
     },
     "execution_count": 26,
     "metadata": {},
     "output_type": "execute_result"
    }
   ],
   "source": [
    "X_inv_squared = np.square(1 / stat_data['Resolution \\\\m'].values).reshape(-1, 1)\n",
    "y_simple = stat_data['execution time \\\\s'].values\n",
    "X_train_inv_sqr, X_test_inv_sqr, y_train_inv_sqr, y_test_inv_sqr = train_test_split(X_inv_squared, y_simple, test_size=0.20, random_state=42)\n",
    "\n",
    "linear_squared = LinearRegression()\n",
    "linear_squared.fit(X_train_inv_sqr, y_train_inv_sqr)\n",
    "\n",
    "r2_score(y_train_inv_sqr, linear_squared.predict(X_train_inv_sqr)), r2_score(y_test_inv_sqr, linear_squared.predict(X_test_inv_sqr))"
   ],
   "metadata": {
    "collapsed": false
   }
  },
  {
   "cell_type": "markdown",
   "source": [
    "# Execution time vs Pixel number"
   ],
   "metadata": {
    "collapsed": false
   }
  },
  {
   "cell_type": "code",
   "execution_count": 16,
   "outputs": [
    {
     "data": {
      "text/plain": "array([[27.55369999],\n       [25.55378252],\n       [25.55378252],\n       [20.91058637],\n       [20.91058637],\n       [18.91269056],\n       [18.91269056],\n       [27.55369999],\n       [25.55378252],\n       [25.55378252],\n       [20.91058637],\n       [20.91058637],\n       [18.91269056],\n       [18.91269056]])"
     },
     "execution_count": 16,
     "metadata": {},
     "output_type": "execute_result"
    }
   ],
   "source": [
    "stat_data['Resolution_px'] = stat_data['Resolution \\\\px']\n",
    "products = [eval(x) for x in stat_data['Resolution_px'].to_list()]\n",
    "X2 = np.log2(products).reshape(-1, 1)"
   ],
   "metadata": {
    "collapsed": false
   }
  },
  {
   "cell_type": "code",
   "execution_count": 17,
   "outputs": [
    {
     "data": {
      "text/plain": "    Log pixel          Pixel      Log y  Original y\n0   27.553700  17481 * 11270  11.243097     2423.87\n1   25.553783    8741 * 5635   8.720860      421.93\n2   25.553783    8741 * 5635   8.711977      419.34\n3   20.910586    1749 * 1127   3.665620       12.69\n4   20.910586    1749 * 1127   3.693766       12.94\n5   18.912691      875 * 564   1.594549        3.02\n6   18.912691      875 * 564   1.632268        3.10\n7   27.553700  17481 * 11270  11.297432     2516.90\n8   25.553783    8741 * 5635   8.688810      412.66\n9   25.553783    8741 * 5635   8.778701      439.19\n10  20.910586    1749 * 1127   3.594549       12.08\n11  20.910586    1749 * 1127   3.538538       11.62\n12  18.912691      875 * 564   1.475085        2.78\n13  18.912691      875 * 564   1.550901        2.93",
      "text/html": "<div>\n<style scoped>\n    .dataframe tbody tr th:only-of-type {\n        vertical-align: middle;\n    }\n\n    .dataframe tbody tr th {\n        vertical-align: top;\n    }\n\n    .dataframe thead th {\n        text-align: right;\n    }\n</style>\n<table border=\"1\" class=\"dataframe\">\n  <thead>\n    <tr style=\"text-align: right;\">\n      <th></th>\n      <th>Log pixel</th>\n      <th>Pixel</th>\n      <th>Log y</th>\n      <th>Original y</th>\n    </tr>\n  </thead>\n  <tbody>\n    <tr>\n      <th>0</th>\n      <td>27.553700</td>\n      <td>17481 * 11270</td>\n      <td>11.243097</td>\n      <td>2423.87</td>\n    </tr>\n    <tr>\n      <th>1</th>\n      <td>25.553783</td>\n      <td>8741 * 5635</td>\n      <td>8.720860</td>\n      <td>421.93</td>\n    </tr>\n    <tr>\n      <th>2</th>\n      <td>25.553783</td>\n      <td>8741 * 5635</td>\n      <td>8.711977</td>\n      <td>419.34</td>\n    </tr>\n    <tr>\n      <th>3</th>\n      <td>20.910586</td>\n      <td>1749 * 1127</td>\n      <td>3.665620</td>\n      <td>12.69</td>\n    </tr>\n    <tr>\n      <th>4</th>\n      <td>20.910586</td>\n      <td>1749 * 1127</td>\n      <td>3.693766</td>\n      <td>12.94</td>\n    </tr>\n    <tr>\n      <th>5</th>\n      <td>18.912691</td>\n      <td>875 * 564</td>\n      <td>1.594549</td>\n      <td>3.02</td>\n    </tr>\n    <tr>\n      <th>6</th>\n      <td>18.912691</td>\n      <td>875 * 564</td>\n      <td>1.632268</td>\n      <td>3.10</td>\n    </tr>\n    <tr>\n      <th>7</th>\n      <td>27.553700</td>\n      <td>17481 * 11270</td>\n      <td>11.297432</td>\n      <td>2516.90</td>\n    </tr>\n    <tr>\n      <th>8</th>\n      <td>25.553783</td>\n      <td>8741 * 5635</td>\n      <td>8.688810</td>\n      <td>412.66</td>\n    </tr>\n    <tr>\n      <th>9</th>\n      <td>25.553783</td>\n      <td>8741 * 5635</td>\n      <td>8.778701</td>\n      <td>439.19</td>\n    </tr>\n    <tr>\n      <th>10</th>\n      <td>20.910586</td>\n      <td>1749 * 1127</td>\n      <td>3.594549</td>\n      <td>12.08</td>\n    </tr>\n    <tr>\n      <th>11</th>\n      <td>20.910586</td>\n      <td>1749 * 1127</td>\n      <td>3.538538</td>\n      <td>11.62</td>\n    </tr>\n    <tr>\n      <th>12</th>\n      <td>18.912691</td>\n      <td>875 * 564</td>\n      <td>1.475085</td>\n      <td>2.78</td>\n    </tr>\n    <tr>\n      <th>13</th>\n      <td>18.912691</td>\n      <td>875 * 564</td>\n      <td>1.550901</td>\n      <td>2.93</td>\n    </tr>\n  </tbody>\n</table>\n</div>"
     },
     "execution_count": 17,
     "metadata": {},
     "output_type": "execute_result"
    }
   ],
   "source": [
    "DataFrame({'Log pixel': np.log2(products),'Pixel':stat_data['Resolution \\\\px'], 'Log y': y_log, 'Original y': stat_data['execution time \\\\s']})"
   ],
   "metadata": {
    "collapsed": false
   }
  },
  {
   "cell_type": "code",
   "execution_count": 18,
   "outputs": [],
   "source": [
    "X2_train, X2_test, y2_train, y2_test = train_test_split(np.log2(products).reshape(-1, 1), y_log, test_size=0.20, random_state=42)"
   ],
   "metadata": {
    "collapsed": false
   }
  },
  {
   "cell_type": "code",
   "execution_count": 19,
   "outputs": [
    {
     "data": {
      "text/plain": "(59.63038715650978, 62.49868867536384)"
     },
     "execution_count": 19,
     "metadata": {},
     "output_type": "execute_result"
    }
   ],
   "source": [
    "lin_reg2 = LinearRegression()\n",
    "lin_reg2.fit(X2_train, y2_train)\n",
    "\n",
    "mean_absolute_error(y2_train, lin_reg.predict(X2_train)), mean_absolute_error(y2_test, lin_reg.predict(X2_test))"
   ],
   "metadata": {
    "collapsed": false
   }
  },
  {
   "cell_type": "code",
   "execution_count": 20,
   "outputs": [
    {
     "data": {
      "text/plain": "array([1.0994909])"
     },
     "execution_count": 20,
     "metadata": {},
     "output_type": "execute_result"
    }
   ],
   "source": [
    "lin_reg2.coef_"
   ],
   "metadata": {
    "collapsed": false
   }
  },
  {
   "cell_type": "markdown",
   "source": [
    "# Statistics over the aggregated costs"
   ],
   "metadata": {
    "collapsed": false
   }
  },
  {
   "cell_type": "code",
   "execution_count": 21,
   "outputs": [],
   "source": [
    "least_cost_path_5_false = read_file(\"../results/least_cost_paths/least_cost_path_test_points_res_5_al_false.gpkg\")\n",
    "least_cost_path_5_true = read_file(\"../results/least_cost_paths/least_cost_path_test_points_res_5_al_true.gpkg\")\n",
    "\n",
    "least_cost_path_10_false = read_file(\"../results/least_cost_paths/least_cost_path_test_points_res_10_al_false.gpkg\")\n",
    "least_cost_path_10_true = read_file(\"../results/least_cost_paths/least_cost_path_test_points_res_10_al_true.gpkg\")\n",
    "\n",
    "least_cost_path_50_false = read_file(\"../results/least_cost_paths/least_cost_path_test_points_res_50_al_false.gpkg\")\n",
    "least_cost_path_50_true = read_file(\"../results/least_cost_paths/least_cost_path_test_points_res_50_al_true.gpkg\")\n",
    "\n",
    "least_cost_path_100_false = read_file(\"../results/least_cost_paths/least_cost_path_test_points_res_100_al_false.gpkg\")\n",
    "least_cost_path_100_true = read_file(\"../results/least_cost_paths/least_cost_path_test_points_res_100_al_true.gpkg\")"
   ],
   "metadata": {
    "collapsed": false
   }
  },
  {
   "cell_type": "code",
   "execution_count": 22,
   "outputs": [],
   "source": [
    "X = np.log2(np.array([5, 10, 50, 100]).reshape(-1, 1))\n",
    "y_false = np.log2(np.array([least_cost_path_5_false['total cost'],\n",
    "           least_cost_path_10_false['total cost'],\n",
    "           least_cost_path_50_false['total cost'],\n",
    "           least_cost_path_100_false['total cost'],\n",
    "           ]))\n",
    "\n",
    "y_true = np.log2(np.array([least_cost_path_5_true['total cost'],\n",
    "           least_cost_path_10_true['total cost'],\n",
    "           least_cost_path_50_true['total cost'],\n",
    "           least_cost_path_100_true['total cost'],\n",
    "           ]))"
   ],
   "metadata": {
    "collapsed": false
   }
  },
  {
   "cell_type": "code",
   "execution_count": 23,
   "outputs": [
    {
     "data": {
      "text/plain": "(0.9998469990875714, 0.9933976133506535)"
     },
     "execution_count": 23,
     "metadata": {},
     "output_type": "execute_result"
    }
   ],
   "source": [
    "lin_reg_false = LinearRegression()\n",
    "lin_reg_false.fit(X, y_false)\n",
    "\n",
    "lin_reg_true = LinearRegression()\n",
    "lin_reg_true.fit(X, y_true)\n",
    "\n",
    "r2_score(y_false, lin_reg_false.predict(X)), r2_score(y_true, lin_reg_true.predict(X))"
   ],
   "metadata": {
    "collapsed": false
   }
  },
  {
   "cell_type": "code",
   "execution_count": 24,
   "outputs": [
    {
     "data": {
      "text/plain": "(-1.1305292427570635, -0.8531958731641297)"
     },
     "execution_count": 24,
     "metadata": {},
     "output_type": "execute_result"
    }
   ],
   "source": [
    "lin_reg_false.coef_[0][0], lin_reg_true.coef_[0][0]"
   ],
   "metadata": {
    "collapsed": false
   }
  },
  {
   "cell_type": "code",
   "execution_count": 24,
   "outputs": [],
   "source": [],
   "metadata": {
    "collapsed": false
   }
  }
 ],
 "metadata": {
  "kernelspec": {
   "display_name": "Python 3",
   "language": "python",
   "name": "python3"
  },
  "language_info": {
   "codemirror_mode": {
    "name": "ipython",
    "version": 2
   },
   "file_extension": ".py",
   "mimetype": "text/x-python",
   "name": "python",
   "nbconvert_exporter": "python",
   "pygments_lexer": "ipython2",
   "version": "2.7.6"
  }
 },
 "nbformat": 4,
 "nbformat_minor": 0
}
