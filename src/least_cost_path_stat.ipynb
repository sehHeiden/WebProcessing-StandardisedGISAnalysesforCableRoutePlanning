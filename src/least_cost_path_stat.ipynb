{
 "cells": [
  {
   "cell_type": "markdown",
   "source": [
    "# General Statistic for Least-Cost-Path QGIS-Plugin"
   ],
   "metadata": {
    "collapsed": false
   }
  },
  {
   "cell_type": "code",
   "execution_count": 14,
   "outputs": [],
   "source": [
    "from pandas import read_csv, DataFrame\n",
    "from geopandas import read_file\n",
    "from sklearn.model_selection import train_test_split\n",
    "from sklearn.linear_model import LinearRegression\n",
    "from sklearn.metrics import r2_score, mean_absolute_error\n",
    "import numpy as np"
   ],
   "metadata": {
    "collapsed": false
   }
  },
  {
   "cell_type": "code",
   "execution_count": 2,
   "outputs": [
    {
     "data": {
      "text/plain": "   Resolution \\m Resolution \\px  all touched  run number  execution time \\s\n0              5  17481 * 11270         True         1.0            2423.87\n1             10    8741 * 5635         True         1.0             421.93\n2             10    8741 * 5635         True         2.0             419.34\n3             50    1749 * 1127         True         1.0              12.69\n4             50    1749 * 1127         True         2.0              12.94",
      "text/html": "<div>\n<style scoped>\n    .dataframe tbody tr th:only-of-type {\n        vertical-align: middle;\n    }\n\n    .dataframe tbody tr th {\n        vertical-align: top;\n    }\n\n    .dataframe thead th {\n        text-align: right;\n    }\n</style>\n<table border=\"1\" class=\"dataframe\">\n  <thead>\n    <tr style=\"text-align: right;\">\n      <th></th>\n      <th>Resolution \\m</th>\n      <th>Resolution \\px</th>\n      <th>all touched</th>\n      <th>run number</th>\n      <th>execution time \\s</th>\n    </tr>\n  </thead>\n  <tbody>\n    <tr>\n      <th>0</th>\n      <td>5</td>\n      <td>17481 * 11270</td>\n      <td>True</td>\n      <td>1.0</td>\n      <td>2423.87</td>\n    </tr>\n    <tr>\n      <th>1</th>\n      <td>10</td>\n      <td>8741 * 5635</td>\n      <td>True</td>\n      <td>1.0</td>\n      <td>421.93</td>\n    </tr>\n    <tr>\n      <th>2</th>\n      <td>10</td>\n      <td>8741 * 5635</td>\n      <td>True</td>\n      <td>2.0</td>\n      <td>419.34</td>\n    </tr>\n    <tr>\n      <th>3</th>\n      <td>50</td>\n      <td>1749 * 1127</td>\n      <td>True</td>\n      <td>1.0</td>\n      <td>12.69</td>\n    </tr>\n    <tr>\n      <th>4</th>\n      <td>50</td>\n      <td>1749 * 1127</td>\n      <td>True</td>\n      <td>2.0</td>\n      <td>12.94</td>\n    </tr>\n  </tbody>\n</table>\n</div>"
     },
     "execution_count": 2,
     "metadata": {},
     "output_type": "execute_result"
    }
   ],
   "source": [
    "stat_data = read_csv('../results/least_cost_paths/execution_time_resolution.csv', sep=';', decimal=',')\n",
    "stat_data.head()"
   ],
   "metadata": {
    "collapsed": false
   }
  },
  {
   "cell_type": "code",
   "execution_count": 3,
   "outputs": [
    {
     "data": {
      "text/plain": "Resolution \\m          int64\nResolution \\px        object\nall touched             bool\nrun number           float64\nexecution time \\s    float64\ndtype: object"
     },
     "execution_count": 3,
     "metadata": {},
     "output_type": "execute_result"
    }
   ],
   "source": [
    "stat_data.dtypes"
   ],
   "metadata": {
    "collapsed": false
   }
  },
  {
   "cell_type": "code",
   "execution_count": 4,
   "outputs": [
    {
     "data": {
      "text/plain": "       Resolution \\m  run number  execution time \\s\ncount      14.000000   13.000000          14.000000\nmean       46.428571    1.384615         478.217857\nstd        39.488488    0.506370         864.955779\nmin         5.000000    1.000000           2.780000\n25%        10.000000    1.000000           5.230000\n50%        50.000000    1.000000          12.815000\n75%        87.500000    2.000000         421.282500\nmax       100.000000    2.000000        2516.900000",
      "text/html": "<div>\n<style scoped>\n    .dataframe tbody tr th:only-of-type {\n        vertical-align: middle;\n    }\n\n    .dataframe tbody tr th {\n        vertical-align: top;\n    }\n\n    .dataframe thead th {\n        text-align: right;\n    }\n</style>\n<table border=\"1\" class=\"dataframe\">\n  <thead>\n    <tr style=\"text-align: right;\">\n      <th></th>\n      <th>Resolution \\m</th>\n      <th>run number</th>\n      <th>execution time \\s</th>\n    </tr>\n  </thead>\n  <tbody>\n    <tr>\n      <th>count</th>\n      <td>14.000000</td>\n      <td>13.000000</td>\n      <td>14.000000</td>\n    </tr>\n    <tr>\n      <th>mean</th>\n      <td>46.428571</td>\n      <td>1.384615</td>\n      <td>478.217857</td>\n    </tr>\n    <tr>\n      <th>std</th>\n      <td>39.488488</td>\n      <td>0.506370</td>\n      <td>864.955779</td>\n    </tr>\n    <tr>\n      <th>min</th>\n      <td>5.000000</td>\n      <td>1.000000</td>\n      <td>2.780000</td>\n    </tr>\n    <tr>\n      <th>25%</th>\n      <td>10.000000</td>\n      <td>1.000000</td>\n      <td>5.230000</td>\n    </tr>\n    <tr>\n      <th>50%</th>\n      <td>50.000000</td>\n      <td>1.000000</td>\n      <td>12.815000</td>\n    </tr>\n    <tr>\n      <th>75%</th>\n      <td>87.500000</td>\n      <td>2.000000</td>\n      <td>421.282500</td>\n    </tr>\n    <tr>\n      <th>max</th>\n      <td>100.000000</td>\n      <td>2.000000</td>\n      <td>2516.900000</td>\n    </tr>\n  </tbody>\n</table>\n</div>"
     },
     "execution_count": 4,
     "metadata": {},
     "output_type": "execute_result"
    }
   ],
   "source": [
    "stat_data.describe()"
   ],
   "metadata": {
    "collapsed": false
   }
  },
  {
   "cell_type": "code",
   "execution_count": 5,
   "outputs": [],
   "source": [
    "X = np.log2(stat_data['Resolution \\\\m'].values).reshape(-1, 1)\n",
    "y = np.log2(stat_data['execution time \\\\s'].values)"
   ],
   "metadata": {
    "collapsed": false
   }
  },
  {
   "cell_type": "code",
   "execution_count": 6,
   "outputs": [],
   "source": [
    "X_train, X_test, y_train, y_test = train_test_split(X, y, test_size=0.10, random_state=42)"
   ],
   "metadata": {
    "collapsed": false
   }
  },
  {
   "cell_type": "code",
   "execution_count": 7,
   "outputs": [
    {
     "data": {
      "text/plain": "(0.9988503848986976, 0.9972624300029503)"
     },
     "execution_count": 7,
     "metadata": {},
     "output_type": "execute_result"
    }
   ],
   "source": [
    "lin_reg = LinearRegression()\n",
    "lin_reg.fit(X_train, y_train)\n",
    "\n",
    "r2_score(y_train, lin_reg.predict(X_train)), r2_score(y_test, lin_reg.predict(X_test))"
   ],
   "metadata": {
    "collapsed": false
   }
  },
  {
   "cell_type": "code",
   "execution_count": 8,
   "outputs": [
    {
     "data": {
      "text/plain": "array([-2.21510562])"
     },
     "execution_count": 8,
     "metadata": {},
     "output_type": "execute_result"
    }
   ],
   "source": [
    "lin_reg.coef_"
   ],
   "metadata": {
    "collapsed": false
   }
  },
  {
   "cell_type": "code",
   "execution_count": 9,
   "outputs": [
    {
     "data": {
      "text/plain": "array([[27.55369999],\n       [25.55378252],\n       [25.55378252],\n       [20.91058637],\n       [20.91058637],\n       [18.91269056],\n       [18.91269056],\n       [27.55369999],\n       [25.55378252],\n       [25.55378252],\n       [20.91058637],\n       [20.91058637],\n       [18.91269056],\n       [18.91269056]])"
     },
     "execution_count": 9,
     "metadata": {},
     "output_type": "execute_result"
    }
   ],
   "source": [
    "stat_data['Resolution_px'] = stat_data['Resolution \\\\px']\n",
    "products = [eval(x) for x in stat_data['Resolution_px'].to_list()]\n",
    "X2 = np.log2(products).reshape(-1, 1)\n",
    "X2"
   ],
   "metadata": {
    "collapsed": false
   }
  },
  {
   "cell_type": "code",
   "execution_count": 10,
   "outputs": [
    {
     "data": {
      "text/plain": "    Log pixel          Pixel      Log y  Original y\n0   27.553700  17481 * 11270  11.243097     2423.87\n1   25.553783    8741 * 5635   8.720860      421.93\n2   25.553783    8741 * 5635   8.711977      419.34\n3   20.910586    1749 * 1127   3.665620       12.69\n4   20.910586    1749 * 1127   3.693766       12.94\n5   18.912691      875 * 564   1.594549        3.02\n6   18.912691      875 * 564   1.632268        3.10\n7   27.553700  17481 * 11270  11.297432     2516.90\n8   25.553783    8741 * 5635   8.688810      412.66\n9   25.553783    8741 * 5635   8.778701      439.19\n10  20.910586    1749 * 1127   3.594549       12.08\n11  20.910586    1749 * 1127   3.538538       11.62\n12  18.912691      875 * 564   1.475085        2.78\n13  18.912691      875 * 564   1.550901        2.93",
      "text/html": "<div>\n<style scoped>\n    .dataframe tbody tr th:only-of-type {\n        vertical-align: middle;\n    }\n\n    .dataframe tbody tr th {\n        vertical-align: top;\n    }\n\n    .dataframe thead th {\n        text-align: right;\n    }\n</style>\n<table border=\"1\" class=\"dataframe\">\n  <thead>\n    <tr style=\"text-align: right;\">\n      <th></th>\n      <th>Log pixel</th>\n      <th>Pixel</th>\n      <th>Log y</th>\n      <th>Original y</th>\n    </tr>\n  </thead>\n  <tbody>\n    <tr>\n      <th>0</th>\n      <td>27.553700</td>\n      <td>17481 * 11270</td>\n      <td>11.243097</td>\n      <td>2423.87</td>\n    </tr>\n    <tr>\n      <th>1</th>\n      <td>25.553783</td>\n      <td>8741 * 5635</td>\n      <td>8.720860</td>\n      <td>421.93</td>\n    </tr>\n    <tr>\n      <th>2</th>\n      <td>25.553783</td>\n      <td>8741 * 5635</td>\n      <td>8.711977</td>\n      <td>419.34</td>\n    </tr>\n    <tr>\n      <th>3</th>\n      <td>20.910586</td>\n      <td>1749 * 1127</td>\n      <td>3.665620</td>\n      <td>12.69</td>\n    </tr>\n    <tr>\n      <th>4</th>\n      <td>20.910586</td>\n      <td>1749 * 1127</td>\n      <td>3.693766</td>\n      <td>12.94</td>\n    </tr>\n    <tr>\n      <th>5</th>\n      <td>18.912691</td>\n      <td>875 * 564</td>\n      <td>1.594549</td>\n      <td>3.02</td>\n    </tr>\n    <tr>\n      <th>6</th>\n      <td>18.912691</td>\n      <td>875 * 564</td>\n      <td>1.632268</td>\n      <td>3.10</td>\n    </tr>\n    <tr>\n      <th>7</th>\n      <td>27.553700</td>\n      <td>17481 * 11270</td>\n      <td>11.297432</td>\n      <td>2516.90</td>\n    </tr>\n    <tr>\n      <th>8</th>\n      <td>25.553783</td>\n      <td>8741 * 5635</td>\n      <td>8.688810</td>\n      <td>412.66</td>\n    </tr>\n    <tr>\n      <th>9</th>\n      <td>25.553783</td>\n      <td>8741 * 5635</td>\n      <td>8.778701</td>\n      <td>439.19</td>\n    </tr>\n    <tr>\n      <th>10</th>\n      <td>20.910586</td>\n      <td>1749 * 1127</td>\n      <td>3.594549</td>\n      <td>12.08</td>\n    </tr>\n    <tr>\n      <th>11</th>\n      <td>20.910586</td>\n      <td>1749 * 1127</td>\n      <td>3.538538</td>\n      <td>11.62</td>\n    </tr>\n    <tr>\n      <th>12</th>\n      <td>18.912691</td>\n      <td>875 * 564</td>\n      <td>1.475085</td>\n      <td>2.78</td>\n    </tr>\n    <tr>\n      <th>13</th>\n      <td>18.912691</td>\n      <td>875 * 564</td>\n      <td>1.550901</td>\n      <td>2.93</td>\n    </tr>\n  </tbody>\n</table>\n</div>"
     },
     "execution_count": 10,
     "metadata": {},
     "output_type": "execute_result"
    }
   ],
   "source": [
    "DataFrame({'Log pixel': np.log2(products),'Pixel':stat_data['Resolution \\\\px'], 'Log y': y, 'Original y': stat_data['execution time \\\\s']})"
   ],
   "metadata": {
    "collapsed": false
   }
  },
  {
   "cell_type": "code",
   "execution_count": 11,
   "outputs": [],
   "source": [
    "X2_train, X2_test, y2_train, y2_test = train_test_split(np.log2(products).reshape(-1, 1), y, test_size=0.10, random_state=42)"
   ],
   "metadata": {
    "collapsed": false
   }
  },
  {
   "cell_type": "code",
   "execution_count": 12,
   "outputs": [
    {
     "data": {
      "text/plain": "(39.13992603933185, 41.40341266893853)"
     },
     "execution_count": 12,
     "metadata": {},
     "output_type": "execute_result"
    }
   ],
   "source": [
    "lin_reg2 = LinearRegression()\n",
    "lin_reg2.fit(X2_train, y2_train)\n",
    "\n",
    "mean_absolute_error(y2_train, lin_reg.predict(X2_train)), mean_absolute_error(y2_test, lin_reg.predict(X2_test))"
   ],
   "metadata": {
    "collapsed": false
   }
  },
  {
   "cell_type": "code",
   "execution_count": 13,
   "outputs": [
    {
     "data": {
      "text/plain": "array([1.10790803])"
     },
     "execution_count": 13,
     "metadata": {},
     "output_type": "execute_result"
    }
   ],
   "source": [
    "lin_reg2.coef_"
   ],
   "metadata": {
    "collapsed": false
   }
  },
  {
   "cell_type": "markdown",
   "source": [
    "# Statistics over the aggregated costs"
   ],
   "metadata": {
    "collapsed": false
   }
  },
  {
   "cell_type": "code",
   "execution_count": 16,
   "outputs": [],
   "source": [
    "least_cost_path_5_false = read_file(\"../results/least_cost_paths/least_cost_path_test_points_res_5_al_false.gpkg\")\n",
    "least_cost_path_5_true = read_file(\"../results/least_cost_paths/least_cost_path_test_points_res_5_al_true.gpkg\")\n",
    "\n",
    "least_cost_path_10_false = read_file(\"../results/least_cost_paths/least_cost_path_test_points_res_10_al_false.gpkg\")\n",
    "least_cost_path_10_true = read_file(\"../results/least_cost_paths/least_cost_path_test_points_res_10_al_true.gpkg\")\n",
    "\n",
    "least_cost_path_50_false = read_file(\"../results/least_cost_paths/least_cost_path_test_points_res_50_al_false.gpkg\")\n",
    "least_cost_path_50_true = read_file(\"../results/least_cost_paths/least_cost_path_test_points_res_50_al_true.gpkg\")\n",
    "\n",
    "least_cost_path_100_false = read_file(\"../results/least_cost_paths/least_cost_path_test_points_res_100_al_false.gpkg\")\n",
    "least_cost_path_100_true = read_file(\"../results/least_cost_paths/least_cost_path_test_points_res_100_al_true.gpkg\")"
   ],
   "metadata": {
    "collapsed": false
   }
  },
  {
   "cell_type": "code",
   "execution_count": 37,
   "outputs": [],
   "source": [
    "X = np.log2(np.array([5, 10, 50, 100]).reshape(-1, 1))\n",
    "y_false = np.log2(np.array([least_cost_path_5_false['total cost'],\n",
    "           least_cost_path_10_false['total cost'],\n",
    "           least_cost_path_50_false['total cost'],\n",
    "           least_cost_path_100_false['total cost'],\n",
    "           ]))\n",
    "\n",
    "y_true = np.log2(np.array([least_cost_path_5_true['total cost'],\n",
    "           least_cost_path_10_true['total cost'],\n",
    "           least_cost_path_50_true['total cost'],\n",
    "           least_cost_path_100_true['total cost'],\n",
    "           ]))"
   ],
   "metadata": {
    "collapsed": false
   }
  },
  {
   "cell_type": "code",
   "execution_count": 38,
   "outputs": [
    {
     "data": {
      "text/plain": "(0.9998469990875714, 0.9933976133506535)"
     },
     "execution_count": 38,
     "metadata": {},
     "output_type": "execute_result"
    }
   ],
   "source": [
    "lin_reg_false = LinearRegression()\n",
    "lin_reg_false.fit(X, y_false)\n",
    "\n",
    "lin_reg_true = LinearRegression()\n",
    "lin_reg_true.fit(X, y_true)\n",
    "\n",
    "r2_score(y_false, lin_reg_false.predict(X)), r2_score(y_true, lin_reg_true.predict(X))"
   ],
   "metadata": {
    "collapsed": false
   }
  },
  {
   "cell_type": "code",
   "execution_count": 42,
   "outputs": [
    {
     "data": {
      "text/plain": "(-1.1305292427570628, -0.8531958731641293)"
     },
     "execution_count": 42,
     "metadata": {},
     "output_type": "execute_result"
    }
   ],
   "source": [
    "lin_reg_false.coef_[0][0], lin_reg_true.coef_[0][0]"
   ],
   "metadata": {
    "collapsed": false
   }
  },
  {
   "cell_type": "code",
   "execution_count": null,
   "outputs": [],
   "source": [],
   "metadata": {
    "collapsed": false
   }
  }
 ],
 "metadata": {
  "kernelspec": {
   "display_name": "Python 3",
   "language": "python",
   "name": "python3"
  },
  "language_info": {
   "codemirror_mode": {
    "name": "ipython",
    "version": 2
   },
   "file_extension": ".py",
   "mimetype": "text/x-python",
   "name": "python",
   "nbconvert_exporter": "python",
   "pygments_lexer": "ipython2",
   "version": "2.7.6"
  }
 },
 "nbformat": 4,
 "nbformat_minor": 0
}
